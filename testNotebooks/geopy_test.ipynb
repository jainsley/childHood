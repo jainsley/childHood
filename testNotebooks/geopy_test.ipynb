{
 "metadata": {
  "name": "",
  "signature": "sha256:49b809ac16c0a78d450568a8e7852cff029f958af882651ce2cf3cca704d2cd0"
 },
 "nbformat": 3,
 "nbformat_minor": 0,
 "worksheets": [
  {
   "cells": [
    {
     "cell_type": "code",
     "collapsed": false,
     "input": [
      "from geopy.geocoders import Nominatim\n",
      "\n",
      "geolocator = Nominatim()\n",
      "\n",
      "location = geolocator.geocode('175 5th Avenue NYC')\n",
      "\n",
      "print(location.address)\n",
      "\n",
      "print(location.latitude, location.longitude)\n",
      "\n",
      "print(location.raw)"
     ],
     "language": "python",
     "metadata": {},
     "outputs": [
      {
       "output_type": "stream",
       "stream": "stdout",
       "text": [
        "175, 5th Avenue, Wyckoff Gardens, Brooklyn, Kings, NYC, New York, 11217, United States of America\n",
        "(40.6773494444444, -73.9797032222222)\n",
        "{u'display_name': u'175, 5th Avenue, Wyckoff Gardens, Brooklyn, Kings, NYC, New York, 11217, United States of America', u'importance': 0.421, u'place_id': u'8213390249', u'lon': u'-73.9797032222222', u'lat': u'40.6773494444444', u'licence': u'Data \\xa9 OpenStreetMap contributors, ODbL 1.0. http://www.openstreetmap.org/copyright', u'boundingbox': [u'40.677299444444', u'40.677399444444', u'-73.979753222222', u'-73.979653222222'], u'type': u'house', u'class': u'place'}\n"
       ]
      }
     ],
     "prompt_number": 3
    },
    {
     "cell_type": "code",
     "collapsed": false,
     "input": [
      "location2 = geolocator.geocode('136 harrison ave boston, ma')\n",
      "\n",
      "print(location2.address)\n",
      "print(location2.latitude, location2.longitude)\n",
      "print(location2.raw)"
     ],
     "language": "python",
     "metadata": {},
     "outputs": [
      {
       "output_type": "stream",
       "stream": "stdout",
       "text": [
        "136, Harrison Avenue, Chinatown, Financial District, Boston, Suffolk County, Massachusetts, 02111, United States of America\n",
        "(42.349978, -71.0616656521739)\n",
        "{u'display_name': u'136, Harrison Avenue, Chinatown, Financial District, Boston, Suffolk County, Massachusetts, 02111, United States of America', u'importance': 0.511, u'place_id': u'7775968387', u'lon': u'-71.0616656521739', u'lat': u'42.349978', u'licence': u'Data \\xa9 OpenStreetMap contributors, ODbL 1.0. http://www.openstreetmap.org/copyright', u'boundingbox': [u'42.349928', u'42.350028', u'-71.061715652174', u'-71.061615652174'], u'type': u'house', u'class': u'place'}\n"
       ]
      }
     ],
     "prompt_number": 6
    },
    {
     "cell_type": "code",
     "collapsed": false,
     "input": [
      "location3 = geolocator.geocode('308 Hemlock St. Brooklyn, NY')\n",
      "print(location3.address)\n",
      "print(location3.latitude, location3.longitude)\n",
      "print(location3.raw)"
     ],
     "language": "python",
     "metadata": {},
     "outputs": [
      {
       "output_type": "stream",
       "stream": "stdout",
       "text": [
        "308, Hemlock Street, City Line, Kings County, NYC, New York, 11208, United States of America\n",
        "(40.6823384, -73.8710495531716)\n",
        "{u'display_name': u'308, Hemlock Street, City Line, Kings County, NYC, New York, 11208, United States of America', u'importance': 0.411, u'place_id': u'9151259527', u'lon': u'-73.8710495531716', u'lat': u'40.6823384', u'osm_type': u'way', u'licence': u'Data \\xa9 OpenStreetMap contributors, ODbL 1.0. http://www.openstreetmap.org/copyright', u'osm_id': u'247480323', u'boundingbox': [u'40.6822967529297', u'40.6823768615723', u'-73.8711471557617', u'-73.8709487915039'], u'type': u'house', u'class': u'place'}\n"
       ]
      }
     ],
     "prompt_number": 7
    },
    {
     "cell_type": "code",
     "collapsed": false,
     "input": [
      "location4 = geolocator.geocode('HUGUENOT AVE AND WOODROW RD')\n",
      "print(location4.address)\n",
      "print(location4.latitude, location4.longitude)\n",
      "print(location4.raw)"
     ],
     "language": "python",
     "metadata": {},
     "outputs": [
      {
       "output_type": "stream",
       "stream": "stdout",
       "text": [
        "Huguenot Avenue, Woodrow, Richmond, NYC, New York, 10312, United States of America\n",
        "(40.5445693, -74.1980119)\n",
        "{u'display_name': u'Huguenot Avenue, Woodrow, Richmond, NYC, New York, 10312, United States of America', u'importance': 0.4, u'place_id': u'45172931', u'lon': u'-74.1980119', u'lat': u'40.5445693', u'osm_type': u'way', u'licence': u'Data \\xa9 OpenStreetMap contributors, ODbL 1.0. http://www.openstreetmap.org/copyright', u'osm_id': u'38096500', u'boundingbox': [u'40.5333061218262', u'40.5560417175293', u'-74.2032165527344', u'-74.1924591064453'], u'type': u'tertiary', u'class': u'highway'}\n"
       ]
      }
     ],
     "prompt_number": 6
    },
    {
     "cell_type": "markdown",
     "metadata": {},
     "source": [
      "Seems to time out sometimes. Repeatedly running the above code block does not work consistently."
     ]
    }
   ],
   "metadata": {}
  }
 ]
}