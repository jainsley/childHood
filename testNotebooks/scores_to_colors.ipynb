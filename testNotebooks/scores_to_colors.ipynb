{
 "metadata": {
  "name": "",
  "signature": "sha256:f7766da0616d944ae14498aecfd2b5cbfa95ae91d890dc73601cd4dd3e4214fb"
 },
 "nbformat": 3,
 "nbformat_minor": 0,
 "worksheets": [
  {
   "cells": [
    {
     "cell_type": "code",
     "collapsed": false,
     "input": [
      "def convertScore(score):\n",
      "    if score <= 20:\n",
      "        scoreValue = \"Very Low\"\n",
      "    elif score > 20 and score <= 40:\n",
      "        scoreValue = \"Low\"\n",
      "    elif score > 40 and score <= 60:\n",
      "        scoreValue = \"Average\"\n",
      "    elif score > 60 and score <= 80:\n",
      "        scoreValue = \"High\"\n",
      "    elif score > 80:\n",
      "        scoreValue = \"Very High\"\n",
      "    return scoreValue"
     ],
     "language": "python",
     "metadata": {},
     "outputs": [],
     "prompt_number": 21
    },
    {
     "cell_type": "code",
     "collapsed": false,
     "input": [
      "value = convertScore(81)"
     ],
     "language": "python",
     "metadata": {},
     "outputs": [],
     "prompt_number": 22
    },
    {
     "cell_type": "code",
     "collapsed": false,
     "input": [
      "def valueColor(score, scoreType):\n",
      "    goodColors = {\"Very Low\" : \"FF0000\",\n",
      "                  \"Low\" : \"CC0000\",\n",
      "                  \"Average\" : \"#FFFFFF\",\n",
      "                  \"High\" : \"#00CC00\",\n",
      "                  \"Very High\" : \"#00FF00\"}\n",
      "\n",
      "    badColors = {\"Very Low\" : \"00FF00\",\n",
      "                  \"Low\" : \"00CC00\",\n",
      "                  \"Average\" : \"#FFFFFF\",\n",
      "                  \"High\" : \"#CC0000\",\n",
      "                  \"Very High\" : \"#FF0000\"}\n",
      "    \n",
      "    if scoreType = 'bad':\n",
      "        return [convertScore(score), badColors[convertScore(score)]]\n",
      "    elif scoreType = 'good':\n",
      "        return [convertScore(score), goodColors[convertScore(score)]]"
     ],
     "language": "python",
     "metadata": {},
     "outputs": [],
     "prompt_number": 15
    },
    {
     "cell_type": "code",
     "collapsed": false,
     "input": [
      "print goodColors[convertScore(81)], badColors[convertScore(81)]"
     ],
     "language": "python",
     "metadata": {},
     "outputs": [
      {
       "output_type": "stream",
       "stream": "stdout",
       "text": [
        "#00FF00 #FF0000\n"
       ]
      }
     ],
     "prompt_number": 23
    }
   ],
   "metadata": {}
  }
 ]
}