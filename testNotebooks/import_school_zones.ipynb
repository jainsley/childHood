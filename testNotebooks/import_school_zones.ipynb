{
 "metadata": {
  "name": "",
  "signature": "sha256:e1f101a1371dbf54b2d6e0b67ecb76366846f85e7aa7eeeff4b05000e37ddd70"
 },
 "nbformat": 3,
 "nbformat_minor": 0,
 "worksheets": [
  {
   "cells": [
    {
     "cell_type": "code",
     "collapsed": false,
     "input": [
      "#Import packages\n",
      "import pymongo\n",
      "from pymongo import MongoClient\n",
      "import json"
     ],
     "language": "python",
     "metadata": {},
     "outputs": [],
     "prompt_number": 1
    },
    {
     "cell_type": "code",
     "collapsed": false,
     "input": [
      "#Set up mongoDB connection\n",
      "client = MongoClient()\n",
      "db = client.schoolDB"
     ],
     "language": "python",
     "metadata": {},
     "outputs": [],
     "prompt_number": 2
    },
    {
     "cell_type": "code",
     "collapsed": false,
     "input": [
      "#Function to read in school geojson data and insert it into a mongoDB database\n",
      "def import_geojson_mongoDB(geo_file, coll):\n",
      "    \n",
      "    \"\"\"This function will read in data in the form of geosjon and then insert it into a specified mongoDB database.\"\"\"\n",
      "    \n",
      "    #Read in geojson data\n",
      "    with open(geo_file) as f:\n",
      "        json_file = json.load(f)\n",
      "        \n",
      "    #Import geojson data to specified collection\n",
      "    for i in json_file['features']:\n",
      "        db[coll].insert(i)"
     ],
     "language": "python",
     "metadata": {},
     "outputs": [],
     "prompt_number": 4
    },
    {
     "cell_type": "code",
     "collapsed": false,
     "input": [
      "#Paths to geojson data by school type\n",
      "es_path = './data/es_zones_2013_2014.geojson'\n",
      "ms_path = './data/ms_zones_2013_2014.geojson'\n",
      "hs_path = './data/hs_zones_2013_2014.geojson'"
     ],
     "language": "python",
     "metadata": {},
     "outputs": [],
     "prompt_number": 29
    },
    {
     "cell_type": "code",
     "collapsed": false,
     "input": [
      "#Import data for each school type\n",
      "#ONLY NEEDS TO BE DONE ONCE\n",
      "#import_geojson_mongoDB(es_path, 'es_zones')\n",
      "#import_geojson_mongoDB(ms_path, 'ms_zones')\n",
      "#import_geojson_mongoDB(hs_path, 'hs_zones')"
     ],
     "language": "python",
     "metadata": {},
     "outputs": [],
     "prompt_number": 46
    },
    {
     "cell_type": "code",
     "collapsed": false,
     "input": [
      "db.collection_names()"
     ],
     "language": "python",
     "metadata": {},
     "outputs": [
      {
       "metadata": {},
       "output_type": "pyout",
       "prompt_number": 3,
       "text": [
        "[u'system.indexes', u'es_zones', u'ms_zones', u'hs_zones']"
       ]
      }
     ],
     "prompt_number": 3
    },
    {
     "cell_type": "code",
     "collapsed": false,
     "input": [
      "#Read in all school geojson files\n",
      "with open(es_path) as f:\n",
      "        es_json_file = json.load(f)\n",
      "with open(ms_path) as f:\n",
      "        ms_json_file = json.load(f)\n",
      "with open(hs_path) as f:\n",
      "        hs_json_file = json.load(f)"
     ],
     "language": "python",
     "metadata": {},
     "outputs": []
    },
    {
     "cell_type": "code",
     "collapsed": false,
     "input": [
      "#Add matching entries to a dict, output just the geometry.\n",
      "item_output = {}\n",
      "for item in db.es_zones.find({'properties.esid_no': 386}):\n",
      "    item_output.update(item)\n",
      "\n",
      "if item_output:\n",
      "    print item_output['geometry']\n",
      "else:\n",
      "    print('No match.')"
     ],
     "language": "python",
     "metadata": {},
     "outputs": [
      {
       "output_type": "stream",
       "stream": "stdout",
       "text": [
        "{u'type': u'MultiPolygon', u'coordinates': [[[[-73.861831, 40.764573], [-73.862574, 40.764187], [-73.863367, 40.763742], [-73.864094, 40.763334], [-73.864823, 40.762929], [-73.866323, 40.76448], [-73.865594, 40.764887], [-73.866752, 40.766091], [-73.866026, 40.766496], [-73.865276, 40.766938], [-73.864331, 40.767485], [-73.863437, 40.766621], [-73.863402, 40.766456], [-73.863218, 40.766251], [-73.862861, 40.765846], [-73.861831, 40.764573]]]]}\n"
       ]
      }
     ],
     "prompt_number": 5
    },
    {
     "cell_type": "code",
     "collapsed": false,
     "input": [
      "coords = {'lat':40.68231,'lng':-73.871108}\n",
      "coords['lat']"
     ],
     "language": "python",
     "metadata": {},
     "outputs": [
      {
       "metadata": {},
       "output_type": "pyout",
       "prompt_number": 24,
       "text": [
        "40.68231"
       ]
      }
     ],
     "prompt_number": 24
    },
    {
     "cell_type": "code",
     "collapsed": false,
     "input": [
      "query = {'geometry' : { '$geoIntersects':{ '$geometry':{'type':'Point', 'coordinates':[coords['lng'],coords['lat']]}}}}"
     ],
     "language": "python",
     "metadata": {},
     "outputs": [],
     "prompt_number": 25
    },
    {
     "cell_type": "code",
     "collapsed": false,
     "input": [
      "for item in geoms2.find(query):\n",
      "    print item"
     ],
     "language": "python",
     "metadata": {},
     "outputs": [
      {
       "output_type": "stream",
       "stream": "stdout",
       "text": [
        "{u'geometry': {u'type': u'MultiPolygon', u'coordinates': [[[[-73.866303, 40.683189], [-73.86716, 40.68294], [-73.86814, 40.682665], [-73.869019, 40.682413], [-73.869808, 40.682187], [-73.870716, 40.68193], [-73.871562, 40.681684], [-73.872187, 40.683649], [-73.872376, 40.684271], [-73.872554, 40.68484], [-73.872739, 40.68541], [-73.87293, 40.686027], [-73.873111, 40.686601], [-73.873222, 40.68694], [-73.873448, 40.687594], [-73.873488, 40.687705], [-73.873719, 40.688364], [-73.873887, 40.688833], [-73.874054, 40.689298], [-73.872603, 40.689921], [-73.871729, 40.690277], [-73.870948, 40.690502], [-73.870129, 40.690709], [-73.869026, 40.690987], [-73.868553, 40.691099], [-73.868059, 40.691184], [-73.867909, 40.690476], [-73.867768, 40.689803], [-73.867623, 40.689145], [-73.867461, 40.688415], [-73.867281, 40.687749], [-73.867018, 40.68683], [-73.866871, 40.686331], [-73.866598, 40.68527], [-73.866523, 40.684635], [-73.866504, 40.684474], [-73.866303, 40.683189], [-73.866303, 40.683189]]]]}, u'_id': ObjectId('53e26c88c6118d17de1117c1'), u'type': u'Feature', u'properties': {u'zoned_dist': 19, u'boro_num': 3, u'edit_date': None, u'dbn': u'19K007', u'creat_date': u'08/07/2001', u'created_at': u'2014-08-04T22:43:53Z', u'cartodb_id': 151, u'updated_at': u'2014-08-04T22:43:53Z', u'label': u'7', u'boro': u'BK', u'shape_leng': 9178.72981544, u'shape_area': 4907849.76915, u'remarks': None, u'esid_no': 207, u'schooldist': 19, u'initials': u'BG'}}\n"
       ]
      }
     ],
     "prompt_number": 26
    },
    {
     "cell_type": "code",
     "collapsed": false,
     "input": [
      "query_esid = []\n",
      "for item in geoms2.find({'properties.dbn': '30Q127'}):\n",
      "    query_esid.append(item['properties']['esid_no'])\n",
      "query_esid"
     ],
     "language": "python",
     "metadata": {},
     "outputs": [
      {
       "metadata": {},
       "output_type": "pyout",
       "prompt_number": 14,
       "text": [
        "[386, 401, 387]"
       ]
      }
     ],
     "prompt_number": 14
    },
    {
     "cell_type": "code",
     "collapsed": false,
     "input": [
      "query_dbn = {}\n",
      "for item in geoms2.find(query):\n",
      "    query_dbn = item['properties']['dbn']\n",
      "query_dbn"
     ],
     "language": "python",
     "metadata": {},
     "outputs": [
      {
       "metadata": {},
       "output_type": "pyout",
       "prompt_number": 15,
       "text": [
        "u'19K007'"
       ]
      }
     ],
     "prompt_number": 15
    },
    {
     "cell_type": "code",
     "collapsed": false,
     "input": [
      "import MySQLdb as mdb\n",
      "\n",
      "#Open connection to mysql database\n",
      "censusCon = mdb.connect('localhost','','','censusdb')\n",
      "cursor = censusCon.cursor()"
     ],
     "language": "python",
     "metadata": {},
     "outputs": [],
     "prompt_number": 16
    },
    {
     "cell_type": "code",
     "collapsed": false,
     "input": [
      "#cursor.execute(\"SELECT * FROM school_name WHERE ats_code=?\", query_dbn)\n",
      "cursor.execute(\"SELECT * FROM school_name WHERE ats_code = %s\", [query_dbn])\n",
      "print cursor.fetchone()[6]"
     ],
     "language": "python",
     "metadata": {},
     "outputs": [
      {
       "output_type": "stream",
       "stream": "stdout",
       "text": [
        "P.S. 007 ABRAHAM LINCOLN\n"
       ]
      }
     ],
     "prompt_number": 28
    }
   ],
   "metadata": {}
  }
 ]
}