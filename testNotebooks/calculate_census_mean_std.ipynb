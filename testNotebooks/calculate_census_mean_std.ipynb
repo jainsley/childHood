{
 "metadata": {
  "name": "",
  "signature": "sha256:193b04af5ad8c21c7120e9fd3134cd9581c82328e5c2c466270aee2caa28699f"
 },
 "nbformat": 3,
 "nbformat_minor": 0,
 "worksheets": [
  {
   "cells": [
    {
     "cell_type": "code",
     "collapsed": false,
     "input": [
      "#Import packages\n",
      "import pymongo\n",
      "from pymongo import MongoClient\n",
      "import pandas as pd\n",
      "import MySQLdb as mdb\n",
      "import pickle\n",
      "import googleAPIFunctions as gf\n",
      "import numpy as np\n",
      "\n",
      "censusSample = pickle.load(open(\"neighborhoods_sample_census.p\", \"rb\"))"
     ],
     "language": "python",
     "metadata": {},
     "outputs": [],
     "prompt_number": 4
    },
    {
     "cell_type": "code",
     "collapsed": false,
     "input": [
      "censusFiltered = [x for x in censusSample if x != 'None']\n",
      "\n",
      "censusDf = pd.DataFrame(censusFiltered)\n",
      "\n",
      "censusDf.columns = ['Proportion','AgeRange','Neighborhood','Borough']"
     ],
     "language": "python",
     "metadata": {},
     "outputs": [],
     "prompt_number": 5
    },
    {
     "cell_type": "code",
     "collapsed": false,
     "input": [
      "censusNYCGrouped = censusDf.groupby(['AgeRange']).aggregate([np.mean, np.std])"
     ],
     "language": "python",
     "metadata": {},
     "outputs": [],
     "prompt_number": 6
    },
    {
     "cell_type": "code",
     "collapsed": false,
     "input": [
      "#Reset index before loading into mysql database\n",
      "censusNYCungroup = censusNYCGrouped.reset_index()"
     ],
     "language": "python",
     "metadata": {},
     "outputs": [],
     "prompt_number": 13
    },
    {
     "cell_type": "code",
     "collapsed": false,
     "input": [
      "censusNYCMeanStd = pd.DataFrame()\n",
      "censusNYCMeanStd['AgeRange'] = censusNYCungroup['AgeRange']\n",
      "censusNYCMeanStd['mean'] = censusNYCungroup['Proportion']['mean']\n",
      "censusNYCMeanStd['std'] = censusNYCungroup['Proportion']['std']"
     ],
     "language": "python",
     "metadata": {},
     "outputs": [],
     "prompt_number": 14
    },
    {
     "cell_type": "code",
     "collapsed": false,
     "input": [
      "#This is small enough to be hardcoded in the app\n",
      "censusNYCMeanStd"
     ],
     "language": "python",
     "metadata": {},
     "outputs": [
      {
       "html": [
        "<div style=\"max-height:1000px;max-width:1500px;overflow:auto;\">\n",
        "<table border=\"1\" class=\"dataframe\">\n",
        "  <thead>\n",
        "    <tr style=\"text-align: right;\">\n",
        "      <th></th>\n",
        "      <th>AgeRange</th>\n",
        "      <th>mean</th>\n",
        "      <th>std</th>\n",
        "    </tr>\n",
        "  </thead>\n",
        "  <tbody>\n",
        "    <tr>\n",
        "      <th>0</th>\n",
        "      <td>   LessThanNine</td>\n",
        "      <td> 0.115852</td>\n",
        "      <td> 0.030868</td>\n",
        "    </tr>\n",
        "    <tr>\n",
        "      <th>1</th>\n",
        "      <td>  TenToFourteen</td>\n",
        "      <td> 0.054890</td>\n",
        "      <td> 0.018394</td>\n",
        "    </tr>\n",
        "    <tr>\n",
        "      <th>2</th>\n",
        "      <td> TenToSeventeen</td>\n",
        "      <td> 0.090276</td>\n",
        "      <td> 0.028859</td>\n",
        "    </tr>\n",
        "  </tbody>\n",
        "</table>\n",
        "</div>"
       ],
       "metadata": {},
       "output_type": "pyout",
       "prompt_number": 17,
       "text": [
        "         AgeRange      mean       std\n",
        "0    LessThanNine  0.115852  0.030868\n",
        "1   TenToFourteen  0.054890  0.018394\n",
        "2  TenToSeventeen  0.090276  0.028859"
       ]
      }
     ],
     "prompt_number": 17
    },
    {
     "cell_type": "code",
     "collapsed": false,
     "input": [
      "#Group by more factors to calculate the mean and std dev of age range in each neighborhood\n",
      "censusGrouped = censusDf.groupby(['AgeRange','Neighborhood','Borough']).aggregate([np.mean, np.std])"
     ],
     "language": "python",
     "metadata": {},
     "outputs": [],
     "prompt_number": 24
    },
    {
     "cell_type": "code",
     "collapsed": false,
     "input": [
      "#Reset index before loading into mysql database\n",
      "censusMeanStd = censusGrouped.reset_index()"
     ],
     "language": "python",
     "metadata": {},
     "outputs": [],
     "prompt_number": 11
    },
    {
     "cell_type": "code",
     "collapsed": false,
     "input": [
      "#Reorder censusMeanStd columns\n",
      "censusMeanStdSQL = pd.DataFrame()\n",
      "censusMeanStdSQL['AgeRange'] = censusMeanStd['AgeRange']\n",
      "censusMeanStdSQL['Neighborhood'] = censusMeanStd['Neighborhood']\n",
      "censusMeanStdSQL['Borough'] = censusMeanStd['Borough']\n",
      "censusMeanStdSQL['mean'] = censusMeanStd['Proportion']['mean']\n",
      "censusMeanStdSQL['std'] = censusMeanStd['Proportion']['std']"
     ],
     "language": "python",
     "metadata": {},
     "outputs": [],
     "prompt_number": 44
    },
    {
     "cell_type": "code",
     "collapsed": false,
     "input": [
      "censusMeanStdSQL.shape"
     ],
     "language": "python",
     "metadata": {},
     "outputs": [
      {
       "metadata": {},
       "output_type": "pyout",
       "prompt_number": 46,
       "text": [
        "(789, 5)"
       ]
      }
     ],
     "prompt_number": 46
    },
    {
     "cell_type": "code",
     "collapsed": false,
     "input": [
      "#Save the census data frame into a pickle file.\n",
      "#pickle.dump(censusMeanStdSQL, open(\"NYC_census.p\", \"wb\"))"
     ],
     "language": "python",
     "metadata": {},
     "outputs": [],
     "prompt_number": 47
    },
    {
     "cell_type": "code",
     "collapsed": false,
     "input": [
      "#Open connection to mysql database\n",
      "censusCon = mdb.connect('localhost','','','censusdb')\n",
      "cursor = censusCon.cursor()"
     ],
     "language": "python",
     "metadata": {},
     "outputs": [],
     "prompt_number": 48
    },
    {
     "cell_type": "code",
     "collapsed": false,
     "input": [
      "censusMeanStdFixed = censusMeanStdSQL.where(pd.notnull(censusMeanStdSQL), None)"
     ],
     "language": "python",
     "metadata": {},
     "outputs": [],
     "prompt_number": 49
    },
    {
     "cell_type": "code",
     "collapsed": false,
     "input": [
      "#Write dataframe to mysql database - ONLY NEEDS TO BE DONE ONCE\n",
      "#censusMeanStdFixed.to_sql(con=censusCon, name='censusAgg', if_exists='replace', flavor='mysql')"
     ],
     "language": "python",
     "metadata": {},
     "outputs": [],
     "prompt_number": 51
    },
    {
     "cell_type": "code",
     "collapsed": false,
     "input": [
      "#cursor.execute(\"SHOW COLUMNS FROM censusAgg\")\n",
      "hood = 'Cypress Hills'\n",
      "borough = 'Brooklyn'\n",
      "\n",
      "#sql_query = \"SELECT mean,std FROM censusAgg WHERE Neighborhood == %s AND Borough == %s\"\n",
      "cursor.execute(\"SELECT AgeRange,mean,std FROM censusAgg WHERE Neighborhood = %s AND Borough = %s\", (hood, borough))\n",
      "#cursor.execute(sql_query, (hood, borough))\n",
      "test = list(cursor.fetchall())\n",
      "test[0][1], test[0][2], test[1][1], test[1][2], test[2][1], test[2][2]"
     ],
     "language": "python",
     "metadata": {},
     "outputs": [
      {
       "metadata": {},
       "output_type": "pyout",
       "prompt_number": 74,
       "text": [
        "('0.149644089449575',\n",
        " '0.0106909808013635',\n",
        " '0.0779064121682382',\n",
        " '0.00752347073224303',\n",
        " '0.131671283922746',\n",
        " '0.0110882624565351')"
       ]
      }
     ],
     "prompt_number": 74
    }
   ],
   "metadata": {}
  }
 ]
}