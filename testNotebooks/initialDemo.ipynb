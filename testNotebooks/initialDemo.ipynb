{
 "metadata": {
  "name": "",
  "signature": "sha256:364a38dbfc95d76fe24b7aa66d8ac5d12b50a45a6b2337e97ce2b3b058df5a91"
 },
 "nbformat": 3,
 "nbformat_minor": 0,
 "worksheets": [
  {
   "cells": [
    {
     "cell_type": "code",
     "collapsed": false,
     "input": [
      "run pyimp.py"
     ],
     "language": "python",
     "metadata": {},
     "outputs": [],
     "prompt_number": 1
    },
    {
     "cell_type": "code",
     "collapsed": false,
     "input": [
      "census = pd.read_csv('./data/census-block-groups-2010-data.csv')\n",
      "list(census.columns.values)"
     ],
     "language": "python",
     "metadata": {},
     "outputs": [
      {
       "metadata": {},
       "output_type": "pyout",
       "prompt_number": 2,
       "text": [
        "['GEOid',\n",
        " 'GEOid2',\n",
        " 'display-label',\n",
        " 'Total_Population',\n",
        " 'Not_Hispanic_or_Latino',\n",
        " 'Not_Hispanic_or_Latino-White_alone',\n",
        " 'Not_Hispanic_or_Latino-Black_or_African_American_alone',\n",
        " 'Not_Hispanic_or_Latino-American_Indian_and_Alaska_Native_alone',\n",
        " 'Not_Hispanic_or_Latino-Asian_alone',\n",
        " 'Not_Hispanic_or_Latino-Native_Hawaiian_and_Other_Pacific_Islander_alone',\n",
        " 'Not_Hispanic_or_Latino-Some_Other_Race_alone',\n",
        " 'Not_Hispanic_or_Latino-Two_or_More_Races',\n",
        " 'Hispanic_or_Latino',\n",
        " 'Hispanic_or_Latino-White_alone',\n",
        " 'Hispanic_or_Latino-Black_or_African_American_alone',\n",
        " 'Hispanic_or_Latino-American_Indian_and_Alaska_Native_alone',\n",
        " 'Hispanic_or_Latino-Asian_alone',\n",
        " 'Hispanic_or_Latino-Native_Hawaiian_and_Other_Pacific_Islander_alone',\n",
        " 'Hispanic_or_Latino-Some_Other_Race_alone',\n",
        " 'Hispanic_or_Latino-Two_or_More_Races',\n",
        " 'Male_Total',\n",
        " 'Male_Under_5',\n",
        " 'Male_5_to_9',\n",
        " 'Male_10_to_14',\n",
        " 'Male_15_to_17',\n",
        " 'Male_18_and_19',\n",
        " 'Male_20',\n",
        " 'Male_21',\n",
        " 'Male_22_to_24',\n",
        " 'Male_25_to_29',\n",
        " 'Male_30_to_34',\n",
        " 'Male_35_to_39',\n",
        " 'Male_40_to_44',\n",
        " 'Male_45_to_49',\n",
        " 'Male_50_to_54',\n",
        " 'Male_55_to_59',\n",
        " 'Male_60_and_61',\n",
        " 'Male_62_to_64',\n",
        " 'Male_65_and_66',\n",
        " 'Male_67_to_69',\n",
        " 'Male_70_to_74',\n",
        " 'Male_75_to_79',\n",
        " 'Male_80_to_84',\n",
        " 'Male_85_and_over',\n",
        " 'Female_Total',\n",
        " 'Female_Under_5',\n",
        " 'Female_5_to_9',\n",
        " 'Female_10_to_14',\n",
        " 'Female_15_to_17',\n",
        " 'Female_18_and_19',\n",
        " 'Female_20',\n",
        " 'Female_21',\n",
        " 'Female_22_to_24',\n",
        " 'Female_25_to_29',\n",
        " 'Female_30_to_34',\n",
        " 'Female_35_to_39',\n",
        " 'Female_40_to_44',\n",
        " 'Female_45_to_49',\n",
        " 'Female_50_to_54',\n",
        " 'Female_55_to_59',\n",
        " 'Female_60_and_61',\n",
        " 'Female_62_to_64',\n",
        " 'Female_65_and_66',\n",
        " 'Female_67_to_69',\n",
        " 'Female_70_to_74',\n",
        " 'Female_75_to_79',\n",
        " 'Female_80_to_84',\n",
        " 'Female_85_and_over',\n",
        " 'Median_age_Both_sexes',\n",
        " 'Median_age_Male',\n",
        " 'Median_age_Female',\n",
        " 'Total_Households',\n",
        " 'Family_households',\n",
        " 'Family_households_Husband-wife_family',\n",
        " 'Family_households_Other_family',\n",
        " 'Family_households_Other_family_Male_householder_no_wife_present',\n",
        " 'Family_households_Other_family_Female_householder_no_husband_present',\n",
        " 'Nonfamily_households',\n",
        " 'Nonfamily_households_Householder_living_alone',\n",
        " 'Nonfamily_households_Householder_not_living_alone',\n",
        " 'Households_with_one_or_more_nonrelatives',\n",
        " 'Households_with_no_nonrelatives',\n",
        " 'Total_Population_in_Group_Quarters',\n",
        " 'Institutionalized_population',\n",
        " 'Institutionalized_population_Correctional_facilities_for_adults',\n",
        " 'Institutionalized_population_Juvenile_facilities',\n",
        " 'Institutionalized_population_Nursing_facilities_Skilled-nursing_facilities',\n",
        " 'Institutionalized_population_Other_institutional_facilities',\n",
        " 'Noninstitutionalized_population_',\n",
        " 'Noninstitutionalized_population_College_University_student_housing',\n",
        " 'Noninstitutionalized_population_Military_quarters',\n",
        " 'Noninstitutionalized_population_Other_noninstitutional_facilities',\n",
        " 'Total_Group_Quarters_Population',\n",
        " 'Male_Group_Quarters_Population',\n",
        " 'Male-Under_18-Group_Quarters_Population',\n",
        " 'Male-Under_18-Institutionalized_population',\n",
        " 'Male-Under_18-Institutionalized_population-Correctional_facilities_for_adults',\n",
        " 'Male-Under_18-Institutionalized_population-Juvenile_facilities',\n",
        " 'Male-Under_18-Institutionalized_population-Nursing_facilities/Skilled-nursing_facilities',\n",
        " 'Male-Under_18-Institutionalized_population-Other_institutional_facilities',\n",
        " 'Male-Under_18-Noninstitutionalized_population',\n",
        " 'Male-Under_18-Noninstitutionalized_population-College/University_student_housing',\n",
        " 'Male-Under_18-Noninstitutionalized_population-Military_quarters',\n",
        " 'Male-Under_18-Noninstitutionalized_population-Other_noninstitutional_facilities',\n",
        " 'Male-18_to_64-Group_Quarters_Population',\n",
        " 'Male-18_to_64-Institutionalized_population',\n",
        " 'Male-18_to_64-Institutionalized_population-Correctional_facilities_for_adults',\n",
        " 'Male-18_to_64-Institutionalized_population-Juvenile_facilities',\n",
        " 'Male-18_to_64-Institutionalized_population-Nursing_facilities/Skilled-nursing_facilities',\n",
        " 'Male-18_to_64-Institutionalized_population-Other_institutional_facilities',\n",
        " 'Male-18_to_64-Noninstitutionalized_population',\n",
        " 'Male-18_to_64-Noninstitutionalized_population-College/University_student_housing',\n",
        " 'Male-18_to_64-Noninstitutionalized_population-Military_quarters',\n",
        " 'Male-18_to_64-Noninstitutionalized_population-Other_noninstitutional_facilities',\n",
        " 'Male-65_and_over-Group_Quarters_Population',\n",
        " 'Male-65_and_over-Institutionalized_population',\n",
        " 'Male-65_and_over-Institutionalized_population-Correctional_facilities_for_adults',\n",
        " 'Male-65_and_over-Institutionalized_population-Juvenile_facilities',\n",
        " 'Male-65_and_over-Institutionalized_population-Nursing_facilities/Skilled-nursing_facilities',\n",
        " 'Male-65_and_over-Institutionalized_population-Other_institutional_facilities',\n",
        " 'Male-65_and_over-Noninstitutionalized_population',\n",
        " 'Male-65_and_over-Noninstitutionalized_population-College/University_student_housing',\n",
        " 'Male-65_and_over-Noninstitutionalized_population-Military_quarters',\n",
        " 'Male-65_and_over-Noninstitutionalized_population-Other_noninstitutional_facilities',\n",
        " 'Female_Group_Quarters_Population',\n",
        " 'Female-Under_18_Group_Quarters_Population',\n",
        " 'Female-Under_18-Institutionalized_population',\n",
        " 'Female-Under_18-Institutionalized_population-Correctional_facilities_for_adults',\n",
        " 'Female-Under_18-Institutionalized_population-Juvenile_facilities',\n",
        " 'Female-Under_18-Institutionalized_population-Nursing_facilities/Skilled-nursing_facilities',\n",
        " 'Female-Under_18-Institutionalized_population-Other_institutional_facilities',\n",
        " 'Female-Under_18-Noninstitutionalized_population',\n",
        " 'Female-Under_18-Noninstitutionalized_population-College/University_student_housing',\n",
        " 'Female-Under_18-Noninstitutionalized_population-Military_quarters',\n",
        " 'Female-Under_18-Noninstitutionalized_population-Other_noninstitutional_facilities',\n",
        " 'Female-18_to_64-Group_Quarters_Population',\n",
        " 'Female-18_to_64-Institutionalized_population',\n",
        " 'Female-18_to_64-Institutionalized_population-Correctional_facilities_for_adults',\n",
        " 'Female-18_to_64-Institutionalized_population-Juvenile_facilities',\n",
        " 'Female-18_to_64-Institutionalized_population-Nursing_facilities/Skilled-nursing_facilities',\n",
        " 'Female-18_to_64-Institutionalized_population-Other_institutional_facilities',\n",
        " 'Female-18_to_64-Noninstitutionalized_population',\n",
        " 'Female-18_to_64-Noninstitutionalized_population-College/University_student_housing',\n",
        " 'Female-18_to_64-Noninstitutionalized_population-Military_quarters',\n",
        " 'Female-18_to_64-Noninstitutionalized_population-Other_noninstitutional_facilities',\n",
        " 'Female-65_and_over-Group_Quarters_Population',\n",
        " 'Female-65_and_over-Institutionalized_population',\n",
        " 'Female-65_and_over-Institutionalized_population-Correctional_facilities_for_adults',\n",
        " 'Female-65_and_over-Institutionalized_population-Juvenile_facilities',\n",
        " 'Female-65_and_over-Institutionalized_population-Nursing_facilities/Skilled-nursing_facilities',\n",
        " 'Female-65_and_over-Institutionalized_population-Other_institutional_facilities',\n",
        " 'Female-65_and_over-Noninstitutionalized_population',\n",
        " 'Female-65_and_over-Noninstitutionalized_population-College/University_student_housing',\n",
        " 'Female-65_and_over-Noninstitutionalized_population-Military_quarters',\n",
        " 'Female-65_and_over-Noninstitutionalized_population-Other_noninstitutional_facilities',\n",
        " 'Total_Housing_Units',\n",
        " 'Occupied_Housing_Units',\n",
        " 'Vacant_Housing_Units',\n",
        " 'Occupied_units_Owned_with_a_mortgage_or_a_loan',\n",
        " 'Occupied_units_Owned_free_and_clear',\n",
        " 'Occupied_units_Renter_occupied',\n",
        " 'Total_population_in_occupied_housing_units',\n",
        " 'Owned_with_a_mortgage_or_a_loan_population',\n",
        " 'Owned_free_and_clear_population',\n",
        " 'Renter_occupied_population',\n",
        " 'Average_household_size_Total',\n",
        " 'Average_household_size_Owner_occupied',\n",
        " 'Average_household_size_Renter_occupied',\n",
        " '1-person_household',\n",
        " '2-person_household',\n",
        " '3-person_household',\n",
        " '4-person_household',\n",
        " '5-person_household',\n",
        " '6-person_household',\n",
        " '7-or-more-person_household']"
       ]
      }
     ],
     "prompt_number": 2
    },
    {
     "cell_type": "code",
     "collapsed": false,
     "input": [
      "maleUnder5 = census.Male_Under_5 / census.Male_Total\n",
      "femaleUnder5 = census.Female_Under_5 / census.Female_Total"
     ],
     "language": "python",
     "metadata": {},
     "outputs": [],
     "prompt_number": 5
    },
    {
     "cell_type": "code",
     "collapsed": false,
     "input": [
      "under5 = pd.DataFrame(dict(maleUnder5 = maleUnder5, femaleUnder5 = femaleUnder5))\n",
      "under5.shape"
     ],
     "language": "python",
     "metadata": {},
     "outputs": [
      {
       "metadata": {},
       "output_type": "pyout",
       "prompt_number": 6,
       "text": [
        "(6494, 2)"
       ]
      }
     ],
     "prompt_number": 6
    },
    {
     "cell_type": "code",
     "collapsed": false,
     "input": [
      "under5munge = under5.replace([np.inf, -np.inf], np.nan).dropna(how='any')\n",
      "under5munge.shape"
     ],
     "language": "python",
     "metadata": {},
     "outputs": [
      {
       "metadata": {},
       "output_type": "pyout",
       "prompt_number": 7,
       "text": [
        "(6247, 2)"
       ]
      }
     ],
     "prompt_number": 7
    },
    {
     "cell_type": "code",
     "collapsed": false,
     "input": [
      "#%pylab inline\n",
      "ggplot(under5munge, aes(x='maleUnder5')) + geom_histogram(colour='steelblue') + theme_bw() + \\\n",
      "scale_x_continuous(limits = [0, 0.35]) + xlab('Males under 5')"
     ],
     "language": "python",
     "metadata": {},
     "outputs": [
      {
       "output_type": "stream",
       "stream": "stdout",
       "text": [
        "Populating the interactive namespace from numpy and matplotlib\n"
       ]
      },
      {
       "output_type": "stream",
       "stream": "stderr",
       "text": [
        "WARNING: pylab import has clobbered these variables: ['xlim', 'ylim']\n",
        "`%matplotlib` prevents importing * from pylab and numpy\n"
       ]
      },
      {
       "metadata": {},
       "output_type": "display_data",
       "png": "[encoded data removed]",
       "text": [
        "<matplotlib.figure.Figure at 0x7fea12782ed0>"
       ]
      },
      {
       "metadata": {},
       "output_type": "pyout",
       "prompt_number": 14,
       "text": [
        "<ggplot: (8790206808737)>"
       ]
      }
     ],
     "prompt_number": 14
    },
    {
     "cell_type": "code",
     "collapsed": false,
     "input": [
      "ggplot(under5munge, aes(x='femaleUnder5')) + geom_histogram(colour='steelblue') + theme_bw() + \\\n",
      "scale_x_continuous(limits = [0, 0.35]) + xlab('Females under 5')"
     ],
     "language": "python",
     "metadata": {},
     "outputs": [
      {
       "metadata": {},
       "output_type": "display_data",
       "png": "[encoded data removed]",
       "text": [
        "<matplotlib.figure.Figure at 0x7fea13876c90>"
       ]
      },
      {
       "metadata": {},
       "output_type": "pyout",
       "prompt_number": 15,
       "text": [
        "<ggplot: (8790207010777)>"
       ]
      }
     ],
     "prompt_number": 15
    },
    {
     "cell_type": "code",
     "collapsed": false,
     "input": [
      "male5to9 = census.Male_5_to_9 / census.Male_Total\n",
      "female5to9 = census.Female_5_to_9 / census.Female_Total"
     ],
     "language": "python",
     "metadata": {},
     "outputs": [],
     "prompt_number": 8
    },
    {
     "cell_type": "code",
     "collapsed": false,
     "input": [
      "fiveTo9 = pd.DataFrame(dict(male5to9 = male5to9, female5to9 = female5to9))\n",
      "fiveTo9.shape"
     ],
     "language": "python",
     "metadata": {},
     "outputs": [
      {
       "metadata": {},
       "output_type": "pyout",
       "prompt_number": 9,
       "text": [
        "(6494, 2)"
       ]
      }
     ],
     "prompt_number": 9
    },
    {
     "cell_type": "code",
     "collapsed": false,
     "input": [
      "fiveTo9munge = fiveTo9.replace([np.inf, -np.inf], np.nan).dropna(how='any')\n",
      "fiveTo9munge.shape"
     ],
     "language": "python",
     "metadata": {},
     "outputs": [
      {
       "metadata": {},
       "output_type": "pyout",
       "prompt_number": 10,
       "text": [
        "(6247, 2)"
       ]
      }
     ],
     "prompt_number": 10
    },
    {
     "cell_type": "code",
     "collapsed": false,
     "input": [
      "ggplot(fiveTo9munge, aes(x='male5to9')) + geom_histogram(colour='steelblue', binwidth = 0.01) + theme_bw() + \\\n",
      "scale_x_continuous(limits = [0, 0.35]) + xlab('Males 5 to 9')"
     ],
     "language": "python",
     "metadata": {},
     "outputs": [
      {
       "metadata": {},
       "output_type": "display_data",
       "png": "[encoded data removed]",
       "text": [
        "<matplotlib.figure.Figure at 0x7fea12663d90>"
       ]
      },
      {
       "metadata": {},
       "output_type": "pyout",
       "prompt_number": 18,
       "text": [
        "<ggplot: (8790206821485)>"
       ]
      }
     ],
     "prompt_number": 18
    },
    {
     "cell_type": "code",
     "collapsed": false,
     "input": [
      "ggplot(fiveTo9munge, aes(x='female5to9')) + geom_histogram(colour='steelblue', binwidth = 0.01) + theme_bw() + \\\n",
      "scale_x_continuous(limits = [0, 0.35]) + xlab('Females under 5')"
     ],
     "language": "python",
     "metadata": {},
     "outputs": [
      {
       "metadata": {},
       "output_type": "display_data",
       "png": "[encoded data removed]",
       "text": [
        "<matplotlib.figure.Figure at 0x7fea13816c90>"
       ]
      },
      {
       "metadata": {},
       "output_type": "pyout",
       "prompt_number": 19,
       "text": [
        "<ggplot: (8790207010789)>"
       ]
      }
     ],
     "prompt_number": 19
    },
    {
     "cell_type": "code",
     "collapsed": false,
     "input": [
      "kidsdf = pd.concat([under5munge, fiveTo9munge], axis=1)\n",
      "kidsdf.shape"
     ],
     "language": "python",
     "metadata": {},
     "outputs": [
      {
       "metadata": {},
       "output_type": "pyout",
       "prompt_number": 11,
       "text": [
        "(6247, 4)"
       ]
      }
     ],
     "prompt_number": 11
    },
    {
     "cell_type": "code",
     "collapsed": false,
     "input": [
      "kidsdfMelt = pd.melt(kidsdf)\n",
      "kidsdfMelt.head()"
     ],
     "language": "python",
     "metadata": {},
     "outputs": [
      {
       "html": [
        "<div style=\"max-height:1000px;max-width:1500px;overflow:auto;\">\n",
        "<table border=\"1\" class=\"dataframe\">\n",
        "  <thead>\n",
        "    <tr style=\"text-align: right;\">\n",
        "      <th></th>\n",
        "      <th>variable</th>\n",
        "      <th>value</th>\n",
        "    </tr>\n",
        "  </thead>\n",
        "  <tbody>\n",
        "    <tr>\n",
        "      <th>0</th>\n",
        "      <td> femaleUnder5</td>\n",
        "      <td> 0.000000</td>\n",
        "    </tr>\n",
        "    <tr>\n",
        "      <th>1</th>\n",
        "      <td> femaleUnder5</td>\n",
        "      <td> 0.068293</td>\n",
        "    </tr>\n",
        "    <tr>\n",
        "      <th>2</th>\n",
        "      <td> femaleUnder5</td>\n",
        "      <td> 0.065903</td>\n",
        "    </tr>\n",
        "    <tr>\n",
        "      <th>3</th>\n",
        "      <td> femaleUnder5</td>\n",
        "      <td> 0.063863</td>\n",
        "    </tr>\n",
        "    <tr>\n",
        "      <th>4</th>\n",
        "      <td> femaleUnder5</td>\n",
        "      <td> 0.062500</td>\n",
        "    </tr>\n",
        "  </tbody>\n",
        "</table>\n",
        "</div>"
       ],
       "metadata": {},
       "output_type": "pyout",
       "prompt_number": 15,
       "text": [
        "       variable     value\n",
        "0  femaleUnder5  0.000000\n",
        "1  femaleUnder5  0.068293\n",
        "2  femaleUnder5  0.065903\n",
        "3  femaleUnder5  0.063863\n",
        "4  femaleUnder5  0.062500"
       ]
      }
     ],
     "prompt_number": 15
    },
    {
     "cell_type": "code",
     "collapsed": false,
     "input": [
      "ggplot(kidsdfMelt,aes(x='value', colour='variable')) + geom_density(size=3) + \\\n",
      "scale_x_continuous(limits = [0, 0.2]) + \\\n",
      "theme_bw() + xlab('proportion of total population') + theme(text=element_text(size=20))"
     ],
     "language": "python",
     "metadata": {},
     "outputs": [
      {
       "metadata": {},
       "output_type": "pyout",
       "prompt_number": 13,
       "text": [
        "<ggplot: (8777646442417)>"
       ]
      }
     ],
     "prompt_number": 13
    },
    {
     "cell_type": "code",
     "collapsed": false,
     "input": [
      "ggplot(kidsdfMelt,aes(x='value', colour='variable')) + geom_density(size=4) + \\\n",
      "scale_x_continuous(limits = [0, 0.2]) + \\\n",
      "theme_bw() + xlab('proportion of total population') + theme(text=element_text(size=20)) + \\\n",
      "scale_colour_manual(values=['#95BD56', '#9F5EAB', '#A35540', '#7E9A99'])\n",
      "\n",
      "#breaks=['femaleUnder5', 'female5to9', 'maleUnder5', 'male5to9'], \\\n",
      "#labels=['Females < 5', 'Females 5-9', 'Males < 5', 'Males 5-9'])"
     ],
     "language": "python",
     "metadata": {},
     "outputs": [
      {
       "metadata": {},
       "output_type": "pyout",
       "prompt_number": 33,
       "text": [
        "<ggplot: (8777644271473)>"
       ]
      }
     ],
     "prompt_number": 33
    }
   ],
   "metadata": {}
  }
 ]
}