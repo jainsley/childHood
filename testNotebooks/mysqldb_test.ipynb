{
 "metadata": {
  "name": "",
  "signature": "sha256:60580732bad1018a06c7a5a1bf33906fad8bdbbeac00e4ed4a817a2fa2d8caeb"
 },
 "nbformat": 3,
 "nbformat_minor": 0,
 "worksheets": [
  {
   "cells": [
    {
     "cell_type": "code",
     "collapsed": false,
     "input": [
      "import MySQLdb as db\n",
      "from pandas import DataFrame\n",
      "from pandas.io.sql import read_sql\n",
      "\n",
      "database = db.connect('localhost','','','world_innodb')\n",
      "data = read_sql('SELECT * FROM City WHERE CountryCode = \"AFG\"', database)\n",
      "df = DataFrame(data)\n",
      "df"
     ],
     "language": "python",
     "metadata": {},
     "outputs": [
      {
       "html": [
        "<div style=\"max-height:1000px;max-width:1500px;overflow:auto;\">\n",
        "<table border=\"1\" class=\"dataframe\">\n",
        "  <thead>\n",
        "    <tr style=\"text-align: right;\">\n",
        "      <th></th>\n",
        "      <th>ID</th>\n",
        "      <th>Name</th>\n",
        "      <th>CountryCode</th>\n",
        "      <th>District</th>\n",
        "      <th>Population</th>\n",
        "    </tr>\n",
        "  </thead>\n",
        "  <tbody>\n",
        "    <tr>\n",
        "      <th>0</th>\n",
        "      <td> 1</td>\n",
        "      <td>          Kabul</td>\n",
        "      <td> AFG</td>\n",
        "      <td>    Kabol</td>\n",
        "      <td> 1780000</td>\n",
        "    </tr>\n",
        "    <tr>\n",
        "      <th>1</th>\n",
        "      <td> 2</td>\n",
        "      <td>       Qandahar</td>\n",
        "      <td> AFG</td>\n",
        "      <td> Qandahar</td>\n",
        "      <td>  237500</td>\n",
        "    </tr>\n",
        "    <tr>\n",
        "      <th>2</th>\n",
        "      <td> 3</td>\n",
        "      <td>          Herat</td>\n",
        "      <td> AFG</td>\n",
        "      <td>    Herat</td>\n",
        "      <td>  186800</td>\n",
        "    </tr>\n",
        "    <tr>\n",
        "      <th>3</th>\n",
        "      <td> 4</td>\n",
        "      <td> Mazar-e-Sharif</td>\n",
        "      <td> AFG</td>\n",
        "      <td>    Balkh</td>\n",
        "      <td>  127800</td>\n",
        "    </tr>\n",
        "  </tbody>\n",
        "</table>\n",
        "</div>"
       ],
       "metadata": {},
       "output_type": "pyout",
       "prompt_number": 1,
       "text": [
        "   ID            Name CountryCode  District  Population\n",
        "0   1           Kabul         AFG     Kabol     1780000\n",
        "1   2        Qandahar         AFG  Qandahar      237500\n",
        "2   3           Herat         AFG     Herat      186800\n",
        "3   4  Mazar-e-Sharif         AFG     Balkh      127800"
       ]
      }
     ],
     "prompt_number": 1
    },
    {
     "cell_type": "code",
     "collapsed": false,
     "input": [],
     "language": "python",
     "metadata": {},
     "outputs": [],
     "prompt_number": 5
    }
   ],
   "metadata": {}
  }
 ]
}