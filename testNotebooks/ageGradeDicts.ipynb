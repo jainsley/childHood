{
 "metadata": {
  "name": "",
  "signature": "sha256:2bdfbc14bcea682cedada0806434b8a22522d5f9b9dbea8ee4009f031584c6a3"
 },
 "nbformat": 3,
 "nbformat_minor": 0,
 "worksheets": [
  {
   "cells": [
    {
     "cell_type": "code",
     "collapsed": false,
     "input": [
      "#Define dictionaries of grade and age.\n",
      "grade_age = {'PK':4,\n",
      "             '0K':5,\n",
      "             '01':6,\n",
      "             '02':7,\n",
      "             '03':8,\n",
      "             '04':9,\n",
      "             '05':10,\n",
      "             '06':11,\n",
      "             '07':12,\n",
      "             '08':13,\n",
      "             '09':14,\n",
      "             '10':15,\n",
      "             '11':16,\n",
      "             '12':17}\n",
      "\n",
      "age_grade = {'4':'PK',\n",
      "             '5':'0K',\n",
      "             '6':'01',\n",
      "             '7':'02',\n",
      "             '8':'03',\n",
      "             '9':'04',\n",
      "             '10':'05',\n",
      "             '11':'06',\n",
      "             '12':'07',\n",
      "             '13':'08',\n",
      "             '14':'09',\n",
      "             '15':'10',\n",
      "             '16':'11',\n",
      "             '17':'12'}"
     ],
     "language": "python",
     "metadata": {},
     "outputs": [],
     "prompt_number": 7
    }
   ],
   "metadata": {}
  }
 ]
}