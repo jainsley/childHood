{
 "metadata": {
  "name": "",
  "signature": "sha256:7737762b51873640ad4e410dc3b62f7dbc56b3d130df5c911a36bbf125f71f26"
 },
 "nbformat": 3,
 "nbformat_minor": 0,
 "worksheets": [
  {
   "cells": [
    {
     "cell_type": "code",
     "collapsed": false,
     "input": [
      "#Read in data\n",
      "import pandas as pd\n",
      "crime = pd.read_csv('./data/nyc-crime-points-2013.csv')\n",
      "crime.shape"
     ],
     "language": "python",
     "metadata": {},
     "outputs": [
      {
       "metadata": {},
       "output_type": "pyout",
       "prompt_number": 43,
       "text": [
        "(97680, 12)"
       ]
      }
     ],
     "prompt_number": 43
    },
    {
     "cell_type": "code",
     "collapsed": false,
     "input": [
      "#Show the column names\n",
      "crimeCol = list(crime)\n",
      "crimeCol"
     ],
     "language": "python",
     "metadata": {},
     "outputs": [
      {
       "metadata": {},
       "output_type": "pyout",
       "prompt_number": 44,
       "text": [
        "['CR',\n",
        " 'MO',\n",
        " 'TOT',\n",
        " 'YR',\n",
        " 'latitude',\n",
        " 'longitude',\n",
        " 'borough',\n",
        " 'cityCouncilDistrict',\n",
        " 'communityDistrict',\n",
        " 'neighborhood',\n",
        " 'policePrecinct',\n",
        " 'postalCode']"
       ]
      }
     ],
     "prompt_number": 44
    },
    {
     "cell_type": "code",
     "collapsed": false,
     "input": [
      "crime.head()"
     ],
     "language": "python",
     "metadata": {},
     "outputs": [
      {
       "html": [
        "<div style=\"max-height:1000px;max-width:1500px;overflow:auto;\">\n",
        "<table border=\"1\" class=\"dataframe\">\n",
        "  <thead>\n",
        "    <tr style=\"text-align: right;\">\n",
        "      <th></th>\n",
        "      <th>CR</th>\n",
        "      <th>MO</th>\n",
        "      <th>TOT</th>\n",
        "      <th>YR</th>\n",
        "      <th>latitude</th>\n",
        "      <th>longitude</th>\n",
        "      <th>borough</th>\n",
        "      <th>cityCouncilDistrict</th>\n",
        "      <th>communityDistrict</th>\n",
        "      <th>neighborhood</th>\n",
        "      <th>policePrecinct</th>\n",
        "      <th>postalCode</th>\n",
        "    </tr>\n",
        "  </thead>\n",
        "  <tbody>\n",
        "    <tr>\n",
        "      <th>0</th>\n",
        "      <td>       ROBBERY</td>\n",
        "      <td>  6</td>\n",
        "      <td> 2</td>\n",
        "      <td> 2013</td>\n",
        "      <td> 40.816766</td>\n",
        "      <td>-73.864748</td>\n",
        "      <td>     Bronx</td>\n",
        "      <td> 18</td>\n",
        "      <td> 209</td>\n",
        "      <td>      Clason Point</td>\n",
        "      <td> 43</td>\n",
        "      <td> 10473</td>\n",
        "    </tr>\n",
        "    <tr>\n",
        "      <th>1</th>\n",
        "      <td> GRAND LARCENY</td>\n",
        "      <td>  6</td>\n",
        "      <td> 1</td>\n",
        "      <td> 2013</td>\n",
        "      <td> 40.840916</td>\n",
        "      <td>-73.904747</td>\n",
        "      <td>     Bronx</td>\n",
        "      <td> 16</td>\n",
        "      <td> 204</td>\n",
        "      <td> Claremont Village</td>\n",
        "      <td> 44</td>\n",
        "      <td> 10457</td>\n",
        "    </tr>\n",
        "    <tr>\n",
        "      <th>2</th>\n",
        "      <td> GRAND LARCENY</td>\n",
        "      <td>  6</td>\n",
        "      <td> 1</td>\n",
        "      <td> 2013</td>\n",
        "      <td> 40.711214</td>\n",
        "      <td>-73.963378</td>\n",
        "      <td>  Brooklyn</td>\n",
        "      <td> 34</td>\n",
        "      <td> 301</td>\n",
        "      <td>      Williamsburg</td>\n",
        "      <td> 90</td>\n",
        "      <td> 11211</td>\n",
        "    </tr>\n",
        "    <tr>\n",
        "      <th>3</th>\n",
        "      <td> GRAND LARCENY</td>\n",
        "      <td>  6</td>\n",
        "      <td> 1</td>\n",
        "      <td> 2013</td>\n",
        "      <td> 40.761773</td>\n",
        "      <td>-73.979056</td>\n",
        "      <td> Manhattan</td>\n",
        "      <td>  4</td>\n",
        "      <td> 105</td>\n",
        "      <td>           Midtown</td>\n",
        "      <td> 18</td>\n",
        "      <td> 10019</td>\n",
        "    </tr>\n",
        "    <tr>\n",
        "      <th>4</th>\n",
        "      <td> GRAND LARCENY</td>\n",
        "      <td> 10</td>\n",
        "      <td> 1</td>\n",
        "      <td> 2013</td>\n",
        "      <td> 40.829872</td>\n",
        "      <td>-73.855290</td>\n",
        "      <td>     Bronx</td>\n",
        "      <td> 18</td>\n",
        "      <td> 209</td>\n",
        "      <td>         Unionport</td>\n",
        "      <td> 43</td>\n",
        "      <td> 10472</td>\n",
        "    </tr>\n",
        "  </tbody>\n",
        "</table>\n",
        "</div>"
       ],
       "metadata": {},
       "output_type": "pyout",
       "prompt_number": 45,
       "text": [
        "              CR  MO  TOT    YR   latitude  longitude    borough  \\\n",
        "0        ROBBERY   6    2  2013  40.816766 -73.864748      Bronx   \n",
        "1  GRAND LARCENY   6    1  2013  40.840916 -73.904747      Bronx   \n",
        "2  GRAND LARCENY   6    1  2013  40.711214 -73.963378   Brooklyn   \n",
        "3  GRAND LARCENY   6    1  2013  40.761773 -73.979056  Manhattan   \n",
        "4  GRAND LARCENY  10    1  2013  40.829872 -73.855290      Bronx   \n",
        "\n",
        "   cityCouncilDistrict  communityDistrict       neighborhood  policePrecinct  \\\n",
        "0                   18                209       Clason Point              43   \n",
        "1                   16                204  Claremont Village              44   \n",
        "2                   34                301       Williamsburg              90   \n",
        "3                    4                105            Midtown              18   \n",
        "4                   18                209          Unionport              43   \n",
        "\n",
        "   postalCode  \n",
        "0       10473  \n",
        "1       10457  \n",
        "2       11211  \n",
        "3       10019  \n",
        "4       10472  "
       ]
      }
     ],
     "prompt_number": 45
    },
    {
     "cell_type": "code",
     "collapsed": false,
     "input": [
      "def subsetLatLng(Ser):\n",
      "     return (Ser['latitude'], Ser['longitude'], Ser['neighborhood'], Ser['borough'])\n",
      "\n",
      "LatLngSer = crime.apply(subsetLatLng, 1).tolist()"
     ],
     "language": "python",
     "metadata": {},
     "outputs": [],
     "prompt_number": 52
    },
    {
     "cell_type": "code",
     "collapsed": false,
     "input": [
      "LatLngSer[0]"
     ],
     "language": "python",
     "metadata": {},
     "outputs": [
      {
       "metadata": {},
       "output_type": "pyout",
       "prompt_number": 47,
       "text": [
        "(40.816766233349, -73.86474831166899, 'Clason Point', 'Bronx')"
       ]
      }
     ],
     "prompt_number": 47
    },
    {
     "cell_type": "code",
     "collapsed": false,
     "input": [
      "len(set(LatLngSer))"
     ],
     "language": "python",
     "metadata": {},
     "outputs": [
      {
       "metadata": {},
       "output_type": "pyout",
       "prompt_number": 48,
       "text": [
        "43647"
       ]
      }
     ],
     "prompt_number": 48
    },
    {
     "cell_type": "code",
     "collapsed": false,
     "input": [
      "#Import functions for Google API\n",
      "import googleAPIFunctions as gf\n",
      "\n",
      "import MySQLdb as db\n",
      "from shapely.geometry import mapping, shape, Polygon, Point\n",
      "import utm\n",
      "import shapely\n",
      "\n",
      "#Open connection to mysql database\n",
      "censusCon = db.connect('localhost','','','censusdb')\n",
      "cursor = censusCon.cursor()"
     ],
     "language": "python",
     "metadata": {},
     "outputs": [],
     "prompt_number": 7
    },
    {
     "cell_type": "code",
     "collapsed": false,
     "input": [
      "#Define a function to convert lat long coordinates to UTM coordinates\n",
      "\n",
      "def UTMconvert(points):\n",
      "    import utm\n",
      "\n",
      "    UTMpoints = []\n",
      "\n",
      "    pt = [points.x, points.y]\n",
      "    UTMpoints.append(utm.from_latlon(*pt))\n",
      "\n",
      "    return UTMpoints"
     ],
     "language": "python",
     "metadata": {},
     "outputs": [],
     "prompt_number": 49
    },
    {
     "cell_type": "code",
     "collapsed": false,
     "input": [
      "#Define a function to convert UTM coordinates to lat long coordinates\n",
      "\n",
      "def LatLngConvert(UTMpoints):\n",
      "    import utm\n",
      "\n",
      "    points = []\n",
      "\n",
      "    pt = utm.to_latlon([UTMpoints[1], UTMpoints[0]])\n",
      "    spt = Point(pt[1], pt[0])\n",
      "    points.append(spt)\n",
      "    \n",
      "    return points"
     ],
     "language": "python",
     "metadata": {},
     "outputs": [],
     "prompt_number": 50
    },
    {
     "cell_type": "code",
     "collapsed": false,
     "input": [
      "#address = '308 hemlock st brooklyn, ny'\n",
      "#address = '121 saratoga ave brooklyn NY'\n",
      "#address = '1030 86th St Brooklyn, NY'\n",
      "#address = '353 Broadway Brooklyn, NY'\n",
      "address = '35 E 21st St New York, NY'\n",
      "#address = 'Van Wyck and JFK Expressway Jamaica, NY 11430'\n",
      "\n",
      "addressLatLng = gf.getGeocodeLatLong(gf.googleGeocoding(address))\n",
      "pointLatLng = Point(addressLatLng['lat'], addressLatLng['lng'])\n",
      "\n",
      "addressUTM = UTMconvert(pointLatLng)\n",
      "addressCircleUTM = Point(addressUTM).buffer(2000)\n",
      "\n",
      "addressCircle = []\n",
      "\n",
      "for i in list(addressCircleUTM.exterior.coords):\n",
      "    cPt = utm.to_latlon(i[0], i[1], list(addressUTM)[0][2], list(addressUTM)[0][3])\n",
      "    addressCircle.append(cPt)\n",
      "    \n",
      "addressPoly = Polygon(addressCircle)"
     ],
     "language": "python",
     "metadata": {},
     "outputs": [],
     "prompt_number": 10
    },
    {
     "cell_type": "code",
     "collapsed": false,
     "input": [
      "convertPoint = Point(LatLngSer[0][0], LatLngSer[0][1])\n",
      "convertPoint.intersects(addressPoly)"
     ],
     "language": "python",
     "metadata": {},
     "outputs": [
      {
       "metadata": {},
       "output_type": "pyout",
       "prompt_number": 31,
       "text": [
        "False"
       ]
      }
     ],
     "prompt_number": 31
    },
    {
     "cell_type": "code",
     "collapsed": false,
     "input": [
      "type(LatLngSer[0])"
     ],
     "language": "python",
     "metadata": {},
     "outputs": [
      {
       "metadata": {},
       "output_type": "pyout",
       "prompt_number": 12,
       "text": [
        "tuple"
       ]
      }
     ],
     "prompt_number": 12
    },
    {
     "cell_type": "code",
     "collapsed": false,
     "input": [
      "LatLngCrime = []\n",
      "\n",
      "for item in LatLngSer:\n",
      "    LatLngCrime.append(Point(item))"
     ],
     "language": "python",
     "metadata": {},
     "outputs": [],
     "prompt_number": 38
    },
    {
     "cell_type": "code",
     "collapsed": false,
     "input": [
      "LatLngCrime = []\n",
      "\n",
      "for item in LatLngSer:\n",
      "    LatLngCrime.append([Point(item[0], item[1]), item[2], item[3]])"
     ],
     "language": "python",
     "metadata": {},
     "outputs": [],
     "prompt_number": 53
    },
    {
     "cell_type": "code",
     "collapsed": false,
     "input": [
      "LatLngCrime[0]"
     ],
     "language": "python",
     "metadata": {},
     "outputs": [
      {
       "metadata": {},
       "output_type": "pyout",
       "prompt_number": 40,
       "text": [
        "[<shapely.geometry.point.Point at 0x7fb96865bc90>, 'Clason Point', 'Bronx']"
       ]
      }
     ],
     "prompt_number": 40
    },
    {
     "cell_type": "code",
     "collapsed": false,
     "input": [
      "output = []\n",
      "for item in LatLngCrime:\n",
      "    if item[0].intersects(addressPoly):\n",
      "        output.append(item)           "
     ],
     "language": "python",
     "metadata": {},
     "outputs": [],
     "prompt_number": 54
    },
    {
     "cell_type": "code",
     "collapsed": false,
     "input": [
      "print len(output), len(LatLngCrime)"
     ],
     "language": "python",
     "metadata": {},
     "outputs": [
      {
       "output_type": "stream",
       "stream": "stdout",
       "text": [
        "6991 97680\n"
       ]
      }
     ],
     "prompt_number": 55
    },
    {
     "cell_type": "code",
     "collapsed": false,
     "input": [
      "for idx, var in enumerate(trafficZscores):\n",
      "    if var[1] != None:\n",
      "        line = shapely.geometry.LineString(eval(trafficZscores[idx][1]))\n",
      "        if line.intersects(addressPoly):\n",
      "            nearbyTraffic.append(var)\n",
      "            \n",
      "zSum = 0\n",
      "\n",
      "for i in nearbyTraffic:\n",
      "    zSum = zSum + i[0]\n",
      "\n",
      "zMean = zSum / len(nearbyTraffic)\n",
      "\n",
      "#Convert z score to percentile rank\n",
      "import scipy.stats as st\n",
      "#st.norm.ppf(.95) p-value to z-score\n",
      "int(round(st.norm.cdf(zMean) * 100, 0))"
     ],
     "language": "python",
     "metadata": {},
     "outputs": []
    },
    {
     "cell_type": "code",
     "collapsed": false,
     "input": [
      "sql_query = \"SELECT * FROM crime WHERE postalCode = %s\"\n",
      "cursor.execute(sql_query, ['11208'])\n",
      "crimesNearMe = list(cursor.fetchall())\n",
      "crimesNearMe[0]"
     ],
     "language": "python",
     "metadata": {},
     "outputs": [
      {
       "metadata": {},
       "output_type": "pyout",
       "prompt_number": 107,
       "text": [
        "(293L,\n",
        " 'GRAND LARCENY',\n",
        " 10L,\n",
        " 1L,\n",
        " 2013L,\n",
        " '40.681253632784',\n",
        " '-73.873056082062',\n",
        " 'Brooklyn',\n",
        " '37',\n",
        " '305',\n",
        " 'Cypress Hills',\n",
        " '75',\n",
        " '11208')"
       ]
      }
     ],
     "prompt_number": 107
    }
   ],
   "metadata": {}
  }
 ]
}