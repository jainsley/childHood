{
 "metadata": {
  "name": "",
  "signature": "sha256:11e7b88372cb5cd918ebca5bfc347f87cf69107f2ea7deed7267c2711741f527"
 },
 "nbformat": 3,
 "nbformat_minor": 0,
 "worksheets": [
  {
   "cells": [
    {
     "cell_type": "code",
     "collapsed": false,
     "input": [
      "#Import json package\n",
      "import json\n",
      "\n",
      "#Read in elementary school geojson file\n",
      "with open('./data/es_zones_2013_2014.geojson') as f:\n",
      "    data = json.load(f)"
     ],
     "language": "python",
     "metadata": {},
     "outputs": [],
     "prompt_number": 1
    },
    {
     "cell_type": "code",
     "collapsed": false,
     "input": [
      "from shapely.geometry import mapping, shape, Polygon, Point\n",
      "\n",
      "s = shape(data['features'][0]['geometry'])"
     ],
     "language": "python",
     "metadata": {},
     "outputs": [],
     "prompt_number": 2
    },
    {
     "cell_type": "code",
     "collapsed": false,
     "input": [
      "s"
     ],
     "language": "python",
     "metadata": {},
     "outputs": [
      {
       "metadata": {},
       "output_type": "pyout",
       "prompt_number": 5,
       "svg": [
        "<svg\n",
        "            preserveAspectRatio=\"xMinYMin meet\"\n",
        "            viewBox=\"-75.0064994426 39.6014320451 2.00383601203 2.00321326249\"\n",
        "            width=\"100.0\"\n",
        "            height=\"100.0\"\n",
        "            transform=\"translate(0, 100.0),scale(1, -1)\">\n",
        "            <g fill-rule=\"evenodd\" fill=\"#66cc99\" stroke=\"#555555\"\n",
        "                stroke-width=\"0.0400767202406\" opacity=\"0.6\">\n",
        "                <path d=\"M -74.006781,40.602291 L -74.004446,40.604802 L -74.002631,40.603846 L -74.003853,40.602668 L -74.00514,40.601431 L -74.005924,40.60184 L -74.006781,40.602291 z\" /></g>\n",
        "            </svg>"
       ],
       "text": [
        "<shapely.geometry.multipolygon.MultiPolygon at 0x7f3340e28c10>"
       ]
      }
     ],
     "prompt_number": 5
    },
    {
     "cell_type": "code",
     "collapsed": false,
     "input": [
      "#Define a function that generates a random point in a provided polygon.\n",
      "\n",
      "def gen_random_point_in_polygon(poly):\n",
      "    import random\n",
      "    initialX = -9999\n",
      "    initialY = -9999\n",
      "    (minX, minY, maxX, maxY) = poly.bounds\n",
      "    p = Point(initialX, initialY)\n",
      "    while not poly.contains(p):\n",
      "        pX = random.uniform(minX, maxX)\n",
      "        pY = random.uniform(minY, maxY)\n",
      "        p = Point(pX, pY)\n",
      "    return p"
     ],
     "language": "python",
     "metadata": {},
     "outputs": [],
     "prompt_number": 3
    },
    {
     "cell_type": "code",
     "collapsed": false,
     "input": [
      "#Create random points in a polygon, verify they are in the polygon\n",
      "random_points = []\n",
      "\n",
      "for i in range(0, 100):\n",
      "    point_in_poly = gen_random_point_in_polygon(s)\n",
      "    random_points.append(point_in_poly)"
     ],
     "language": "python",
     "metadata": {},
     "outputs": [],
     "prompt_number": 4
    },
    {
     "cell_type": "code",
     "collapsed": false,
     "input": [
      "#Define a function to calculate the euclidean distance between two points.\n",
      "\n",
      "def euc_dist(point1, point2):\n",
      "    dist = sqrt( (point2[0] - point1[0])**2 + (point2[1] - point1[1])**2 )\n",
      "    return dist"
     ],
     "language": "python",
     "metadata": {},
     "outputs": [],
     "prompt_number": 6
    },
    {
     "cell_type": "code",
     "collapsed": false,
     "input": [
      "#Define a function to convert lat long coordinates to UTM coordinates\n",
      "\n",
      "def UTMconvert(points):\n",
      "    import utm\n",
      "\n",
      "    UTMpoints = []\n",
      "\n",
      "    for idx, var in enumerate(points):\n",
      "        pt = [points[idx].y,points[idx].x]\n",
      "        UTMpoints.append(utm.from_latlon(*pt))\n",
      "\n",
      "    return UTMpoints"
     ],
     "language": "python",
     "metadata": {},
     "outputs": [],
     "prompt_number": 7
    },
    {
     "cell_type": "code",
     "collapsed": false,
     "input": [
      "#Define a function to convert UTM coordinates to lat long coordinates\n",
      "\n",
      "def LatLngConvert(UTMpoints):\n",
      "    import utm\n",
      "\n",
      "    points = []\n",
      "\n",
      "    for idx, var in enumerate(UTMpoints):\n",
      "        pt = utm.to_latlon(*var)\n",
      "        spt = Point(pt[1], pt[0])\n",
      "        points.append(spt)\n",
      "    \n",
      "    return points"
     ],
     "language": "python",
     "metadata": {},
     "outputs": [],
     "prompt_number": 8
    },
    {
     "cell_type": "code",
     "collapsed": false,
     "input": [
      "print len(random_points), len(LatLngConvert(UTMconvert(random_points)))\n",
      "print random_points[0], LatLngConvert(UTMconvert(random_points))[0]"
     ],
     "language": "python",
     "metadata": {},
     "outputs": [
      {
       "output_type": "stream",
       "stream": "stdout",
       "text": [
        "100 100\n",
        "POINT (-74.00505372585626 40.60154592000102) POINT (-74.00505364173985 40.60154592035799)\n"
       ]
      }
     ],
     "prompt_number": 14
    }
   ],
   "metadata": {}
  }
 ]
}