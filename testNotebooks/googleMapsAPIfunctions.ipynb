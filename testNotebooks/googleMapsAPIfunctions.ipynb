{
 "metadata": {
  "name": "",
  "signature": "sha256:8fd13ef7fb3e0e1ee90f12fbb03f5818396fbd02e2347d19747a22dd0e2cfa8f"
 },
 "nbformat": 3,
 "nbformat_minor": 0,
 "worksheets": [
  {
   "cells": [
    {
     "cell_type": "code",
     "collapsed": false,
     "input": [
      "#Import packages\n",
      "import urllib\n",
      "import json\n",
      "import re"
     ],
     "language": "python",
     "metadata": {},
     "outputs": [],
     "prompt_number": 1
    },
    {
     "cell_type": "code",
     "collapsed": false,
     "input": [
      "#Read the Google API key stored in a file\n",
      "with open (\"googleAPIkey\", \"r\") as myfile:\n",
      "    googleAPIKey=myfile.readlines()"
     ],
     "language": "python",
     "metadata": {},
     "outputs": [],
     "prompt_number": 2
    },
    {
     "cell_type": "code",
     "collapsed": false,
     "input": [
      "def googleDirections(origin,destination,mode):\n",
      "    \"\"\"This function takes an origin, a destination, and a mode of transportation\n",
      "    and returns a result of a Google directions query as a json dict.\"\"\"\n",
      "    baseURL = 'https://maps.googleapis.com/maps/api/directions/json?'\n",
      "    walkingURL = baseURL + 'origin=' + origin + '&destination=' + destination + '&mode=' + mode\n",
      "    directions = json.loads(urllib.urlopen(walkingURL).read())\n",
      "    return directions"
     ],
     "language": "python",
     "metadata": {},
     "outputs": [],
     "prompt_number": 3
    },
    {
     "cell_type": "code",
     "collapsed": false,
     "input": [
      "#d = googleDirections('35 E 21st St, New York, NY', \n",
      "#                     '308 Hemlock St, Brooklyn, NY', 'walking')"
     ],
     "language": "python",
     "metadata": {},
     "outputs": [],
     "prompt_number": 4
    },
    {
     "cell_type": "code",
     "collapsed": false,
     "input": [
      "def getDirectionsDistance(dirJSON):\n",
      "    \"\"\"This function takes the json output of a googleDirections function call and\n",
      "    parses it to output the reported walking distance as a float.\"\"\"\n",
      "    dist_string = dirJSON['routes'][0]['legs'][0]['distance']['text']\n",
      "    non_decimal = re.compile(r'[^\\d.]+')\n",
      "    dist_float = float(non_decimal.sub('', dist_string))\n",
      "    return dist_float"
     ],
     "language": "python",
     "metadata": {},
     "outputs": [],
     "prompt_number": 5
    },
    {
     "cell_type": "code",
     "collapsed": false,
     "input": [
      "#d_distance = getDirectionsDistance(d)\n",
      "#d_distance"
     ],
     "language": "python",
     "metadata": {},
     "outputs": [],
     "prompt_number": 6
    },
    {
     "cell_type": "code",
     "collapsed": false,
     "input": [
      "def googleNearbyPlacesByKeyword(location, radius, keyword):\n",
      "    \"\"\"This function takes an API key, a location, a radius, and a keyword\n",
      "    and returns a result of a Google nearby places query as a json dict.\"\"\"\n",
      "    with open (\"googleAPIkey\", \"r\") as myfile:\n",
      "        apiKey=myfile.readlines()\n",
      "    baseURL = 'https://maps.googleapis.com/maps/api/place/nearbysearch/json?'\n",
      "    nearbyURL = baseURL + 'key=' + apiKey[0] + '&location=' + location + '&radius=' + radius + '&keyword=' + keyword\n",
      "    nearby = json.loads(urllib.urlopen(nearbyURL).read())\n",
      "    return nearby"
     ],
     "language": "python",
     "metadata": {},
     "outputs": [],
     "prompt_number": 7
    },
    {
     "cell_type": "code",
     "collapsed": false,
     "input": [
      "#e = googleNearbyPlacesByKeyword(googleAPIKey[0],'40.6823507,-73.8708103', '2000', 'playground')"
     ],
     "language": "python",
     "metadata": {},
     "outputs": [],
     "prompt_number": 8
    },
    {
     "cell_type": "code",
     "collapsed": false,
     "input": [
      "googleNearbyPlacesByKeyword('40.6823507,-73.8708103', '1000', 'public library')"
     ],
     "language": "python",
     "metadata": {},
     "outputs": [
      {
       "metadata": {},
       "output_type": "pyout",
       "prompt_number": 9,
       "text": [
        "{u'html_attributions': [],\n",
        " u'results': [{u'geometry': {u'location': {u'lat': 40.672642,\n",
        "     u'lng': -73.873927}},\n",
        "   u'icon': u'http://maps.gstatic.com/mapfiles/place_api/icons/library-71.png',\n",
        "   u'id': u'9fa3d3932b25b16ed9866dd335ed9a1b10d7c3f7',\n",
        "   u'name': u'Cypress Hills Branch Library',\n",
        "   u'opening_hours': {u'open_now': False},\n",
        "   u'place_id': u'ChIJw6iaBrtdwokR3dDx1PiAXNY',\n",
        "   u'reference': u'CoQBfgAAAINvJwMdKMK8ccUxKoN6qWWMywzXtAYMsVQMFmJjrU2qN-o79t1kORok4kt5rWibdmMJPZj2-86o1Do07md7nHo5BXFBu5KHWp6zK7RZySJ4hlIYQrSNlpVV-xNkLbzpmls6mx0E5h9Axo2UqGAdV5xuSj9myRhrIJRQvvMjEK4KEhCYvVK2J8OqxiQLEnBvQMLyGhTk32pTqgDk-r7IvVdN1bHSPN-tTw',\n",
        "   u'scope': u'GOOGLE',\n",
        "   u'types': [u'library', u'establishment'],\n",
        "   u'vicinity': u'1197 Sutter Ave, Brooklyn'}],\n",
        " u'status': u'OK'}"
       ]
      }
     ],
     "prompt_number": 9
    },
    {
     "cell_type": "code",
     "collapsed": false,
     "input": [
      "googleNearbyPlacesByKeyword('40.6823507,-73.8708103', '1000', 'playground')"
     ],
     "language": "python",
     "metadata": {},
     "outputs": [
      {
       "metadata": {},
       "output_type": "pyout",
       "prompt_number": 10,
       "text": [
        "{u'html_attributions': [],\n",
        " u'results': [{u'geometry': {u'location': {u'lat': 40.67549,\n",
        "     u'lng': -73.862765}},\n",
        "   u'icon': u'http://maps.gstatic.com/mapfiles/place_api/icons/generic_business-71.png',\n",
        "   u'id': u'5850b55588993a178a4826922a786024c84b935f',\n",
        "   u'name': u'Belmont Playground',\n",
        "   u'place_id': u'ChIJiWqKsZVdwokRPkEYToSLXrg',\n",
        "   u'reference': u'CoQBdAAAAItzd9ZWoZRyIJeNLtesuRstPadvuJRu4nA_tBU8Qf8kUz3YynKb1g5-0Z0w2RDarKWqMbHBzymKV7bukrM-kVWe03IZAgpc4LIxBvOPMJzjc--xyQGq64Kdu2U_PA_yJt0juID0rWGDaNSY1m3KVERpWruIknFONPym_6BK4kiZEhD-vqoa0Bz4_5tzIF2gWLRNGhQ7yPTArrfL49kzTCyJ7ZtG284JtA',\n",
        "   u'scope': u'GOOGLE',\n",
        "   u'types': [u'park', u'establishment'],\n",
        "   u'vicinity': u'Belmont Ave, New York'},\n",
        "  {u'geometry': {u'location': {u'lat': 40.681602, u'lng': -73.856884}},\n",
        "   u'icon': u'http://maps.gstatic.com/mapfiles/place_api/icons/generic_business-71.png',\n",
        "   u'id': u'0b32459c2236111ae3d933f7fe9069e3593a807f',\n",
        "   u'name': u'Ampere Playground',\n",
        "   u'place_id': u'ChIJ5V3hM-xdwokRNfbwbzz1nk8',\n",
        "   u'reference': u'CoQBcgAAADO92Cw_Fx0FAoIHZ3mS-0r1vWjh70s02p1Z6XCFqJn0vCAbDqWUddXS71HPzoNdHT679uP7E7avne3sqMAXN7Lv_X9BUnEp-gJkq_HZz4vhB07lpwcoIj-RKmlZ76DKEezof6JpaG4p3eRFKGYNJZrxODK_OBMEoU_JcAS0appBEhDJwUHpPonxjsecUOwdl7pPGhSwGN-Bh9IoZOYoHxUW0gkK7zIptg',\n",
        "   u'scope': u'GOOGLE',\n",
        "   u'types': [u'park', u'establishment'],\n",
        "   u'vicinity': u'82nd St, New York'},\n",
        "  {u'geometry': {u'location': {u'lat': 40.67716, u'lng': -73.884461}},\n",
        "   u'icon': u'http://maps.gstatic.com/mapfiles/place_api/icons/generic_business-71.png',\n",
        "   u'id': u'ac94a2bbac7941e22050f5d2ded03540eaee4699',\n",
        "   u'name': u'Sperandeo Brothers Playground',\n",
        "   u'place_id': u'ChIJSSmjDLRdwokRPchh8CoFdyc',\n",
        "   u'reference': u'CoQBfgAAAPyJW7smYN-dqjTqsy5tO2ZodK2gGpHCCV0JAdks-h773orBs29OORTlWwMyYM_3lglLg8-h-Gc5NMJX32noiiZppCbm2VGFuR9aJem9jk2fXnaNIBYoryWkavu54HQGuF5NJ-7oW9kNg3nmOuyk7g13RNF0YEczdfUPm3KRGyIIEhBYKlOFnfCYj7Hx8mZTY25wGhSxO9nX1p7WtBBrZLLAd49pfxQppw',\n",
        "   u'scope': u'GOOGLE',\n",
        "   u'types': [u'park', u'establishment'],\n",
        "   u'vicinity': u'Elton St, New York'}],\n",
        " u'status': u'OK'}"
       ]
      }
     ],
     "prompt_number": 10
    },
    {
     "cell_type": "code",
     "collapsed": false,
     "input": [
      "def getNearbyLatLong(nearbyJSON):\n",
      "    \"\"\"This function takes the json output of a googleNearbyPlacesByKeyword function call and\n",
      "    parses it to output the latitude and longitude of the nearest location.\"\"\"\n",
      "    latlong = nearbyJSON['results'][0]['geometry']['location']\n",
      "    return latlong"
     ],
     "language": "python",
     "metadata": {},
     "outputs": [],
     "prompt_number": 11
    },
    {
     "cell_type": "code",
     "collapsed": false,
     "input": [
      "#print getNearbyLatLong(e)\n",
      "#print getNearbyLatLong(googleNearbyPlacesByKeyword(googleAPIKey[0],'40.6823507,-73.8708103', '2000', 'playground'))"
     ],
     "language": "python",
     "metadata": {},
     "outputs": [],
     "prompt_number": 12
    },
    {
     "cell_type": "code",
     "collapsed": false,
     "input": [
      "#def googleGeocoding(address,NYonly=True):\n",
      "#    \"\"\"This function takes an address and returns the latitude and longitude from the Google geocoding API.\"\"\"\n",
      "#    baseURL = 'http://maps.googleapis.com/maps/api/geocode/json?'\n",
      "#    if NYonly == True:\n",
      "#        geocodeURL = baseURL + 'address=' + address + '&components=administrative_area:NY|country:US'\n",
      "#    elif NYonly == False:\n",
      "#        geocodeURL = baseURL + 'address=' + address\n",
      "#    else:\n",
      "#        print(\"You must specify True or False to limit the search to NY or not.\")\n",
      "#        return\n",
      "#    geocode = json.loads(urllib.urlopen(geocodeURL).read())\n",
      "#    return geocode"
     ],
     "language": "python",
     "metadata": {},
     "outputs": [],
     "prompt_number": 13
    },
    {
     "cell_type": "code",
     "collapsed": false,
     "input": [
      "def googleGeocoding(address):\n",
      "    \"\"\"This function takes an address and returns the latitude and longitude from the Google geocoding API.\"\"\"\n",
      "    baseURL = 'http://maps.googleapis.com/maps/api/geocode/json?'\n",
      "    geocodeURL = baseURL + 'address=' + address + '&components=administrative_area:NY|country:US'\n",
      "    geocode = json.loads(urllib.urlopen(geocodeURL).read())\n",
      "    return geocode"
     ],
     "language": "python",
     "metadata": {},
     "outputs": [],
     "prompt_number": 14
    },
    {
     "cell_type": "code",
     "collapsed": false,
     "input": [
      "#f = googleGeocoding('308 Hemlock St, Brooklyn, NY')"
     ],
     "language": "python",
     "metadata": {},
     "outputs": [],
     "prompt_number": 15
    },
    {
     "cell_type": "code",
     "collapsed": false,
     "input": [
      "def getGeocodeLatLong(geocodeJSON):\n",
      "    \"\"\"This function takes the json output of a googleGeocoding function call and\n",
      "    parses it to output the latitude and longitude\"\"\"\n",
      "    latlong = geocodeJSON['results'][0]['geometry']['location']\n",
      "    return latlong"
     ],
     "language": "python",
     "metadata": {},
     "outputs": [],
     "prompt_number": 16
    },
    {
     "cell_type": "code",
     "collapsed": false,
     "input": [
      "#getGeocodeLatLong(f)"
     ],
     "language": "python",
     "metadata": {},
     "outputs": [],
     "prompt_number": 17
    },
    {
     "cell_type": "code",
     "collapsed": false,
     "input": [
      "getGeocodeLatLong(googleGeocoding('353 Broadway, Brooklyn, NY'))"
     ],
     "language": "python",
     "metadata": {},
     "outputs": [
      {
       "metadata": {},
       "output_type": "pyout",
       "prompt_number": 18,
       "text": [
        "{u'lat': 40.7078567, u'lng': -73.9556487}"
       ]
      }
     ],
     "prompt_number": 18
    },
    {
     "cell_type": "code",
     "collapsed": false,
     "input": [
      "getGeocodeLatLong(googleGeocoding('308 Hemlock St, Brooklyn, NY'))"
     ],
     "language": "python",
     "metadata": {},
     "outputs": [
      {
       "metadata": {},
       "output_type": "pyout",
       "prompt_number": 19,
       "text": [
        "{u'lat': 40.68231, u'lng': -73.87110799999999}"
       ]
      }
     ],
     "prompt_number": 19
    },
    {
     "cell_type": "code",
     "collapsed": false,
     "input": [
      "getGeocodeLatLong(googleGeocoding('hi this is not really a real place'))"
     ],
     "language": "python",
     "metadata": {},
     "outputs": [
      {
       "metadata": {},
       "output_type": "pyout",
       "prompt_number": 20,
       "text": [
        "{u'lat': 43.2994285, u'lng': -74.21793260000001}"
       ]
      }
     ],
     "prompt_number": 20
    }
   ],
   "metadata": {}
  }
 ]
}