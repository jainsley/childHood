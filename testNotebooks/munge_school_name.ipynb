{
 "metadata": {
  "name": "",
  "signature": "sha256:834063d74e7d9da1b2cfd7fc6d2eb8c7d1b5db80eb9c15e35d7a7f435f70c547"
 },
 "nbformat": 3,
 "nbformat_minor": 0,
 "worksheets": [
  {
   "cells": [
    {
     "cell_type": "code",
     "collapsed": false,
     "input": [
      "#Read in data\n",
      "import pandas as pd\n",
      "school_points = pd.read_csv('./data/public_schools_points_2011_2012a.csv')\n",
      "school_points.shape"
     ],
     "language": "python",
     "metadata": {},
     "outputs": [
      {
       "metadata": {},
       "output_type": "pyout",
       "prompt_number": 1,
       "text": [
        "(1709, 21)"
       ]
      }
     ],
     "prompt_number": 1
    },
    {
     "cell_type": "code",
     "collapsed": false,
     "input": [
      "#school_points.head()"
     ],
     "language": "python",
     "metadata": {},
     "outputs": [],
     "prompt_number": 2
    },
    {
     "cell_type": "code",
     "collapsed": false,
     "input": [
      "blah = school_points.loc[3,'ats_code']\n",
      "blah\n",
      "#print school_points.loc[3,'ats_code'].decode('UTF-8')"
     ],
     "language": "python",
     "metadata": {},
     "outputs": [
      {
       "metadata": {},
       "output_type": "pyout",
       "prompt_number": 4,
       "text": [
        "'30Q234 \\xc2\\xa0\\xc2\\xa0\\xc2\\xa0\\xc2\\xa0\\xc2\\xa0'"
       ]
      }
     ],
     "prompt_number": 4
    },
    {
     "cell_type": "code",
     "collapsed": false,
     "input": [
      "blah = blah.replace('\\xc2\\xa0', '')\n",
      "blah = blah.replace(' ', '')\n",
      "blah"
     ],
     "language": "python",
     "metadata": {},
     "outputs": [
      {
       "metadata": {},
       "output_type": "pyout",
       "prompt_number": 5,
       "text": [
        "'30Q234'"
       ]
      }
     ],
     "prompt_number": 5
    },
    {
     "cell_type": "code",
     "collapsed": false,
     "input": [
      "uniblah = unicode(blah, 'UTF-8')\n",
      "uniblah = uniblah.replace(u'\\u00A0', ' ')\n",
      "uniblah = uniblah.replace(' ', '')\n",
      "uniblah"
     ],
     "language": "python",
     "metadata": {},
     "outputs": [
      {
       "metadata": {},
       "output_type": "pyout",
       "prompt_number": 6,
       "text": [
        "u'30Q234'"
       ]
      }
     ],
     "prompt_number": 6
    },
    {
     "cell_type": "code",
     "collapsed": false,
     "input": [
      "#Extract just the column names\n",
      "school_pointsCol = list(school_points)\n",
      "school_pointsCol"
     ],
     "language": "python",
     "metadata": {},
     "outputs": [
      {
       "metadata": {},
       "output_type": "pyout",
       "prompt_number": 7,
       "text": [
        "['the_geom',\n",
        " 'ats_code',\n",
        " 'boro',\n",
        " 'boronum',\n",
        " 'loc_code',\n",
        " 'schoolname',\n",
        " 'sch_type',\n",
        " 'managed_by',\n",
        " 'geo_distri',\n",
        " 'admin_dist',\n",
        " 'address',\n",
        " 'state_code',\n",
        " 'zip',\n",
        " 'principal',\n",
        " 'prin_ph',\n",
        " 'fax',\n",
        " 'grades',\n",
        " 'city',\n",
        " 'cartodb_id',\n",
        " 'created_at',\n",
        " 'updated_at']"
       ]
      }
     ],
     "prompt_number": 7
    },
    {
     "cell_type": "code",
     "collapsed": false,
     "input": [
      "#Create a function that will be applied to each element of a DataFrame.\n",
      "def remove_nonbreak_spaces(df_element):\n",
      "    \"\"\"Function to remove non-breaking spaces.\"\"\"\n",
      "    if type(df_element) == str:\n",
      "        df_element = df_element.replace('\\xc2\\xa0', '')\n",
      "        df_element = df_element.replace(' ', '')\n",
      "        return df_element"
     ],
     "language": "python",
     "metadata": {},
     "outputs": [],
     "prompt_number": 2
    },
    {
     "cell_type": "code",
     "collapsed": false,
     "input": [
      "#Apply remove_nonbreak_spaces to each element of school_points.\n",
      "#THIS ISN'T A GOOD IDEA FOR THE SCHOOL NAME DATAFRAME!\n",
      "\n",
      "#school_points_fixed = school_points.applymap(remove_nonbreak_spaces)\n",
      "#print school_points_fixed.shape"
     ],
     "language": "python",
     "metadata": {},
     "outputs": [],
     "prompt_number": 70
    },
    {
     "cell_type": "code",
     "collapsed": false,
     "input": [
      "#Apply remove_nonbreak_spaces to just the ats_code column\n",
      "school_points_fixed = school_points\n",
      "school_points_fixed.ix[:,'ats_code'] = school_points_fixed.ix[:,'ats_code'].map(remove_nonbreak_spaces)\n",
      "school_points_fixed = school_points_fixed.where(pd.notnull(school_points_fixed), None)"
     ],
     "language": "python",
     "metadata": {},
     "outputs": [],
     "prompt_number": 3
    },
    {
     "cell_type": "code",
     "collapsed": false,
     "input": [
      "from pandas.io import sql\n",
      "import MySQLdb as db\n",
      "\n",
      "#Open connection to mysql database\n",
      "censusCon = db.connect('localhost','','','censusdb')"
     ],
     "language": "python",
     "metadata": {},
     "outputs": [],
     "prompt_number": 10
    },
    {
     "cell_type": "code",
     "collapsed": false,
     "input": [
      "#Write dataframe to mysql database - ONLY NEEDS TO BE DONE ONCE\n",
      "#school_points_fixed.to_sql(con=censusCon, name='school_name', if_exists='replace', flavor='mysql')"
     ],
     "language": "python",
     "metadata": {},
     "outputs": [
      {
       "output_type": "stream",
       "stream": "stderr",
       "text": [
        "/home/joshuaainsley/anaconda/lib/python2.7/site-packages/pandas/io/sql.py:520: FutureWarning: The 'mysql' flavor with DBAPI connection is deprecated and will be removed in future versions. MySQL will be further supported with SQLAlchemy engines.\n",
        "  warnings.warn(_MYSQL_WARNING, FutureWarning)\n"
       ]
      }
     ],
     "prompt_number": 10
    },
    {
     "cell_type": "code",
     "collapsed": false,
     "input": [
      "from pandas.io.sql import read_sql\n",
      "\n",
      "#Select entry for a specific ats_code\n",
      "s = read_sql('SELECT * FROM school_name WHERE ats_code = \"30Q234\"', censusCon)"
     ],
     "language": "python",
     "metadata": {},
     "outputs": [],
     "prompt_number": 11
    },
    {
     "cell_type": "code",
     "collapsed": false,
     "input": [
      "print s"
     ],
     "language": "python",
     "metadata": {},
     "outputs": [
      {
       "output_type": "stream",
       "stream": "stdout",
       "text": [
        "   index                                           the_geom ats_code boro  \\\n",
        "0      3  0101000020E610000041AC55B4147B52C0396566A22F62...   30Q234    Q   \n",
        "\n",
        "   boronum loc_code schoolname    sch_type  managed_by  geo_distri  \\\n",
        "0        4     Q234   P.S. 234  Elementary           1          30   \n",
        "\n",
        "      ...      state_code    zip    principal       prin_ph           fax  \\\n",
        "0     ...              NY  11102  THEA PALLOS  718-932-5650  718-932-5398   \n",
        "\n",
        "                    grades    city cartodb_id                     created_at  \\\n",
        "0  PK,0K,01,02,03,04,05,SE  QUEENS        899  2014-08-06 21:17:03.206366+00   \n",
        "\n",
        "                      updated_at  \n",
        "0  2014-08-06 21:17:03.206366+00  \n",
        "\n",
        "[1 rows x 22 columns]\n"
       ]
      }
     ],
     "prompt_number": 12
    }
   ],
   "metadata": {}
  }
 ]
}