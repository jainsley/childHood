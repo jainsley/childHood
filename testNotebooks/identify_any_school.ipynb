{
 "metadata": {
  "name": "",
  "signature": "sha256:f577460d3b6d1d48e62b9185b032909ac9de461d91f24fb4d07beb9ab5c6470f"
 },
 "nbformat": 3,
 "nbformat_minor": 0,
 "worksheets": [
  {
   "cells": [
    {
     "cell_type": "code",
     "collapsed": false,
     "input": [
      "#!/usr/bin/env python\n",
      "\n",
      "# coding: utf-8\n",
      "\n",
      "#Import packages\n",
      "import sys, getopt, pymongo\n",
      "import MySQLdb as mdb\n",
      "from pymongo import MongoClient\n",
      "\n",
      "#Import functions for Google API\n",
      "import googleAPIFunctions as gf"
     ],
     "language": "python",
     "metadata": {},
     "outputs": [],
     "prompt_number": 2
    },
    {
     "cell_type": "code",
     "collapsed": false,
     "input": [
      "#Define dictionaries of grade and age.\n",
      "grade_age = {'PK':4,\n",
      "             '0K':5,\n",
      "             '01':6,\n",
      "             '02':7,\n",
      "             '03':8,\n",
      "             '04':9,\n",
      "             '05':10,\n",
      "             '06':11,\n",
      "             '07':12,\n",
      "             '08':13,\n",
      "             '09':14,\n",
      "             '10':15,\n",
      "             '11':16,\n",
      "             '12':17}\n",
      "\n",
      "age_grade = {'4':'PK',\n",
      "             '5':'0K',\n",
      "             '6':'01',\n",
      "             '7':'02',\n",
      "             '8':'03',\n",
      "             '9':'04',\n",
      "             '10':'05',\n",
      "             '11':'06',\n",
      "             '12':'07',\n",
      "             '13':'08',\n",
      "             '14':'09',\n",
      "             '15':'10',\n",
      "             '16':'11',\n",
      "             '17':'12'}"
     ],
     "language": "python",
     "metadata": {},
     "outputs": [],
     "prompt_number": 3
    },
    {
     "cell_type": "code",
     "collapsed": false,
     "input": [
      "#Define query address and age\n",
      "#address = '121 saratoga ave brooklyn NY'\n",
      "#address = '1030 86th St Brooklyn, NY'\n",
      "address = '308 hemlock st brooklyn, ny'\n",
      "age = '7'\n",
      "\n",
      "#Get latitude and longitude for input address\n",
      "addressLatLng = gf.getGeocodeLatLong(gf.googleGeocoding(address))"
     ],
     "language": "python",
     "metadata": {},
     "outputs": [],
     "prompt_number": 21
    },
    {
     "cell_type": "code",
     "collapsed": false,
     "input": [
      "#Create a connection to a mongoDB\n",
      "client = MongoClient()\n",
      "db = client.schoolDB\n",
      "\n",
      "#Define mongoDB query\n",
      "query = {'geometry':{ '$geoIntersects':{ '$geometry':{'type':'Point', \n",
      "                                                      'coordinates':[addressLatLng['lng'],addressLatLng['lat']]}}}}"
     ],
     "language": "python",
     "metadata": {},
     "outputs": []
    },
    {
     "cell_type": "code",
     "collapsed": false,
     "input": [
      "#Function to query mongo database based on child age\n",
      "\n",
      "def school_query(address):\n",
      "    full_entry = []\n",
      "    query_dbn = []\n",
      "    for item in db.es_zones.find(query):\n",
      "        query_dbn.append(item['properties']['dbn'])\n",
      "        full_entry.append(item)\n",
      "    for item in db.ms_zones.find(query):\n",
      "        query_dbn.append(item['properties']['dbn'])\n",
      "        full_entry.append(item)\n",
      "    #For high schools, use a separate google maps API query to find the nearest option\n",
      "    #for item in db.hs_zones.find(query):\n",
      "    #    query_dbn.append(item['properties']['dbn'])\n",
      "    #    full_entry.append(item)\n",
      "    return full_entry, query_dbn"
     ],
     "language": "python",
     "metadata": {},
     "outputs": [],
     "prompt_number": 9
    },
    {
     "cell_type": "code",
     "collapsed": false,
     "input": [
      "schoolFull, schoolDBN = school_query(address)"
     ],
     "language": "python",
     "metadata": {},
     "outputs": [],
     "prompt_number": 22
    },
    {
     "cell_type": "code",
     "collapsed": false,
     "input": [
      "#Check output\n",
      "#print schoolDBN, schoolFull"
     ],
     "language": "python",
     "metadata": {},
     "outputs": [],
     "prompt_number": 18
    },
    {
     "cell_type": "code",
     "collapsed": false,
     "input": [
      "#Define a funciton to find the nearest school with matching grade"
     ],
     "language": "python",
     "metadata": {},
     "outputs": []
    },
    {
     "cell_type": "code",
     "collapsed": false,
     "input": [
      "#Define a function to get the school name for the geographical coordinates\n",
      "def get_school_name(query_dbn, full_entry):\n",
      "    query_results = []\n",
      "    for idx, val in enumerate(query_dbn):\n",
      "        if val == \"Unzoned\" or val == None:\n",
      "             query_results.append(full_entry[idx]['properties']['remarks'])\n",
      "        else:\n",
      "            cursor.execute(\"SELECT * FROM school_name WHERE ats_code = %s\", [val])\n",
      "            #print cursor.fetchall()[6]\n",
      "            query_results.append(cursor.fetchone()[6])\n",
      "            if full_entry[idx]['properties']['remarks'] != None:\n",
      "                query_results.append(full_entry[idx]['properties']['remarks'])\n",
      "    return(query_results)"
     ],
     "language": "python",
     "metadata": {},
     "outputs": [],
     "prompt_number": 13
    },
    {
     "cell_type": "code",
     "collapsed": false,
     "input": [
      "#Open connection to mysql database\n",
      "censusCon = mdb.connect('localhost','','','censusdb')\n",
      "cursor = censusCon.cursor()\n",
      "\n",
      "results = get_school_name(schoolDBN, schoolFull)\n",
      "\n",
      "censusCon.close()"
     ],
     "language": "python",
     "metadata": {},
     "outputs": [],
     "prompt_number": 23
    },
    {
     "cell_type": "code",
     "collapsed": false,
     "input": [
      "results"
     ],
     "language": "python",
     "metadata": {},
     "outputs": [
      {
       "metadata": {},
       "output_type": "pyout",
       "prompt_number": 24,
       "text": [
        "[u'Beginning in 2013-14, District 23 is unzoned at the elementary school level.  Call 718-935-2003 for more information.',\n",
        " u'Unzoned area for District 23 middle schools. Contact 718-935-2003 for more information.']"
       ]
      }
     ],
     "prompt_number": 24
    }
   ],
   "metadata": {}
  }
 ]
}