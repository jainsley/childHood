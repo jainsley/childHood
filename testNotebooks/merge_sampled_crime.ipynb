{
 "metadata": {
  "name": "",
  "signature": "sha256:5a5b53b8355e3382be72b68563538a406b168c31f6b817ee9f3f27b56a9d8943"
 },
 "nbformat": 3,
 "nbformat_minor": 0,
 "worksheets": [
  {
   "cells": [
    {
     "cell_type": "code",
     "collapsed": false,
     "input": [
      "#Import packages\n",
      "import numpy as np\n",
      "import pickle"
     ],
     "language": "python",
     "metadata": {},
     "outputs": [],
     "prompt_number": 1
    },
    {
     "cell_type": "code",
     "collapsed": false,
     "input": [
      "crime1 = pickle.load(open(\"neighborhoods_sample_crime_to150.p\", \"rb\"))\n",
      "crime2 = pickle.load(open(\"neighborhoods_sample_crime_151toEnd.p\", \"rb\"))"
     ],
     "language": "python",
     "metadata": {},
     "outputs": [],
     "prompt_number": 2
    },
    {
     "cell_type": "code",
     "collapsed": false,
     "input": [
      "print len(crime1), len(crime2)"
     ],
     "language": "python",
     "metadata": {},
     "outputs": [
      {
       "output_type": "stream",
       "stream": "stdout",
       "text": [
        "150 115\n"
       ]
      }
     ],
     "prompt_number": 3
    },
    {
     "cell_type": "code",
     "collapsed": false,
     "input": [
      "merged_crime = dict(crime1.items() + crime2.items())"
     ],
     "language": "python",
     "metadata": {},
     "outputs": [],
     "prompt_number": 4
    },
    {
     "cell_type": "code",
     "collapsed": false,
     "input": [
      "#import pandas as pd\n",
      "#crimeDf = pd.DataFrame(merged_crime)"
     ],
     "language": "python",
     "metadata": {},
     "outputs": [],
     "prompt_number": 8
    },
    {
     "cell_type": "code",
     "collapsed": false,
     "input": [
      "neighborhoodCrime = []\n",
      "for i in merged_crime.keys():\n",
      "     neighborhoodCrime.append([i, np.mean(merged_crime[i]), np.std(merged_crime[i])])"
     ],
     "language": "python",
     "metadata": {},
     "outputs": [],
     "prompt_number": 23
    },
    {
     "cell_type": "code",
     "collapsed": false,
     "input": [
      "len(neighborhoodCrime)"
     ],
     "language": "python",
     "metadata": {},
     "outputs": [
      {
       "metadata": {},
       "output_type": "pyout",
       "prompt_number": 24,
       "text": [
        "265"
       ]
      }
     ],
     "prompt_number": 24
    },
    {
     "cell_type": "code",
     "collapsed": false,
     "input": [
      "allCrime = []\n",
      "for i in merged_crime.keys():\n",
      "    allCrime.append(merged_crime[i])\n",
      "\n",
      "NYCcrime = ['NYC', np.mean(allCrime), np.std(allCrime)]\n",
      "NYCcrime"
     ],
     "language": "python",
     "metadata": {},
     "outputs": [
      {
       "metadata": {},
       "output_type": "pyout",
       "prompt_number": 26,
       "text": [
        "['NYC', 460.27305660377357, 509.32696338282665]"
       ]
      }
     ],
     "prompt_number": 26
    },
    {
     "cell_type": "code",
     "collapsed": false,
     "input": [
      "neighborhoodCrime.append(NYCcrime)"
     ],
     "language": "python",
     "metadata": {},
     "outputs": [],
     "prompt_number": 27
    },
    {
     "cell_type": "code",
     "collapsed": false,
     "input": [
      "import pandas as pd\n",
      "crimeDF = pd.DataFrame(neighborhoodCrime)\n",
      "crimeDF.columns = ['Neighborhood', 'Mean', 'StdDev']"
     ],
     "language": "python",
     "metadata": {},
     "outputs": [],
     "prompt_number": 31
    },
    {
     "cell_type": "code",
     "collapsed": false,
     "input": [
      "crimeDF.head()"
     ],
     "language": "python",
     "metadata": {},
     "outputs": [
      {
       "html": [
        "<div style=\"max-height:1000px;max-width:1500px;overflow:auto;\">\n",
        "<table border=\"1\" class=\"dataframe\">\n",
        "  <thead>\n",
        "    <tr style=\"text-align: right;\">\n",
        "      <th></th>\n",
        "      <th>Neighborhood</th>\n",
        "      <th>Mean</th>\n",
        "      <th>StdDev</th>\n",
        "    </tr>\n",
        "  </thead>\n",
        "  <tbody>\n",
        "    <tr>\n",
        "      <th>0</th>\n",
        "      <td>         Ozone Park</td>\n",
        "      <td> 456.67</td>\n",
        "      <td> 140.934599</td>\n",
        "    </tr>\n",
        "    <tr>\n",
        "      <th>1</th>\n",
        "      <td>         Greenpoint</td>\n",
        "      <td> 352.51</td>\n",
        "      <td> 163.291732</td>\n",
        "    </tr>\n",
        "    <tr>\n",
        "      <th>2</th>\n",
        "      <td> Financial District</td>\n",
        "      <td> 646.57</td>\n",
        "      <td> 169.534495</td>\n",
        "    </tr>\n",
        "    <tr>\n",
        "      <th>3</th>\n",
        "      <td>          Arlington</td>\n",
        "      <td>  52.47</td>\n",
        "      <td>  13.368212</td>\n",
        "    </tr>\n",
        "    <tr>\n",
        "      <th>4</th>\n",
        "      <td>   Ferry Point Park</td>\n",
        "      <td>  60.77</td>\n",
        "      <td>  43.547642</td>\n",
        "    </tr>\n",
        "  </tbody>\n",
        "</table>\n",
        "</div>"
       ],
       "metadata": {},
       "output_type": "pyout",
       "prompt_number": 34,
       "text": [
        "         Neighborhood    Mean      StdDev\n",
        "0          Ozone Park  456.67  140.934599\n",
        "1          Greenpoint  352.51  163.291732\n",
        "2  Financial District  646.57  169.534495\n",
        "3           Arlington   52.47   13.368212\n",
        "4    Ferry Point Park   60.77   43.547642"
       ]
      }
     ],
     "prompt_number": 34
    },
    {
     "cell_type": "code",
     "collapsed": false,
     "input": [
      "from pandas.io import sql\n",
      "import MySQLdb as mdb\n",
      "\n",
      "#Open connection to mysql database\n",
      "censusCon = mdb.connect('localhost','','','censusdb')\n",
      "\n",
      "#Write dataframe to mysql database - ONLY NEEDS TO BE DONE ONCE\n",
      "#crimeDF.to_sql(con=censusCon, name='sampledCrime', if_exists='replace', flavor='mysql')"
     ],
     "language": "python",
     "metadata": {},
     "outputs": [
      {
       "output_type": "stream",
       "stream": "stderr",
       "text": [
        "/home/joshuaainsley/anaconda/lib/python2.7/site-packages/pandas/io/sql.py:520: FutureWarning: The 'mysql' flavor with DBAPI connection is deprecated and will be removed in future versions. MySQL will be further supported with SQLAlchemy engines.\n",
        "  warnings.warn(_MYSQL_WARNING, FutureWarning)\n"
       ]
      }
     ],
     "prompt_number": 35
    }
   ],
   "metadata": {}
  }
 ]
}