{
 "metadata": {
  "name": "",
  "signature": "sha256:fd5515dfb75d209e9bc4d3f857fcd051123c843f9abe0460c8cdb66c886d9d26"
 },
 "nbformat": 3,
 "nbformat_minor": 0,
 "worksheets": [
  {
   "cells": [
    {
     "cell_type": "code",
     "collapsed": false,
     "input": [
      "#Change a pandas.io function to allow longer strings\n",
      "\n",
      "from pandas.io import sql\n",
      "\n",
      "def get_sqltype(pytype, flavor):\n",
      "    sqltype = {'mysql': 'VARCHAR (120)', # change the VARCHAR value to something larger\n",
      "               'sqlite': 'TEXT'}\n",
      "\n",
      "    if issubclass(pytype, np.floating):\n",
      "        sqltype['mysql'] = 'FLOAT'\n",
      "        sqltype['sqlite'] = 'REAL'\n",
      "    if issubclass(pytype, np.integer):\n",
      "        sqltype['mysql'] = 'BIGINT'\n",
      "        sqltype['sqlite'] = 'INTEGER'\n",
      "    if issubclass(pytype, np.datetime64) or pytype is datetime:\n",
      "        sqltype['mysql'] = 'DATETIME'\n",
      "        sqltype['sqlite'] = 'TIMESTAMP'\n",
      "    if pytype is datetime.date:\n",
      "        sqltype['mysql'] = 'DATE'\n",
      "        sqltype['sqlite'] = 'TIMESTAMP'\n",
      "    if issubclass(pytype, np.bool_):\n",
      "        sqltype['sqlite'] = 'INTEGER'\n",
      "\n",
      "    return sqltype[flavor]\n",
      "\n",
      "sql.get_sqltype = get_sqltype"
     ],
     "language": "python",
     "metadata": {},
     "outputs": []
    }
   ],
   "metadata": {}
  }
 ]
}