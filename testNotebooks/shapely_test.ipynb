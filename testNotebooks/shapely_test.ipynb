{
 "metadata": {
  "name": "",
  "signature": "sha256:b68f05d419afe93d9ce13b69f9491831a804c2af860b1dcc2c3b4aca71310255"
 },
 "nbformat": 3,
 "nbformat_minor": 0,
 "worksheets": [
  {
   "cells": [
    {
     "cell_type": "code",
     "collapsed": false,
     "input": [
      "import random\n",
      "#import shapely\n",
      "from shapely.geometry import Polygon, Point\n",
      "\n",
      "INVALID_X = -9999\n",
      "INVALID_Y = -9999\n",
      "\n",
      "def get_random_point_in_polygon(poly):\n",
      "     (minx, miny, maxx, maxy) = poly.bounds\n",
      "     p = Point(INVALID_X, INVALID_Y)\n",
      "     while not poly.contains(p):\n",
      "         p_x = random.uniform(minx, maxx)\n",
      "         p_y = random.uniform(miny, maxy)\n",
      "         p = Point(p_x, p_y)\n",
      "     return p\n",
      "        \n",
      "random_points = []\n",
      "\n",
      "p = Polygon([(0, 0), (0, 2), (1, 1), (2, 2), (2, 0), (1, 1), (0, 0)])\n",
      "for i in range(0, 10):\n",
      "    point_in_poly = get_random_point_in_polygon(p)\n",
      "    random_points.append(point_in_poly)\n",
      "\n",
      "for i in random_points:\n",
      "    print i"
     ],
     "language": "python",
     "metadata": {},
     "outputs": [
      {
       "output_type": "stream",
       "stream": "stdout",
       "text": [
        "POINT (0.757891410193555 1.199716656123673)\n",
        "POINT (0.3459479188280286 0.858336704189919)\n",
        "POINT (0.04571594602108253 0.536791665243078)\n",
        "POINT (0.3526833173975918 0.9116054539838165)\n",
        "POINT (1.54364974188693 1.36795935028685)\n",
        "POINT (0.1620372755014607 0.1700602424091102)\n",
        "POINT (1.574429873343333 0.7812841100255559)\n",
        "POINT (1.866830921101888 0.2853481969082685)\n",
        "POINT (0.4770922140857481 0.8430923478492114)\n",
        "POINT (1.50309514740495 0.8937069413289618)\n"
       ]
      }
     ],
     "prompt_number": 43
    },
    {
     "cell_type": "code",
     "collapsed": false,
     "input": [
      "for i in random_points:\n",
      "    print p.contains(i)"
     ],
     "language": "python",
     "metadata": {},
     "outputs": [
      {
       "output_type": "stream",
       "stream": "stdout",
       "text": [
        "True\n",
        "True\n",
        "True\n",
        "True\n",
        "True\n",
        "True\n",
        "True\n",
        "True\n",
        "True\n",
        "True\n"
       ]
      }
     ],
     "prompt_number": 48
    }
   ],
   "metadata": {}
  }
 ]
}