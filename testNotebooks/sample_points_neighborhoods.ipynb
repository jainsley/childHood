{
 "metadata": {
  "name": "",
  "signature": "sha256:ee430b5c0863fc01a4a630943d50be3d54c1584b83aaf2e26442dc9d26cef20c"
 },
 "nbformat": 3,
 "nbformat_minor": 0,
 "worksheets": [
  {
   "cells": [
    {
     "cell_type": "code",
     "collapsed": false,
     "input": [
      "#Import packages\n",
      "import pymongo\n",
      "from pymongo import MongoClient\n",
      "import json\n",
      "import pandas as pd"
     ],
     "language": "python",
     "metadata": {},
     "outputs": [],
     "prompt_number": 1
    },
    {
     "cell_type": "code",
     "collapsed": false,
     "input": [
      "#Set up mongoDB connection\n",
      "client = MongoClient()\n",
      "db = client.hoods"
     ],
     "language": "python",
     "metadata": {},
     "outputs": [],
     "prompt_number": 2
    },
    {
     "cell_type": "code",
     "collapsed": false,
     "input": [
      "db.collection_names()"
     ],
     "language": "python",
     "metadata": {},
     "outputs": [
      {
       "metadata": {},
       "output_type": "pyout",
       "prompt_number": 3,
       "text": [
        "[u'system.indexes', u'burroughs', u'hoods']"
       ]
      }
     ],
     "prompt_number": 3
    },
    {
     "cell_type": "code",
     "collapsed": false,
     "input": [
      "#Define a function to randomly sample a point in a polygon\n",
      "\n",
      "def gen_random_point_in_polygon(poly):\n",
      "    \n",
      "    from shapely.geometry import mapping, shape, Polygon, Point\n",
      "    \n",
      "    import random\n",
      "    initialX = -9999\n",
      "    initialY = -9999\n",
      "    (minX, minY, maxX, maxY) = poly.bounds\n",
      "    p = Point(initialX, initialY)\n",
      "    while not poly.contains(p):\n",
      "        pX = random.uniform(minX, maxX)\n",
      "        pY = random.uniform(minY, maxY)\n",
      "        p = Point(pX, pY)\n",
      "    return p"
     ],
     "language": "python",
     "metadata": {},
     "outputs": [],
     "prompt_number": 36
    },
    {
     "cell_type": "code",
     "collapsed": false,
     "input": [
      "from shapely.geometry import mapping, shape, Polygon, Point\n",
      "\n",
      "randomHood = {}\n",
      "\n",
      "for item in db.hoods.find({}):\n",
      "    \n",
      "    random_points = []\n",
      "    \n",
      "    hoodzone = shape(item['geometry'])\n",
      "    hoodname = item['properties']['neighborhood']\n",
      "    \n",
      "    for i in range(0, 100):\n",
      "        point_in_poly = gen_random_point_in_polygon(hoodzone)\n",
      "        random_points.append(point_in_poly)\n",
      "    \n",
      "    randomHood[hoodname] = random_points"
     ],
     "language": "python",
     "metadata": {},
     "outputs": [],
     "prompt_number": 38
    },
    {
     "cell_type": "code",
     "collapsed": false,
     "input": [
      "#for item in randomHood['Cypress Hills']:\n",
      "#    print item.x, item.y"
     ],
     "language": "python",
     "metadata": {},
     "outputs": [],
     "prompt_number": 44
    },
    {
     "cell_type": "code",
     "collapsed": false,
     "input": [
      "#randomHood.keys()"
     ],
     "language": "python",
     "metadata": {},
     "outputs": [],
     "prompt_number": 48
    },
    {
     "cell_type": "code",
     "collapsed": false,
     "input": [
      "#Save the randomHood dictionary into a pickle file.\n",
      "import pickle\n",
      "pickle.dump(randomHood, open(\"NYC_neighborhood_random_points.p\", \"wb\"))\n",
      "\n",
      "#Load the randomHood dictionary back from the pickle file.\n",
      "import pickle\n",
      "randomHood2 = pickle.load(open(\"NYC_neighborhood_random_points.p\", \"rb\"))"
     ],
     "language": "python",
     "metadata": {},
     "outputs": [],
     "prompt_number": 51
    }
   ],
   "metadata": {}
  }
 ]
}