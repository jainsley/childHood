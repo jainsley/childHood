{
 "metadata": {
  "name": "",
  "signature": "sha256:113bd71230c3e8f48f0c9b1b0c84afc16d115467501a1670589a1485221c5dd0"
 },
 "nbformat": 3,
 "nbformat_minor": 0,
 "worksheets": [
  {
   "cells": [
    {
     "cell_type": "code",
     "collapsed": false,
     "input": [
      "#Import packages\n",
      "import pymongo\n",
      "from pymongo import MongoClient\n",
      "import pandas as pd\n",
      "import MySQLdb as mdb\n",
      "import googleAPIFunctions as gf\n",
      "\n",
      "age_grade = {'4':'PK',\n",
      "             '5':'0K',\n",
      "             '6':'01',\n",
      "             '7':'02',\n",
      "             '8':'03',\n",
      "             '9':'04',\n",
      "             '10':'05',\n",
      "             '11':'06',\n",
      "             '12':'07',\n",
      "             '13':'08',\n",
      "             '14':'09',\n",
      "             '15':'10',\n",
      "             '16':'11',\n",
      "             '17':'12'}"
     ],
     "language": "python",
     "metadata": {},
     "outputs": [],
     "prompt_number": 1
    },
    {
     "cell_type": "code",
     "collapsed": false,
     "input": [
      "#Set up mongoDB connection\n",
      "client = MongoClient()\n",
      "db = client.censusDB"
     ],
     "language": "python",
     "metadata": {},
     "outputs": [],
     "prompt_number": 2
    },
    {
     "cell_type": "code",
     "collapsed": false,
     "input": [
      "#Load the randomHood dictionary back from the pickle file.\n",
      "import pickle\n",
      "randomHood = pickle.load(open(\"NYC_neighborhood_random_points.p\", \"rb\"))"
     ],
     "language": "python",
     "metadata": {},
     "outputs": [],
     "prompt_number": 3
    },
    {
     "cell_type": "code",
     "collapsed": false,
     "input": [
      "len(randomHood)"
     ],
     "language": "python",
     "metadata": {},
     "outputs": [
      {
       "metadata": {},
       "output_type": "pyout",
       "prompt_number": 4,
       "text": [
        "266"
       ]
      }
     ],
     "prompt_number": 4
    },
    {
     "cell_type": "code",
     "collapsed": false,
     "input": [
      "len(randomHood.keys())"
     ],
     "language": "python",
     "metadata": {},
     "outputs": [
      {
       "metadata": {},
       "output_type": "pyout",
       "prompt_number": 5,
       "text": [
        "266"
       ]
      }
     ],
     "prompt_number": 5
    },
    {
     "cell_type": "code",
     "collapsed": false,
     "input": [
      "#Open connection to mysql database\n",
      "censusCon = mdb.connect('localhost','','','censusdb')\n",
      "cursor = censusCon.cursor()"
     ],
     "language": "python",
     "metadata": {},
     "outputs": [],
     "prompt_number": 6
    },
    {
     "cell_type": "code",
     "collapsed": false,
     "input": [
      "def propKids(ser):\n",
      "    if ser.loc['Tot_Population'] > 0:\n",
      "        ratio = float(ser[1:].sum()) / float(ser.loc['Tot_Population'])\n",
      "        return ratio"
     ],
     "language": "python",
     "metadata": {},
     "outputs": [],
     "prompt_number": 7
    },
    {
     "cell_type": "code",
     "collapsed": false,
     "input": [
      "schoolType = ['es', 'ms', 'hs']\n",
      "\n",
      "selCol = ['Tot_Population', 'F_Under_5', 'F_5_to_9', 'F_10_to_14', 'F_15_to_17',\n",
      "          'M_Under_5', 'M_5_to_9', 'M_10_to_14', 'M_15_to_17']\n",
      "\n",
      "hood = 'DUMBO'\n",
      "\n",
      "Kids = []\n",
      "progress = 1\n",
      "\n",
      "for types in schoolType:\n",
      "    #for hood in randomHood.keys():\n",
      "    #Indent everything below if you uncomment the line above\n",
      "    for coords in randomHood[hood][0:10]:\n",
      "        \n",
      "        query = {'geometry' : { '$geoIntersects':{ '$geometry':{'type':'Point', 'coordinates': [coords.x,coords.y]}}}}\n",
      "        query_zone = []\n",
      "        \n",
      "        for item in db.Boroughs.find(query):\n",
      "            borough = item['properties']['BoroName']\n",
      "\n",
      "        if borough == \"Brooklyn\":\n",
      "            coll = db.Brooklyn\n",
      "        elif borough == \"Bronx\":\n",
      "            coll = db.Bronx\n",
      "        elif borough == \"Manhattan\":\n",
      "            coll = db.Manhattan\n",
      "        elif borough == \"Staten Island\":\n",
      "            coll = db.StatenIsland\n",
      "        elif borough == \"Queens\":\n",
      "            coll = db.Queens\n",
      "\n",
      "        for item in coll.find(query):\n",
      "            query_zone.append(item['properties']['ct2010'])\n",
      "            query_zone.append(hood)\n",
      "            query_zone.append(item['properties']['boroname'])\n",
      "            if types == 'es':\n",
      "                query_zone.append('LessThanNine')\n",
      "            elif types == 'ms':\n",
      "                query_zone.append('TenToFourteen')\n",
      "            elif types == 'hs':\n",
      "                query_zone.append('TenToSeventeen')\n",
      "                \n",
      "            sql_query = \"SELECT Tot_Population,F_Under_5,F_5_to_9,F_10_to_14,F_15_to_17,M_Under_5,M_5_to_9,M_10_to_14,M_15_to_17 FROM census_data WHERE GEOid2 LIKE %s\"\n",
      "            cursor.execute(sql_query, ('%' + query_zone[0] + '%',))\n",
      "            zonePop = list(cursor.fetchall())\n",
      "            zonePopDf = pd.DataFrame(zonePop, columns=selCol)\n",
      "\n",
      "            dfIndex = []\n",
      "\n",
      "            if types == 'hs':\n",
      "                dfIndex = ['Tot_Population', 'F_10_to_14', 'F_15_to_17', 'M_10_to_14', 'M_15_to_17']\n",
      "            elif types == 'ms':\n",
      "                dfIndex = ['Tot_Population', 'F_10_to_14', 'M_10_to_14']\n",
      "            elif types == 'es':\n",
      "                dfIndex = ['Tot_Population', 'F_Under_5', 'F_5_to_9', 'M_Under_5', 'M_5_to_9']\n",
      "\n",
      "            selDf = zonePopDf.loc[:,dfIndex]\n",
      "            Kids.append([selDf.apply(propKids, 1).mean(), query_zone[3], query_zone[1], query_zone[2]])"
     ],
     "language": "python",
     "metadata": {},
     "outputs": [],
     "prompt_number": 8
    },
    {
     "cell_type": "code",
     "collapsed": false,
     "input": [
      "query_zone"
     ],
     "language": "python",
     "metadata": {},
     "outputs": [
      {
       "metadata": {},
       "output_type": "pyout",
       "prompt_number": 9,
       "text": [
        "[u'002100', 'DUMBO', u'Brooklyn', 'TenToSeventeen']"
       ]
      }
     ],
     "prompt_number": 9
    },
    {
     "cell_type": "code",
     "collapsed": false,
     "input": [
      "Kids"
     ],
     "language": "python",
     "metadata": {},
     "outputs": [
      {
       "metadata": {},
       "output_type": "pyout",
       "prompt_number": 10,
       "text": [
        "[[0.15227264611227853, 'LessThanNine', 'DUMBO', u'Brooklyn'],\n",
        " [0.15227264611227853, 'LessThanNine', 'DUMBO', u'Brooklyn'],\n",
        " [0.15227264611227853, 'LessThanNine', 'DUMBO', u'Brooklyn'],\n",
        " [0.15227264611227853, 'LessThanNine', 'DUMBO', u'Brooklyn'],\n",
        " [0.15227264611227853, 'LessThanNine', 'DUMBO', u'Brooklyn'],\n",
        " [0.15227264611227853, 'LessThanNine', 'DUMBO', u'Brooklyn'],\n",
        " [0.15227264611227853, 'LessThanNine', 'DUMBO', u'Brooklyn'],\n",
        " [0.15227264611227853, 'LessThanNine', 'DUMBO', u'Brooklyn'],\n",
        " [0.15227264611227853, 'LessThanNine', 'DUMBO', u'Brooklyn'],\n",
        " [0.15227264611227853, 'LessThanNine', 'DUMBO', u'Brooklyn'],\n",
        " [0.036910405257439917, 'TenToFourteen', 'DUMBO', u'Brooklyn'],\n",
        " [0.036910405257439917, 'TenToFourteen', 'DUMBO', u'Brooklyn'],\n",
        " [0.036910405257439917, 'TenToFourteen', 'DUMBO', u'Brooklyn'],\n",
        " [0.036910405257439917, 'TenToFourteen', 'DUMBO', u'Brooklyn'],\n",
        " [0.036910405257439917, 'TenToFourteen', 'DUMBO', u'Brooklyn'],\n",
        " [0.036910405257439917, 'TenToFourteen', 'DUMBO', u'Brooklyn'],\n",
        " [0.036910405257439917, 'TenToFourteen', 'DUMBO', u'Brooklyn'],\n",
        " [0.036910405257439917, 'TenToFourteen', 'DUMBO', u'Brooklyn'],\n",
        " [0.036910405257439917, 'TenToFourteen', 'DUMBO', u'Brooklyn'],\n",
        " [0.036910405257439917, 'TenToFourteen', 'DUMBO', u'Brooklyn'],\n",
        " [0.058754593443896649, 'TenToSeventeen', 'DUMBO', u'Brooklyn'],\n",
        " [0.058754593443896649, 'TenToSeventeen', 'DUMBO', u'Brooklyn'],\n",
        " [0.058754593443896649, 'TenToSeventeen', 'DUMBO', u'Brooklyn'],\n",
        " [0.058754593443896649, 'TenToSeventeen', 'DUMBO', u'Brooklyn'],\n",
        " [0.058754593443896649, 'TenToSeventeen', 'DUMBO', u'Brooklyn'],\n",
        " [0.058754593443896649, 'TenToSeventeen', 'DUMBO', u'Brooklyn'],\n",
        " [0.058754593443896649, 'TenToSeventeen', 'DUMBO', u'Brooklyn'],\n",
        " [0.058754593443896649, 'TenToSeventeen', 'DUMBO', u'Brooklyn'],\n",
        " [0.058754593443896649, 'TenToSeventeen', 'DUMBO', u'Brooklyn'],\n",
        " [0.058754593443896649, 'TenToSeventeen', 'DUMBO', u'Brooklyn']]"
       ]
      }
     ],
     "prompt_number": 10
    },
    {
     "cell_type": "code",
     "collapsed": false,
     "input": [
      "schoolType = ['es', 'ms', 'hs']\n",
      "\n",
      "selCol = ['Tot_Population', 'F_Under_5', 'F_5_to_9', 'F_10_to_14', 'F_15_to_17',\n",
      "          'M_Under_5', 'M_5_to_9', 'M_10_to_14', 'M_15_to_17']\n",
      "\n",
      "Kids = []\n",
      "\n",
      "for types in schoolType:\n",
      "    for hood in randomHood.keys():\n",
      "        for coords in randomHood[hood][0:1]:\n",
      "            query = {'geometry' : { '$geoIntersects':{ '$geometry':{'type':'Point', 'coordinates': [coords.x,coords.y]}}}}\n",
      "            query_zone = []\n",
      "            for item in db.censusBlocks.find(query):\n",
      "                query_zone.append(item['properties']['ct2010'])\n",
      "                query_zone.append(hood)\n",
      "                query_zone.append(item['properties']['boroname'])\n",
      "            sql_query = \"SELECT Tot_Population,F_Under_5,F_5_to_9,F_10_to_14,F_15_to_17,M_Under_5,M_5_to_9,M_10_to_14,M_15_to_17 \\\n",
      "            FROM census_data WHERE GEOid2 LIKE %s\"\n",
      "            cursor.execute(sql_query, ('%' + query_zone[0] + '%',))\n",
      "            zonePop = list(cursor.fetchall())\n",
      "            zonePopDf = pd.DataFrame(zonePop, columns=selCol)\n",
      "            \n",
      "            dfIndex = []\n",
      "\n",
      "            if schoolType == 'hs':\n",
      "                dfIndex = ['Tot_Population', 'F_10_to_14', 'F_15_to_17', 'M_10_to_14', 'M_15_to_17']\n",
      "            elif schoolType == 'ms':\n",
      "                dfIndex = ['Tot_Population', 'F_10_to_14', 'M_10_to_14']\n",
      "            elif schoolType == 'es':\n",
      "                dfIndex = ['Tot_Population', 'F_Under_5', 'F_5_to_9', 'M_Under_5', 'M_5_to_9']\n",
      "\n",
      "            selDf = zonePopDf.loc[:,dfIndex]\n",
      "            Kids.append(selDf.apply(propKids, 1).mean())"
     ],
     "language": "python",
     "metadata": {},
     "outputs": [
      {
       "ename": "KeyboardInterrupt",
       "evalue": "",
       "output_type": "pyerr",
       "traceback": [
        "\u001b[1;31m---------------------------------------------------------------------------\u001b[0m\n\u001b[1;31mKeyboardInterrupt\u001b[0m                         Traceback (most recent call last)",
        "\u001b[1;32m<ipython-input-14-75e4098681f4>\u001b[0m in \u001b[0;36m<module>\u001b[1;34m()\u001b[0m\n\u001b[0;32m     11\u001b[0m             \u001b[0mquery\u001b[0m \u001b[1;33m=\u001b[0m \u001b[1;33m{\u001b[0m\u001b[1;34m'geometry'\u001b[0m \u001b[1;33m:\u001b[0m \u001b[1;33m{\u001b[0m \u001b[1;34m'$geoIntersects'\u001b[0m\u001b[1;33m:\u001b[0m\u001b[1;33m{\u001b[0m \u001b[1;34m'$geometry'\u001b[0m\u001b[1;33m:\u001b[0m\u001b[1;33m{\u001b[0m\u001b[1;34m'type'\u001b[0m\u001b[1;33m:\u001b[0m\u001b[1;34m'Point'\u001b[0m\u001b[1;33m,\u001b[0m \u001b[1;34m'coordinates'\u001b[0m\u001b[1;33m:\u001b[0m \u001b[1;33m[\u001b[0m\u001b[0mcoords\u001b[0m\u001b[1;33m.\u001b[0m\u001b[0mx\u001b[0m\u001b[1;33m,\u001b[0m\u001b[0mcoords\u001b[0m\u001b[1;33m.\u001b[0m\u001b[0my\u001b[0m\u001b[1;33m]\u001b[0m\u001b[1;33m}\u001b[0m\u001b[1;33m}\u001b[0m\u001b[1;33m}\u001b[0m\u001b[1;33m}\u001b[0m\u001b[1;33m\u001b[0m\u001b[0m\n\u001b[0;32m     12\u001b[0m             \u001b[0mquery_zone\u001b[0m \u001b[1;33m=\u001b[0m \u001b[1;33m[\u001b[0m\u001b[1;33m]\u001b[0m\u001b[1;33m\u001b[0m\u001b[0m\n\u001b[1;32m---> 13\u001b[1;33m             \u001b[1;32mfor\u001b[0m \u001b[0mitem\u001b[0m \u001b[1;32min\u001b[0m \u001b[0mdb\u001b[0m\u001b[1;33m.\u001b[0m\u001b[0mcensusBlocks\u001b[0m\u001b[1;33m.\u001b[0m\u001b[0mfind\u001b[0m\u001b[1;33m(\u001b[0m\u001b[0mquery\u001b[0m\u001b[1;33m)\u001b[0m\u001b[1;33m:\u001b[0m\u001b[1;33m\u001b[0m\u001b[0m\n\u001b[0m\u001b[0;32m     14\u001b[0m                 \u001b[0mquery_zone\u001b[0m\u001b[1;33m.\u001b[0m\u001b[0mappend\u001b[0m\u001b[1;33m(\u001b[0m\u001b[0mitem\u001b[0m\u001b[1;33m[\u001b[0m\u001b[1;34m'properties'\u001b[0m\u001b[1;33m]\u001b[0m\u001b[1;33m[\u001b[0m\u001b[1;34m'ct2010'\u001b[0m\u001b[1;33m]\u001b[0m\u001b[1;33m)\u001b[0m\u001b[1;33m\u001b[0m\u001b[0m\n\u001b[0;32m     15\u001b[0m \u001b[1;33m\u001b[0m\u001b[0m\n",
        "\u001b[1;32m/home/joshuaainsley/anaconda/lib/python2.7/site-packages/pymongo/cursor.pyc\u001b[0m in \u001b[0;36mnext\u001b[1;34m(self)\u001b[0m\n\u001b[0;32m   1056\u001b[0m             \u001b[1;32mraise\u001b[0m \u001b[0mStopIteration\u001b[0m\u001b[1;33m\u001b[0m\u001b[0m\n\u001b[0;32m   1057\u001b[0m         \u001b[0mdb\u001b[0m \u001b[1;33m=\u001b[0m \u001b[0mself\u001b[0m\u001b[1;33m.\u001b[0m\u001b[0m__collection\u001b[0m\u001b[1;33m.\u001b[0m\u001b[0mdatabase\u001b[0m\u001b[1;33m\u001b[0m\u001b[0m\n\u001b[1;32m-> 1058\u001b[1;33m         \u001b[1;32mif\u001b[0m \u001b[0mlen\u001b[0m\u001b[1;33m(\u001b[0m\u001b[0mself\u001b[0m\u001b[1;33m.\u001b[0m\u001b[0m__data\u001b[0m\u001b[1;33m)\u001b[0m \u001b[1;32mor\u001b[0m \u001b[0mself\u001b[0m\u001b[1;33m.\u001b[0m\u001b[0m_refresh\u001b[0m\u001b[1;33m(\u001b[0m\u001b[1;33m)\u001b[0m\u001b[1;33m:\u001b[0m\u001b[1;33m\u001b[0m\u001b[0m\n\u001b[0m\u001b[0;32m   1059\u001b[0m             \u001b[1;32mif\u001b[0m \u001b[0mself\u001b[0m\u001b[1;33m.\u001b[0m\u001b[0m__manipulate\u001b[0m\u001b[1;33m:\u001b[0m\u001b[1;33m\u001b[0m\u001b[0m\n\u001b[0;32m   1060\u001b[0m                 return db._fix_outgoing(self.__data.popleft(),\n",
        "\u001b[1;32m/home/joshuaainsley/anaconda/lib/python2.7/site-packages/pymongo/cursor.pyc\u001b[0m in \u001b[0;36m_refresh\u001b[1;34m(self)\u001b[0m\n\u001b[0;32m   1000\u001b[0m                               \u001b[0mself\u001b[0m\u001b[1;33m.\u001b[0m\u001b[0m__skip\u001b[0m\u001b[1;33m,\u001b[0m \u001b[0mntoreturn\u001b[0m\u001b[1;33m,\u001b[0m\u001b[1;33m\u001b[0m\u001b[0m\n\u001b[0;32m   1001\u001b[0m                               \u001b[0mself\u001b[0m\u001b[1;33m.\u001b[0m\u001b[0m__query_spec\u001b[0m\u001b[1;33m(\u001b[0m\u001b[1;33m)\u001b[0m\u001b[1;33m,\u001b[0m \u001b[0mself\u001b[0m\u001b[1;33m.\u001b[0m\u001b[0m__fields\u001b[0m\u001b[1;33m,\u001b[0m\u001b[1;33m\u001b[0m\u001b[0m\n\u001b[1;32m-> 1002\u001b[1;33m                               self.__uuid_subtype))\n\u001b[0m\u001b[0;32m   1003\u001b[0m             \u001b[1;32mif\u001b[0m \u001b[1;32mnot\u001b[0m \u001b[0mself\u001b[0m\u001b[1;33m.\u001b[0m\u001b[0m__id\u001b[0m\u001b[1;33m:\u001b[0m\u001b[1;33m\u001b[0m\u001b[0m\n\u001b[0;32m   1004\u001b[0m                 \u001b[0mself\u001b[0m\u001b[1;33m.\u001b[0m\u001b[0m__killed\u001b[0m \u001b[1;33m=\u001b[0m \u001b[0mTrue\u001b[0m\u001b[1;33m\u001b[0m\u001b[0m\n",
        "\u001b[1;32m/home/joshuaainsley/anaconda/lib/python2.7/site-packages/pymongo/cursor.pyc\u001b[0m in \u001b[0;36m__send_message\u001b[1;34m(self, message)\u001b[0m\n\u001b[0;32m    913\u001b[0m \u001b[1;33m\u001b[0m\u001b[0m\n\u001b[0;32m    914\u001b[0m             \u001b[1;32mtry\u001b[0m\u001b[1;33m:\u001b[0m\u001b[1;33m\u001b[0m\u001b[0m\n\u001b[1;32m--> 915\u001b[1;33m                 \u001b[0mres\u001b[0m \u001b[1;33m=\u001b[0m \u001b[0mclient\u001b[0m\u001b[1;33m.\u001b[0m\u001b[0m_send_message_with_response\u001b[0m\u001b[1;33m(\u001b[0m\u001b[0mmessage\u001b[0m\u001b[1;33m,\u001b[0m \u001b[1;33m**\u001b[0m\u001b[0mkwargs\u001b[0m\u001b[1;33m)\u001b[0m\u001b[1;33m\u001b[0m\u001b[0m\n\u001b[0m\u001b[0;32m    916\u001b[0m                 \u001b[0mself\u001b[0m\u001b[1;33m.\u001b[0m\u001b[0m__connection_id\u001b[0m\u001b[1;33m,\u001b[0m \u001b[1;33m(\u001b[0m\u001b[0mresponse\u001b[0m\u001b[1;33m,\u001b[0m \u001b[0msock\u001b[0m\u001b[1;33m,\u001b[0m \u001b[0mpool\u001b[0m\u001b[1;33m)\u001b[0m \u001b[1;33m=\u001b[0m \u001b[0mres\u001b[0m\u001b[1;33m\u001b[0m\u001b[0m\n\u001b[0;32m    917\u001b[0m                 \u001b[1;32mif\u001b[0m \u001b[0mself\u001b[0m\u001b[1;33m.\u001b[0m\u001b[0m__exhaust\u001b[0m\u001b[1;33m:\u001b[0m\u001b[1;33m\u001b[0m\u001b[0m\n",
        "\u001b[1;32m/home/joshuaainsley/anaconda/lib/python2.7/site-packages/pymongo/mongo_client.pyc\u001b[0m in \u001b[0;36m_send_message_with_response\u001b[1;34m(self, message, _must_use_master, **kwargs)\u001b[0m\n\u001b[0;32m   1196\u001b[0m                 \u001b[0msock_info\u001b[0m\u001b[1;33m.\u001b[0m\u001b[0msock\u001b[0m\u001b[1;33m.\u001b[0m\u001b[0msettimeout\u001b[0m\u001b[1;33m(\u001b[0m\u001b[0mkwargs\u001b[0m\u001b[1;33m[\u001b[0m\u001b[1;34m\"network_timeout\"\u001b[0m\u001b[1;33m]\u001b[0m\u001b[1;33m)\u001b[0m\u001b[1;33m\u001b[0m\u001b[0m\n\u001b[0;32m   1197\u001b[0m \u001b[1;33m\u001b[0m\u001b[0m\n\u001b[1;32m-> 1198\u001b[1;33m             \u001b[0mresponse\u001b[0m \u001b[1;33m=\u001b[0m \u001b[0mself\u001b[0m\u001b[1;33m.\u001b[0m\u001b[0m__send_and_receive\u001b[0m\u001b[1;33m(\u001b[0m\u001b[0mmessage\u001b[0m\u001b[1;33m,\u001b[0m \u001b[0msock_info\u001b[0m\u001b[1;33m)\u001b[0m\u001b[1;33m\u001b[0m\u001b[0m\n\u001b[0m\u001b[0;32m   1199\u001b[0m \u001b[1;33m\u001b[0m\u001b[0m\n\u001b[0;32m   1200\u001b[0m             \u001b[1;32mif\u001b[0m \u001b[1;32mnot\u001b[0m \u001b[0mexhaust\u001b[0m\u001b[1;33m:\u001b[0m\u001b[1;33m\u001b[0m\u001b[0m\n",
        "\u001b[1;32m/home/joshuaainsley/anaconda/lib/python2.7/site-packages/pymongo/mongo_client.pyc\u001b[0m in \u001b[0;36m__send_and_receive\u001b[1;34m(self, message, sock_info)\u001b[0m\n\u001b[0;32m   1173\u001b[0m         \u001b[1;32mtry\u001b[0m\u001b[1;33m:\u001b[0m\u001b[1;33m\u001b[0m\u001b[0m\n\u001b[0;32m   1174\u001b[0m             \u001b[0msock_info\u001b[0m\u001b[1;33m.\u001b[0m\u001b[0msock\u001b[0m\u001b[1;33m.\u001b[0m\u001b[0msendall\u001b[0m\u001b[1;33m(\u001b[0m\u001b[0mdata\u001b[0m\u001b[1;33m)\u001b[0m\u001b[1;33m\u001b[0m\u001b[0m\n\u001b[1;32m-> 1175\u001b[1;33m             \u001b[1;32mreturn\u001b[0m \u001b[0mself\u001b[0m\u001b[1;33m.\u001b[0m\u001b[0m__receive_message_on_socket\u001b[0m\u001b[1;33m(\u001b[0m\u001b[1;36m1\u001b[0m\u001b[1;33m,\u001b[0m \u001b[0mrequest_id\u001b[0m\u001b[1;33m,\u001b[0m \u001b[0msock_info\u001b[0m\u001b[1;33m)\u001b[0m\u001b[1;33m\u001b[0m\u001b[0m\n\u001b[0m\u001b[0;32m   1176\u001b[0m         \u001b[1;32mexcept\u001b[0m\u001b[1;33m:\u001b[0m\u001b[1;33m\u001b[0m\u001b[0m\n\u001b[0;32m   1177\u001b[0m             \u001b[0msock_info\u001b[0m\u001b[1;33m.\u001b[0m\u001b[0mclose\u001b[0m\u001b[1;33m(\u001b[0m\u001b[1;33m)\u001b[0m\u001b[1;33m\u001b[0m\u001b[0m\n",
        "\u001b[1;32m/home/joshuaainsley/anaconda/lib/python2.7/site-packages/pymongo/mongo_client.pyc\u001b[0m in \u001b[0;36m__receive_message_on_socket\u001b[1;34m(self, operation, rqst_id, sock_info)\u001b[0m\n\u001b[0;32m   1156\u001b[0m         \u001b[0mReturns\u001b[0m \u001b[0mthe\u001b[0m \u001b[0mresponse\u001b[0m \u001b[0mdata\u001b[0m \u001b[1;32mwith\u001b[0m \u001b[0mthe\u001b[0m \u001b[0mheader\u001b[0m \u001b[0mremoved\u001b[0m\u001b[1;33m.\u001b[0m\u001b[1;33m\u001b[0m\u001b[0m\n\u001b[0;32m   1157\u001b[0m         \"\"\"\n\u001b[1;32m-> 1158\u001b[1;33m         \u001b[0mheader\u001b[0m \u001b[1;33m=\u001b[0m \u001b[0mself\u001b[0m\u001b[1;33m.\u001b[0m\u001b[0m__receive_data_on_socket\u001b[0m\u001b[1;33m(\u001b[0m\u001b[1;36m16\u001b[0m\u001b[1;33m,\u001b[0m \u001b[0msock_info\u001b[0m\u001b[1;33m)\u001b[0m\u001b[1;33m\u001b[0m\u001b[0m\n\u001b[0m\u001b[0;32m   1159\u001b[0m         \u001b[0mlength\u001b[0m \u001b[1;33m=\u001b[0m \u001b[0mstruct\u001b[0m\u001b[1;33m.\u001b[0m\u001b[0munpack\u001b[0m\u001b[1;33m(\u001b[0m\u001b[1;34m\"<i\"\u001b[0m\u001b[1;33m,\u001b[0m \u001b[0mheader\u001b[0m\u001b[1;33m[\u001b[0m\u001b[1;33m:\u001b[0m\u001b[1;36m4\u001b[0m\u001b[1;33m]\u001b[0m\u001b[1;33m)\u001b[0m\u001b[1;33m[\u001b[0m\u001b[1;36m0\u001b[0m\u001b[1;33m]\u001b[0m\u001b[1;33m\u001b[0m\u001b[0m\n\u001b[0;32m   1160\u001b[0m         \u001b[1;31m# No rqst_id for exhaust cursor \"getMore\".\u001b[0m\u001b[1;33m\u001b[0m\u001b[1;33m\u001b[0m\u001b[0m\n",
        "\u001b[1;32m/home/joshuaainsley/anaconda/lib/python2.7/site-packages/pymongo/mongo_client.pyc\u001b[0m in \u001b[0;36m__receive_data_on_socket\u001b[1;34m(self, length, sock_info)\u001b[0m\n\u001b[0;32m   1144\u001b[0m         \u001b[0mmessage\u001b[0m \u001b[1;33m=\u001b[0m \u001b[0mEMPTY\u001b[0m\u001b[1;33m\u001b[0m\u001b[0m\n\u001b[0;32m   1145\u001b[0m         \u001b[1;32mwhile\u001b[0m \u001b[0mlength\u001b[0m\u001b[1;33m:\u001b[0m\u001b[1;33m\u001b[0m\u001b[0m\n\u001b[1;32m-> 1146\u001b[1;33m             \u001b[0mchunk\u001b[0m \u001b[1;33m=\u001b[0m \u001b[0msock_info\u001b[0m\u001b[1;33m.\u001b[0m\u001b[0msock\u001b[0m\u001b[1;33m.\u001b[0m\u001b[0mrecv\u001b[0m\u001b[1;33m(\u001b[0m\u001b[0mlength\u001b[0m\u001b[1;33m)\u001b[0m\u001b[1;33m\u001b[0m\u001b[0m\n\u001b[0m\u001b[0;32m   1147\u001b[0m             \u001b[1;32mif\u001b[0m \u001b[0mchunk\u001b[0m \u001b[1;33m==\u001b[0m \u001b[0mEMPTY\u001b[0m\u001b[1;33m:\u001b[0m\u001b[1;33m\u001b[0m\u001b[0m\n\u001b[0;32m   1148\u001b[0m                 \u001b[1;32mraise\u001b[0m \u001b[0mConnectionFailure\u001b[0m\u001b[1;33m(\u001b[0m\u001b[1;34m\"connection closed\"\u001b[0m\u001b[1;33m)\u001b[0m\u001b[1;33m\u001b[0m\u001b[0m\n",
        "\u001b[1;31mKeyboardInterrupt\u001b[0m: "
       ]
      }
     ],
     "prompt_number": 14
    },
    {
     "cell_type": "code",
     "collapsed": false,
     "input": [
      "schoolType = ['es', 'ms', 'hs']\n",
      "\n",
      "selCol = ['Tot_Population', 'F_Under_5', 'F_5_to_9', 'F_10_to_14', 'F_15_to_17',\n",
      "          'M_Under_5', 'M_5_to_9', 'M_10_to_14', 'M_15_to_17']\n",
      "\n",
      "Kids = []\n",
      "\n",
      "hood = 'Cypress Hills'\n",
      "\n",
      "for types in schoolType:\n",
      "    for coords in randomHood[hood][0:2]:\n",
      "        query = {'geometry' : { '$geoIntersects':{ '$geometry':{'type':'Point', 'coordinates': [coords.x,coords.y]}}}}\n",
      "        query_zone = []\n",
      "        for item in db.censusBlocks.find(query):\n",
      "            query_zone.append(item['properties']['ct2010'])\n",
      "            query_zone.append(hood)\n",
      "            query_zone.append(item['properties']['boroname'])\n",
      "            if types == 'es':\n",
      "                query_zone.append('Ages 9 and younger.')\n",
      "            elif types == 'ms':\n",
      "                query_zone.append('Ages 10-14.')\n",
      "            elif types == 'hs':\n",
      "                query_zone.append('Ages 10-17.')\n",
      "\n",
      "        sql_query = \"SELECT Tot_Population,F_Under_5,F_5_to_9,F_10_to_14,F_15_to_17,M_Under_5,M_5_to_9,M_10_to_14,M_15_to_17 \\\n",
      "        FROM census_data WHERE GEOid2 LIKE %s\"\n",
      "        cursor.execute(sql_query, ('%' + query_zone[0] + '%',))\n",
      "        zonePop = list(cursor.fetchall())\n",
      "        zonePopDf = pd.DataFrame(zonePop, columns=selCol)\n",
      "\n",
      "        if types == 'hs':\n",
      "            dfIndex = ['Tot_Population', 'F_10_to_14', 'F_15_to_17', 'M_10_to_14', 'M_15_to_17']\n",
      "        elif types == 'ms':\n",
      "            dfIndex = ['Tot_Population', 'F_10_to_14', 'M_10_to_14']\n",
      "        elif types == 'es':\n",
      "            dfIndex = ['Tot_Population', 'F_Under_5', 'F_5_to_9', 'M_Under_5', 'M_5_to_9']\n",
      "\n",
      "        selDf = zonePopDf.loc[:,dfIndex]\n",
      "        Kids.append([selDf.apply(propKids, 1).mean(), query_zone[3], query_zone[1], query_zone[2]])"
     ],
     "language": "python",
     "metadata": {},
     "outputs": [],
     "prompt_number": 24
    },
    {
     "cell_type": "code",
     "collapsed": false,
     "input": [
      "Kids"
     ],
     "language": "python",
     "metadata": {},
     "outputs": [
      {
       "metadata": {},
       "output_type": "pyout",
       "prompt_number": 25,
       "text": [
        "[[0.14914525598772319, 'Ages 9 and younger.', 'Cypress Hills', u'Brooklyn'],\n",
        " [0.14504863514411775, 'Ages 9 and younger.', 'Cypress Hills', u'Brooklyn'],\n",
        " [0.085167427555281977, 'Ages 10-14.', 'Cypress Hills', u'Brooklyn'],\n",
        " [0.071311722415945578, 'Ages 10-14.', 'Cypress Hills', u'Brooklyn'],\n",
        " [0.14077067223226766, 'Ages 10-17.', 'Cypress Hills', u'Brooklyn'],\n",
        " [0.12893639671626131, 'Ages 10-17.', 'Cypress Hills', u'Brooklyn']]"
       ]
      }
     ],
     "prompt_number": 25
    }
   ],
   "metadata": {}
  }
 ]
}