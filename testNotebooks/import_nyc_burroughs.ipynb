{
 "metadata": {
  "name": "",
  "signature": "sha256:8dbcee17f59fc4fc9a0d39e5ff1e6093a7a0ac80bec46830912a61e000d06f46"
 },
 "nbformat": 3,
 "nbformat_minor": 0,
 "worksheets": [
  {
   "cells": [
    {
     "cell_type": "code",
     "collapsed": false,
     "input": [
      "#Import packages\n",
      "import pymongo\n",
      "from pymongo import MongoClient\n",
      "import json\n",
      "import pandas as pd"
     ],
     "language": "python",
     "metadata": {},
     "outputs": [],
     "prompt_number": 1
    },
    {
     "cell_type": "code",
     "collapsed": false,
     "input": [
      "#Set up mongoDB connection\n",
      "client = MongoClient()\n",
      "db = client.hoods"
     ],
     "language": "python",
     "metadata": {},
     "outputs": [],
     "prompt_number": 2
    },
    {
     "cell_type": "code",
     "collapsed": false,
     "input": [
      "#Function to read in school geojson data and insert it into a mongoDB database\n",
      "def import_geojson_mongoDB(geo_file, coll):\n",
      "    \n",
      "    \"\"\"This function will read in data in the form of geosjon and then insert it into a specified mongoDB database.\"\"\"\n",
      "    \n",
      "    #Read in geojson data\n",
      "    with open(geo_file) as f:\n",
      "        json_file = json.load(f)\n",
      "        \n",
      "    #Import geojson data to specified collection\n",
      "    for i in json_file['features']:\n",
      "        db[coll].insert(i)"
     ],
     "language": "python",
     "metadata": {},
     "outputs": [],
     "prompt_number": 19
    },
    {
     "cell_type": "code",
     "collapsed": false,
     "input": [
      "#Paths to geojson data\n",
      "burroughs = './data/nybb.geojson'"
     ],
     "language": "python",
     "metadata": {},
     "outputs": [],
     "prompt_number": 20
    },
    {
     "cell_type": "code",
     "collapsed": false,
     "input": [
      "#Import data for each school type\n",
      "#ONLY NEEDS TO BE DONE ONCE\n",
      "#import_geojson_mongoDB(burroughs, 'burroughs')"
     ],
     "language": "python",
     "metadata": {},
     "outputs": [],
     "prompt_number": 21
    },
    {
     "cell_type": "code",
     "collapsed": false,
     "input": [
      "db.collection_names()"
     ],
     "language": "python",
     "metadata": {},
     "outputs": [
      {
       "metadata": {},
       "output_type": "pyout",
       "prompt_number": 5,
       "text": [
        "[u'system.indexes', u'burroughs', u'hoods']"
       ]
      }
     ],
     "prompt_number": 5
    },
    {
     "cell_type": "code",
     "collapsed": false,
     "input": [
      "#Add matching entries to a dict\n",
      "item_output = {}\n",
      "for item in db.burroughs.find({'properties.BoroName': 'Brooklyn'}):\n",
      "    item_output.update(item)\n",
      "\n",
      "if item_output:\n",
      "    print item_output['properties']['Shape_Leng'], item_output['properties']['Shape_Area']\n",
      "else:\n",
      "    print('No match.')"
     ],
     "language": "python",
     "metadata": {},
     "outputs": [
      {
       "output_type": "stream",
       "stream": "stdout",
       "text": [
        "726568.94634 1959432236.83\n"
       ]
      }
     ],
     "prompt_number": 4
    }
   ],
   "metadata": {}
  }
 ]
}