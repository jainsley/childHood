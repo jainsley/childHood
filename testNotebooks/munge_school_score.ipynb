{
 "metadata": {
  "name": "",
  "signature": "sha256:7c40f090971e65fba1756e8cca5152ffd7a634f0c485772175b90e10b49b6862"
 },
 "nbformat": 3,
 "nbformat_minor": 0,
 "worksheets": [
  {
   "cells": [
    {
     "cell_type": "code",
     "collapsed": false,
     "input": [
      "#Read in data\n",
      "import pandas as pd\n",
      "# school_2013 = pd.read_csv('./data/2012_2013_All_ProgressReport_Results_2013_12_19.csv')\n",
      "# school_2012 = pd.read_csv('./data/2011_2012_All_ProgressReport_Results_2013_4_11.csv')\n",
      "# school_2011 = pd.read_csv('./data/2010_2011_All_ProgressReportResults_2013_10_25.csv')\n",
      "# school_2010 = pd.read_csv('./data/2009_2010_All_ProgressReportResults_2011_02_02.csv')"
     ],
     "language": "python",
     "metadata": {},
     "outputs": [],
     "prompt_number": 1
    },
    {
     "cell_type": "code",
     "collapsed": false,
     "input": [
      "#Look at number of columns and rows for each data frame\n",
      "print school_2013.shape, school_2012.shape, school_2011.shape, school_2010.shape"
     ],
     "language": "python",
     "metadata": {},
     "outputs": [
      {
       "output_type": "stream",
       "stream": "stdout",
       "text": [
        "(1817, 21) (1743, 21) (1716, 17) (1677, 17)\n"
       ]
      }
     ],
     "prompt_number": 43
    },
    {
     "cell_type": "code",
     "collapsed": false,
     "input": [
      "#Look at all the columns\n",
      "print school_2013.columns.values.tolist()\n",
      "print school_2012.columns.values.tolist()\n",
      "print school_2011.columns.values.tolist()\n",
      "print school_2010.columns.values.tolist()"
     ],
     "language": "python",
     "metadata": {},
     "outputs": [
      {
       "output_type": "stream",
       "stream": "stdout",
       "text": [
        "['DBN', 'DISTRICT', 'SCHOOL', 'PRINCIPAL', 'PROGRESS REPORT TYPE', 'SCHOOL LEVEL*', '2012-2013 OVERALL GRADE', '2012-2013 OVERALL SCORE', '2012-13 OVERALL PERCENTILE', '2012-2013 PROGRESS CATEGORY SCORE', '2012-2013 PROGRESS GRADE', '2012-2013 PERFORMANCE CATEGORY SCORE', '2012-2013\\nPERFORMANCE GRADE', '2012-2013 ENVIRONMENT CATEGORY SCORE', '2012-2013 ENVIRONMENT GRADE', '2012-2013 COLLEGE AND CAREER READINESS SCORE', '2012-2013 COLLEGE AND CAREER READINESS GRADE', '2012-2013 ADDITIONAL CREDIT', '2011-12 PROGRESS REPORT GRADE', '2010-11 PROGRESS REPORT GRADE', '2009-10 PROGRESS REPORT GRADE']\n",
        "['DBN', 'DISTRICT', 'SCHOOL', 'PRINCIPAL', 'PROGRESS REPORT TYPE', 'SCHOOL LEVEL*', 'PEER INDEX*', '2011-2012 OVERALL GRADE', '2011-2012 OVERALL SCORE', '2011-12 OVERALL PERCENTILE', '2011-2012 PROGRESS CATEGORY SCORE', '2011-2012 PROGRESS GRADE', '2011-2012 PERFORMANCE CATEGORY SCORE', '2011-2012 PERFORMANCE GRADE', '2011-2012 ENVIRONMENT CATEGORY SCORE', '2011-2012 ENVIRONMENT GRADE', '2011-2012 COLLEGE AND CAREER READINESS SCORE', '2011-2012 COLLEGE AND CAREER READINESS GRADE', '2011-2012 ADDITIONAL CREDIT', '2010-11 PROGRESS REPORT GRADE', '2009-10 PROGRESS REPORT GRADE']\n",
        "['DBN', 'DISTRICT', 'SCHOOL', 'PRINCIPAL', 'PROGRESS REPORT TYPE', 'SCHOOL LEVEL*', 'PEER INDEX*', '2010-2011 OVERALL GRADE', '2010-2011 OVERALL SCORE', '2010-2011 ENVIRONMENT CATEGORY SCORE', '2010-2011 ENVIRONMENT GRADE', '2010-2011 PERFORMANCE CATEGORY SCORE', '2010-2011 PERFORMANCE GRADE', '2010-2011 PROGRESS CATEGORY SCORE', '2010-2011 PROGRESS GRADE', '2010-2011 ADDITIONAL CREDIT', '2009-10 PROGRESS REPORT GRADE']\n",
        "['DBN', 'DISTRICT', 'SCHOOL', 'PRINCIPAL', 'PROGRESS REPORT TYPE', 'SCHOOL LEVEL*', 'PEER INDEX*', '2009-2010 OVERALL GRADE', '2009-2010 OVERALL SCORE', '2009-2010 ENVIRONMENT CATEGORY SCORE', '2009-2010 ENVIRONMENT GRADE', '2009-2010 PERFORMANCE CATEGORY SCORE', '2009-2010 PERFORMANCE GRADE', '2009-2010 PROGRESS CATEGORY SCORE', '2009-2010 PROGRESS GRADE', '2009-2010 ADDITIONAL CREDIT', '2008-09 PROGRESS REPORT GRADE']\n"
       ]
      }
     ],
     "prompt_number": 44
    },
    {
     "cell_type": "code",
     "collapsed": false,
     "input": [
      "#Select out relevant columns\n",
      "select_2013 = school_2013[['DBN', 'DISTRICT', 'SCHOOL', 'SCHOOL LEVEL*', '2012-2013 OVERALL SCORE']]\n",
      "select_2012 = school_2012[['DBN', 'DISTRICT', 'SCHOOL', 'SCHOOL LEVEL*', '2011-2012 OVERALL SCORE']]\n",
      "select_2011 = school_2011[['DBN', 'DISTRICT', 'SCHOOL', 'SCHOOL LEVEL*', '2010-2011 OVERALL SCORE']]\n",
      "select_2010 = school_2010[['DBN', 'DISTRICT', 'SCHOOL', 'SCHOOL LEVEL*', '2009-2010 OVERALL SCORE']]\n",
      "print select_2010.shape, select_2011.shape, select_2012.shape, select_2013.shape\n",
      "select_2010.head()"
     ],
     "language": "python",
     "metadata": {},
     "outputs": [
      {
       "output_type": "stream",
       "stream": "stdout",
       "text": [
        "(1677, 5) (1716, 5) (1743, 5) (1817, 5)\n"
       ]
      },
      {
       "html": [
        "<div style=\"max-height:1000px;max-width:1500px;overflow:auto;\">\n",
        "<table border=\"1\" class=\"dataframe\">\n",
        "  <thead>\n",
        "    <tr style=\"text-align: right;\">\n",
        "      <th></th>\n",
        "      <th>DBN</th>\n",
        "      <th>DISTRICT</th>\n",
        "      <th>SCHOOL</th>\n",
        "      <th>SCHOOL LEVEL*</th>\n",
        "      <th>2009-2010 OVERALL SCORE</th>\n",
        "    </tr>\n",
        "  </thead>\n",
        "  <tbody>\n",
        "    <tr>\n",
        "      <th>0</th>\n",
        "      <td> 01M015</td>\n",
        "      <td> 1</td>\n",
        "      <td>      P.S. 015 Roberto Clemente</td>\n",
        "      <td> Elementary</td>\n",
        "      <td> 37.6</td>\n",
        "    </tr>\n",
        "    <tr>\n",
        "      <th>1</th>\n",
        "      <td> 01M019</td>\n",
        "      <td> 1</td>\n",
        "      <td>            P.S. 019 Asher Levy</td>\n",
        "      <td> Elementary</td>\n",
        "      <td> 35.7</td>\n",
        "    </tr>\n",
        "    <tr>\n",
        "      <th>2</th>\n",
        "      <td> 01M020</td>\n",
        "      <td> 1</td>\n",
        "      <td>           P.S. 020 Anna Silver</td>\n",
        "      <td> Elementary</td>\n",
        "      <td> 70.3</td>\n",
        "    </tr>\n",
        "    <tr>\n",
        "      <th>3</th>\n",
        "      <td> 01M034</td>\n",
        "      <td> 1</td>\n",
        "      <td> P.S. 034 Franklin D. Roosevelt</td>\n",
        "      <td>        K-8</td>\n",
        "      <td> 53.0</td>\n",
        "    </tr>\n",
        "    <tr>\n",
        "      <th>4</th>\n",
        "      <td> 01M063</td>\n",
        "      <td> 1</td>\n",
        "      <td>      P.S. 063 William McKinley</td>\n",
        "      <td> Elementary</td>\n",
        "      <td> 54.0</td>\n",
        "    </tr>\n",
        "  </tbody>\n",
        "</table>\n",
        "</div>"
       ],
       "metadata": {},
       "output_type": "pyout",
       "prompt_number": 45,
       "text": [
        "      DBN  DISTRICT                          SCHOOL SCHOOL LEVEL*  \\\n",
        "0  01M015         1       P.S. 015 Roberto Clemente    Elementary   \n",
        "1  01M019         1             P.S. 019 Asher Levy    Elementary   \n",
        "2  01M020         1            P.S. 020 Anna Silver    Elementary   \n",
        "3  01M034         1  P.S. 034 Franklin D. Roosevelt           K-8   \n",
        "4  01M063         1       P.S. 063 William McKinley    Elementary   \n",
        "\n",
        "   2009-2010 OVERALL SCORE  \n",
        "0                     37.6  \n",
        "1                     35.7  \n",
        "2                     70.3  \n",
        "3                     53.0  \n",
        "4                     54.0  "
       ]
      }
     ],
     "prompt_number": 45
    },
    {
     "cell_type": "code",
     "collapsed": false,
     "input": [
      "#Merge data frames\n",
      "merge1011 = pd.merge(select_2010, select_2011, on=['DBN', 'DISTRICT'], how='inner')\n",
      "merge1012 = pd.merge(merge1011, select_2012, on=['DBN', 'DISTRICT'], how='inner')\n",
      "merge1013 = pd.merge(merge1012, select_2013, on=['DBN', 'DISTRICT'], how='inner')\n",
      "\n",
      "print merge1013.columns.values.tolist()\n",
      "print merge1013.shape"
     ],
     "language": "python",
     "metadata": {},
     "outputs": [
      {
       "output_type": "stream",
       "stream": "stdout",
       "text": [
        "['DBN', 'DISTRICT', 'SCHOOL_x', 'SCHOOL LEVEL*_x', '2009-2010 OVERALL SCORE', 'SCHOOL_y', 'SCHOOL LEVEL*_y', '2010-2011 OVERALL SCORE', 'SCHOOL_x', 'SCHOOL LEVEL*_x', '2011-2012 OVERALL SCORE', 'SCHOOL_y', 'SCHOOL LEVEL*_y', '2012-2013 OVERALL SCORE']\n",
        "(2861, 14)\n"
       ]
      }
     ],
     "prompt_number": 46
    },
    {
     "cell_type": "code",
     "collapsed": false,
     "input": [
      "#Collect unique DBNs\n",
      "\n",
      "#testUniq = list(school_results['DBN'].map(lambda x: x.lstrip('0123456789')))\n",
      "#print len(testUniq), len(set(testUniq))\n",
      "#print len(set([x for x in testUniq if testUniq.count(x) > 1]))\n",
      "\n",
      "#print len(set(school_results['DBN']))"
     ],
     "language": "python",
     "metadata": {},
     "outputs": [],
     "prompt_number": 6
    },
    {
     "cell_type": "code",
     "collapsed": false,
     "input": [
      "#Print column names in merged data frame\n",
      "merge1013.columns.values.tolist()"
     ],
     "language": "python",
     "metadata": {},
     "outputs": [
      {
       "metadata": {},
       "output_type": "pyout",
       "prompt_number": 47,
       "text": [
        "['DBN',\n",
        " 'DISTRICT',\n",
        " 'SCHOOL_x',\n",
        " 'SCHOOL LEVEL*_x',\n",
        " '2009-2010 OVERALL SCORE',\n",
        " 'SCHOOL_y',\n",
        " 'SCHOOL LEVEL*_y',\n",
        " '2010-2011 OVERALL SCORE',\n",
        " 'SCHOOL_x',\n",
        " 'SCHOOL LEVEL*_x',\n",
        " '2011-2012 OVERALL SCORE',\n",
        " 'SCHOOL_y',\n",
        " 'SCHOOL LEVEL*_y',\n",
        " '2012-2013 OVERALL SCORE']"
       ]
      }
     ],
     "prompt_number": 47
    },
    {
     "cell_type": "code",
     "collapsed": false,
     "input": [
      "#Define new column names\n",
      "merge1013_columns = ['DBN', 'DISTRICT', 'SCHOOL_10', 'SCHOOL_LEVEL_10', '2009_2010_OVERALL_SCORE', 'SCHOOL_11', 'SCHOOL_LEVEL_11',\n",
      "                     '2010_2011_OVERALL_SCORE', 'SCHOOL_12', 'SCHOOL_LEVEL_12', '2011_2012_OVERALL_SCORE', 'SCHOOL_13', \n",
      "                     'SCHOOL_LEVEL_13', '2012_2013_OVERALL_SCORE']\n",
      "\n",
      "merge1013.columns = merge1013_columns"
     ],
     "language": "python",
     "metadata": {},
     "outputs": [],
     "prompt_number": 48
    },
    {
     "cell_type": "code",
     "collapsed": false,
     "input": [
      "set(list(merge1013['SCHOOL_LEVEL_10']) + list(merge1013['SCHOOL_LEVEL_11']) + list(merge1013['SCHOOL_LEVEL_12']) +\n",
      "    list(merge1013['SCHOOL_LEVEL_13']))"
     ],
     "language": "python",
     "metadata": {},
     "outputs": [
      {
       "metadata": {},
       "output_type": "pyout",
       "prompt_number": 49,
       "text": [
        "{'Elementary',\n",
        " 'High School',\n",
        " 'High School Transfer',\n",
        " 'K-2',\n",
        " 'K-3',\n",
        " 'K-8',\n",
        " 'Middle',\n",
        " 'Transfer High School',\n",
        " 'YABC'}"
       ]
      }
     ],
     "prompt_number": 49
    },
    {
     "cell_type": "code",
     "collapsed": false,
     "input": [
      "#Define a dictionary mapping grades to 'SCHOOL LEVEL*' values\n",
      "levelToGrades = {'D75' : 'PK,0K,01,02,03,04,05,06,07,08,09,10,11,12',\n",
      "          'Elementary' : 'PK,0K,01,02,03,04,05',\n",
      "          'High School' : '09,10,11,12',\n",
      "          'High School Transfer' : '09,10,11,12',\n",
      "          'K-2' : '0K,01,02',\n",
      "          'K-3' : '0K,01,02,03',\n",
      "          'K-8' : '0K,01,02,03,04,05,06,07,08',\n",
      "          'Middle' : '06,07,08',\n",
      "          'YABC' : '09,10,11,12'}\n",
      "#Define two lists to use in replacing values\n",
      "school_level = ['D75', 'Elementary', 'High School', 'High School Transfer', 'K-2', 'K-3', 'K-8', 'Middle', 'YABC']\n",
      "grades = ['PK,0K,01,02,03,04,05,06,07,08,09,10,11,12', 'PK,0K,01,02,03,04,05', '09,10,11,12', '09,10,11,12',\n",
      "          '0K,01,02', '0K,01,02,03', '0K,01,02,03,04,05,06,07,08', '06,07,08', '09,10,11,12']"
     ],
     "language": "python",
     "metadata": {},
     "outputs": [],
     "prompt_number": 50
    },
    {
     "cell_type": "code",
     "collapsed": false,
     "input": [
      "#Add a column indicating grades at the school\n",
      "merge1013 = merge1013.replace(school_level, grades)"
     ],
     "language": "python",
     "metadata": {},
     "outputs": [],
     "prompt_number": 51
    },
    {
     "cell_type": "code",
     "collapsed": false,
     "input": [
      "merge1013['2009_2010_OVERALL_SCORE'] = merge1013['2009_2010_OVERALL_SCORE'].convert_objects(convert_numeric=True)\n",
      "merge1013['2010_2011_OVERALL_SCORE'] = merge1013['2010_2011_OVERALL_SCORE'].convert_objects(convert_numeric=True)\n",
      "merge1013['2011_2012_OVERALL_SCORE'] = merge1013['2011_2012_OVERALL_SCORE'].convert_objects(convert_numeric=True)\n",
      "merge1013['2012_2013_OVERALL_SCORE'] = merge1013['2012_2013_OVERALL_SCORE'].convert_objects(convert_numeric=True)"
     ],
     "language": "python",
     "metadata": {},
     "outputs": [],
     "prompt_number": 53
    },
    {
     "cell_type": "code",
     "collapsed": false,
     "input": [
      "#Function to write a new column with a score.\n",
      "def get_school_score(Ser):\n",
      "    if pd.notnull(Ser['2012_2013_OVERALL_SCORE']):\n",
      "        Ser['Score'] = Ser['2012_2013_OVERALL_SCORE']\n",
      "    \n",
      "    elif pd.notnull(Ser['2011_2012_OVERALL_SCORE']):\n",
      "        Ser['Score'] = Ser['2011_2012_OVERALL_SCORE']\n",
      "    \n",
      "    elif pd.notnull(Ser['2010_2011_OVERALL_SCORE']):\n",
      "        Ser['Score'] = Ser['2010_2011_OVERALL_SCORE']\n",
      "    \n",
      "    elif pd.notnull(Ser['2009_2010_OVERALL_SCORE']):\n",
      "        Ser['Score'] = Ser['2009_2010_OVERALL_SCORE']\n",
      "    else:\n",
      "        Ser['Score'] = None\n",
      "        \n",
      "    return Ser"
     ],
     "language": "python",
     "metadata": {},
     "outputs": [],
     "prompt_number": 95
    },
    {
     "cell_type": "code",
     "collapsed": false,
     "input": [
      "merge1013edit = merge1013.apply(get_school_score, axis=1)"
     ],
     "language": "python",
     "metadata": {},
     "outputs": [],
     "prompt_number": 96
    },
    {
     "cell_type": "code",
     "collapsed": false,
     "input": [
      "#Calculate z scores with scipy, doesn't work because of missing values\n",
      "from scipy import stats\n",
      "stats.zscore(merge1013edit['Score'])"
     ],
     "language": "python",
     "metadata": {},
     "outputs": [
      {
       "metadata": {},
       "output_type": "pyout",
       "prompt_number": 56,
       "text": [
        "array([ nan,  nan,  nan, ...,  nan,  nan,  nan])"
       ]
      }
     ],
     "prompt_number": 56
    },
    {
     "cell_type": "code",
     "collapsed": false,
     "input": [
      "#Split apply combine FUN!\n",
      "#merge1013group = merge1013edit.groupby(['SCHOOL_LEVEL_13'])"
     ],
     "language": "python",
     "metadata": {},
     "outputs": [],
     "prompt_number": 148
    },
    {
     "cell_type": "code",
     "collapsed": false,
     "input": [
      "#Add z-score for 'Score'\n",
      "from scipy import stats\n",
      "import numpy as np\n",
      "\n",
      "merge1013edit['z_score'] = (merge1013edit['Score'] - merge1013edit['Score'].mean())/merge1013edit['Score'].std(ddof=0)"
     ],
     "language": "python",
     "metadata": {},
     "outputs": [],
     "prompt_number": 3
    },
    {
     "cell_type": "code",
     "collapsed": false,
     "input": [
      "print np.isnan(list(merge1013edit['z_score'])).sum(), merge1013edit.shape"
     ],
     "language": "python",
     "metadata": {},
     "outputs": [
      {
       "output_type": "stream",
       "stream": "stdout",
       "text": [
        "16 (2861, 16)\n"
       ]
      }
     ],
     "prompt_number": 98
    },
    {
     "cell_type": "code",
     "collapsed": false,
     "input": [
      "#Save the school score data frame into a pickle file.\n",
      "import pickle\n",
      "pickle.dump(merge1013edit, open(\"school_scores.p\", \"wb\"))"
     ],
     "language": "python",
     "metadata": {},
     "outputs": [],
     "prompt_number": 99
    },
    {
     "cell_type": "code",
     "collapsed": false,
     "input": [
      "#Load the school score data back from the pickle file.\n",
      "import pickle\n",
      "import pandas as pd\n",
      "\n",
      "merge1013edit = pickle.load(open(\"school_scores.p\", \"rb\"))"
     ],
     "language": "python",
     "metadata": {},
     "outputs": [],
     "prompt_number": 4
    },
    {
     "cell_type": "code",
     "collapsed": false,
     "input": [
      "merge1013fixed = merge1013edit.where(pd.notnull(merge1013edit), None)"
     ],
     "language": "python",
     "metadata": {},
     "outputs": [],
     "prompt_number": 5
    },
    {
     "cell_type": "code",
     "collapsed": false,
     "input": [
      "print merge1013edit.dtypes\n",
      "print merge1013fixed.dtypes"
     ],
     "language": "python",
     "metadata": {},
     "outputs": [
      {
       "output_type": "stream",
       "stream": "stdout",
       "text": [
        "DBN                         object\n",
        "DISTRICT                     int64\n",
        "SCHOOL_10                   object\n",
        "SCHOOL_LEVEL_10             object\n",
        "2009_2010_OVERALL_SCORE    float64\n",
        "SCHOOL_11                   object\n",
        "SCHOOL_LEVEL_11             object\n",
        "2010_2011_OVERALL_SCORE    float64\n",
        "SCHOOL_12                   object\n",
        "SCHOOL_LEVEL_12             object\n",
        "2011_2012_OVERALL_SCORE    float64\n",
        "SCHOOL_13                   object\n",
        "SCHOOL_LEVEL_13             object\n",
        "2012_2013_OVERALL_SCORE    float64\n",
        "Score                      float64\n",
        "z_score                    float64\n",
        "dtype: object\n",
        "DBN                        object\n",
        "DISTRICT                    int64\n",
        "SCHOOL_10                  object\n",
        "SCHOOL_LEVEL_10            object\n",
        "2009_2010_OVERALL_SCORE    object\n",
        "SCHOOL_11                  object\n",
        "SCHOOL_LEVEL_11            object\n",
        "2010_2011_OVERALL_SCORE    object\n",
        "SCHOOL_12                  object\n",
        "SCHOOL_LEVEL_12            object\n",
        "2011_2012_OVERALL_SCORE    object\n",
        "SCHOOL_13                  object\n",
        "SCHOOL_LEVEL_13            object\n",
        "2012_2013_OVERALL_SCORE    object\n",
        "Score                      object\n",
        "z_score                    object\n",
        "dtype: object\n"
       ]
      }
     ],
     "prompt_number": 6
    },
    {
     "cell_type": "code",
     "collapsed": false,
     "input": [
      "print merge1013edit.loc[merge1013edit['DBN'] == '14K019']\n",
      "print merge1013fixed.loc[merge1013fixed['DBN'] == '14K019']"
     ],
     "language": "python",
     "metadata": {},
     "outputs": [
      {
       "output_type": "stream",
       "stream": "stdout",
       "text": [
        "         DBN  DISTRICT                  SCHOOL_10       SCHOOL_LEVEL_10  \\\n",
        "1286  14K019        14  P.S. 019 Roberto Clemente  PK,0K,01,02,03,04,05   \n",
        "\n",
        "      2009_2010_OVERALL_SCORE                  SCHOOL_11  \\\n",
        "1286                     27.2  P.S. 019 Roberto Clemente   \n",
        "\n",
        "           SCHOOL_LEVEL_11  2010_2011_OVERALL_SCORE  \\\n",
        "1286  PK,0K,01,02,03,04,05                        9   \n",
        "\n",
        "                      SCHOOL_12       SCHOOL_LEVEL_12  \\\n",
        "1286  P.S. 019 Roberto Clemente  PK,0K,01,02,03,04,05   \n",
        "\n",
        "      2011_2012_OVERALL_SCORE                  SCHOOL_13  \\\n",
        "1286                      NaN  P.S. 019 Roberto Clemente   \n",
        "\n",
        "           SCHOOL_LEVEL_13  2012_2013_OVERALL_SCORE  Score   z_score  \n",
        "1286  PK,0K,01,02,03,04,05                      NaN      9 -3.031254  \n",
        "         DBN  DISTRICT                  SCHOOL_10       SCHOOL_LEVEL_10  \\\n",
        "1286  14K019        14  P.S. 019 Roberto Clemente  PK,0K,01,02,03,04,05   \n",
        "\n",
        "     2009_2010_OVERALL_SCORE                  SCHOOL_11       SCHOOL_LEVEL_11  \\\n",
        "1286                    27.2  P.S. 019 Roberto Clemente  PK,0K,01,02,03,04,05   \n",
        "\n",
        "     2010_2011_OVERALL_SCORE                  SCHOOL_12       SCHOOL_LEVEL_12  \\\n",
        "1286                       9  P.S. 019 Roberto Clemente  PK,0K,01,02,03,04,05   \n",
        "\n",
        "     2011_2012_OVERALL_SCORE                  SCHOOL_13       SCHOOL_LEVEL_13  \\\n",
        "1286                    None  P.S. 019 Roberto Clemente  PK,0K,01,02,03,04,05   \n",
        "\n",
        "     2012_2013_OVERALL_SCORE Score   z_score  \n",
        "1286                    None     9 -3.031254  \n"
       ]
      }
     ],
     "prompt_number": 7
    },
    {
     "cell_type": "code",
     "collapsed": false,
     "input": [
      "import MySQLdb as mdb\n",
      "\n",
      "#Open connection to mysql database\n",
      "censusCon = mdb.connect('localhost','','','censusdb')\n",
      "cursor = censusCon.cursor()"
     ],
     "language": "python",
     "metadata": {},
     "outputs": [],
     "prompt_number": 8
    },
    {
     "cell_type": "code",
     "collapsed": false,
     "input": [
      "#Change a pandas.io function to allow longer strings\n",
      "\n",
      "from pandas.io import sql\n",
      "\n",
      "def get_sqltype(pytype, flavor):\n",
      "    sqltype = {'mysql': 'VARCHAR (255)', # change the VARCHAR value to something larger\n",
      "               'sqlite': 'TEXT'}\n",
      "\n",
      "    if issubclass(pytype, np.floating):\n",
      "        sqltype['mysql'] = 'FLOAT'\n",
      "        sqltype['sqlite'] = 'REAL'\n",
      "    if issubclass(pytype, np.integer):\n",
      "        sqltype['mysql'] = 'BIGINT'\n",
      "        sqltype['sqlite'] = 'INTEGER'\n",
      "    if issubclass(pytype, np.datetime64) or pytype is datetime:\n",
      "        sqltype['mysql'] = 'DATETIME'\n",
      "        sqltype['sqlite'] = 'TIMESTAMP'\n",
      "    if pytype is datetime.date:\n",
      "        sqltype['mysql'] = 'DATE'\n",
      "        sqltype['sqlite'] = 'TIMESTAMP'\n",
      "    if issubclass(pytype, np.bool_):\n",
      "        sqltype['sqlite'] = 'INTEGER'\n",
      "\n",
      "    return sqltype[flavor]\n",
      "\n",
      "sql.get_sqltype = get_sqltype"
     ],
     "language": "python",
     "metadata": {},
     "outputs": [],
     "prompt_number": 112
    },
    {
     "cell_type": "code",
     "collapsed": false,
     "input": [
      "#Write dataframe to mysql database - ONLY NEEDS TO BE DONE ONCE\n",
      "#merge1013fixed.to_sql(con=censusCon, name='school_score', if_exists='replace', flavor='mysql')"
     ],
     "language": "python",
     "metadata": {},
     "outputs": [],
     "prompt_number": 113
    },
    {
     "cell_type": "code",
     "collapsed": false,
     "input": [
      "cursor.execute(\"SELECT DBN,SCHOOL_LEVEL_13,SCHOOL_13,Score FROM school_score WHERE Score IS NOT NULL\")\n",
      "schoolData = list(cursor.fetchall())\n",
      "print len(schoolData)\n",
      "\n",
      "cursor.execute(\"SELECT DBN,SCHOOL_LEVEL_13,SCHOOL_13,Score FROM school_score WHERE Score IS NULL\")\n",
      "schoolMissing = list(cursor.fetchall())\n",
      "print len(schoolMissing)"
     ],
     "language": "python",
     "metadata": {},
     "outputs": [
      {
       "output_type": "stream",
       "stream": "stdout",
       "text": [
        "2845\n",
        "16\n"
       ]
      }
     ],
     "prompt_number": 9
    },
    {
     "cell_type": "code",
     "collapsed": false,
     "input": [
      "schoolData[0:10]"
     ],
     "language": "python",
     "metadata": {},
     "outputs": [
      {
       "metadata": {},
       "output_type": "pyout",
       "prompt_number": 10,
       "text": [
        "[('01M015', 'PK,0K,01,02,03,04,05', 'P.S. 015 Roberto Clemente', '48.7'),\n",
        " ('01M019', 'PK,0K,01,02,03,04,05', 'P.S. 019 Asher Levy', '65.9'),\n",
        " ('01M020', 'PK,0K,01,02,03,04,05', 'P.S. 020 Anna Silver', '51.7'),\n",
        " ('01M034',\n",
        "  '0K,01,02,03,04,05,06,07,08',\n",
        "  'P.S. 034 Franklin D. Roosevelt',\n",
        "  '73.5'),\n",
        " ('01M063', 'PK,0K,01,02,03,04,05', 'P.S. 063 William McKinley', '41.5'),\n",
        " ('01M064', 'PK,0K,01,02,03,04,05', 'P.S. 064 Robert Simon', '48.6'),\n",
        " ('01M110', 'PK,0K,01,02,03,04,05', 'P.S. 110 Florence Nightingale', '74.2'),\n",
        " ('01M134', 'PK,0K,01,02,03,04,05', 'P.S. 134 Henrietta Szold', '44.7'),\n",
        " ('01M137', 'PK,0K,01,02,03,04,05', 'P.S. 137 John L. Bernstein', '40.1'),\n",
        " ('01M140', '0K,01,02,03,04,05,06,07,08', 'P.S. 140 Nathan Straus', '63.1')]"
       ]
      }
     ],
     "prompt_number": 10
    },
    {
     "cell_type": "code",
     "collapsed": false,
     "input": [
      "schoolMissing"
     ],
     "language": "python",
     "metadata": {},
     "outputs": [
      {
       "metadata": {},
       "output_type": "pyout",
       "prompt_number": 11,
       "text": [
        "[('02M394', '09,10,11,12', 'EMMA LAZARUS HIGH SCHOOL', None),\n",
        " ('02M440', '09,10,11,12', 'Bayard Rustin Educational Complex', None),\n",
        " ('03M470', '09,10,11,12', 'Louis D. Brandeis High School', None),\n",
        " ('04M635',\n",
        "  '09,10,11,12',\n",
        "  'Academy of Environmental Science Secondary High School',\n",
        "  None),\n",
        " ('06M423', '09,10,11,12', 'High School for Excellence and Innovation', None),\n",
        " ('09X002', '06,07,08', 'P.S. 002 Morrisania', None),\n",
        " ('12X198', '06,07,08', 'P.S. 198', None),\n",
        " ('13K336', '06,07,08', 'Academy of Business and Community Development', None),\n",
        " ('13K336',\n",
        "  '09,10,11,12',\n",
        "  'Academy of Business and Community Development',\n",
        "  None),\n",
        " ('13K336', '06,07,08', 'Academy of Business and Community Development', None),\n",
        " ('13K336',\n",
        "  '09,10,11,12',\n",
        "  'Academy of Business and Community Development',\n",
        "  None),\n",
        " ('13K674',\n",
        "  '09,10,11,12',\n",
        "  'CITY POLYTECHNIC HIGH SCHOOL OF ENGINEERING, ARCHITECTURE, AND ',\n",
        "  None),\n",
        " ('19K420', '09,10,11,12', 'Franklin K. Lane High School', None),\n",
        " ('28Q157', '09,10,11,12', 'J.H.S. 157 Stephen A. Halsey', None),\n",
        " ('84K694', '09,10,11,12', 'Believe Southside Charter High School', None),\n",
        " ('84M279', '09,10,11,12', 'The Opportunity Charter School', None)]"
       ]
      }
     ],
     "prompt_number": 11
    },
    {
     "cell_type": "code",
     "collapsed": false,
     "input": [
      "import MySQLdb as mdb\n",
      "\n",
      "#Open connection to mysql database\n",
      "censusCon = mdb.connect('localhost','','','censusdb')\n",
      "cursor = censusCon.cursor()\n",
      "\n",
      "cursor.execute(\"SELECT DBN,SCHOOL_LEVEL_13,SCHOOL_13,Score FROM school_score WHERE \\\n",
      "               SCHOOL_12 LIKE '%Metropolitan Lighthouse Charter School%' OR \\\n",
      "               SCHOOL_11 LIKE '%Metropolitan Lighthouse Charter School%' OR \\\n",
      "               SCHOOL_10 LIKE '%Metropolitan Lighthouse Charter School%'\")\n",
      "schoolMissing = list(cursor.fetchall())\n",
      "print schoolMissing"
     ],
     "language": "python",
     "metadata": {},
     "outputs": [
      {
       "output_type": "stream",
       "stream": "stdout",
       "text": [
        "[]\n"
       ]
      }
     ],
     "prompt_number": 6
    },
    {
     "cell_type": "markdown",
     "metadata": {},
     "source": [
      "CODE BELOW IS UNECESSARY. DON'T RUN."
     ]
    },
    {
     "cell_type": "code",
     "collapsed": false,
     "input": [
      "#Extract just the column names, remove spaces\n",
      "school_resultsCol = list(school_results)\n",
      "school_resultsColEdit = [w.replace(' ', '') for w in school_resultsCol]\n",
      "school_results.columns = school_resultsColEdit"
     ],
     "language": "python",
     "metadata": {},
     "outputs": [],
     "prompt_number": 2
    },
    {
     "cell_type": "code",
     "collapsed": false,
     "input": [
      "#Delete @id column as it is not necessary and is not imported correctly to mySQL\n",
      "del school_results['@id']"
     ],
     "language": "python",
     "metadata": {},
     "outputs": [],
     "prompt_number": 4
    },
    {
     "cell_type": "code",
     "collapsed": false,
     "input": [
      "school_results_fixed = school_results.where(pd.notnull(school_results), None)"
     ],
     "language": "python",
     "metadata": {},
     "outputs": [],
     "prompt_number": 5
    },
    {
     "cell_type": "code",
     "collapsed": false,
     "input": [
      "from pandas.io import sql\n",
      "import MySQLdb as db\n",
      "\n",
      "#Open connection to mysql database\n",
      "censusCon = db.connect('localhost','','','censusdb')\n",
      "cursor = censusCon.cursor()"
     ],
     "language": "python",
     "metadata": {},
     "outputs": [],
     "prompt_number": 3
    },
    {
     "cell_type": "code",
     "collapsed": false,
     "input": [
      "#Change a pandas.io function to allow longer strings\n",
      "\n",
      "from pandas.io import sql\n",
      "\n",
      "def get_sqltype(pytype, flavor):\n",
      "    sqltype = {'mysql': 'VARCHAR (120)', # change the VARCHAR value to something larger\n",
      "               'sqlite': 'TEXT'}\n",
      "\n",
      "    if issubclass(pytype, np.floating):\n",
      "        sqltype['mysql'] = 'FLOAT'\n",
      "        sqltype['sqlite'] = 'REAL'\n",
      "    if issubclass(pytype, np.integer):\n",
      "        sqltype['mysql'] = 'BIGINT'\n",
      "        sqltype['sqlite'] = 'INTEGER'\n",
      "    if issubclass(pytype, np.datetime64) or pytype is datetime:\n",
      "        sqltype['mysql'] = 'DATETIME'\n",
      "        sqltype['sqlite'] = 'TIMESTAMP'\n",
      "    if pytype is datetime.date:\n",
      "        sqltype['mysql'] = 'DATE'\n",
      "        sqltype['sqlite'] = 'TIMESTAMP'\n",
      "    if issubclass(pytype, np.bool_):\n",
      "        sqltype['sqlite'] = 'INTEGER'\n",
      "\n",
      "    return sqltype[flavor]\n",
      "\n",
      "sql.get_sqltype = get_sqltype"
     ],
     "language": "python",
     "metadata": {},
     "outputs": [],
     "prompt_number": 9
    },
    {
     "cell_type": "code",
     "collapsed": false,
     "input": [
      "#Write dataframe to mysql database - ONLY NEEDS TO BE DONE ONCE\n",
      "#school_results_fixed.to_sql(con=censusCon, name='school_results', if_exists='replace', flavor='mysql')"
     ],
     "language": "python",
     "metadata": {},
     "outputs": [],
     "prompt_number": 10
    },
    {
     "cell_type": "code",
     "collapsed": false,
     "input": [
      "age_grade = {'4':'PK',\n",
      "             '5':'0K',\n",
      "             '6':'01',\n",
      "             '7':'02',\n",
      "             '8':'03',\n",
      "             '9':'04',\n",
      "             '10':'05',\n",
      "             '11':'06',\n",
      "             '12':'07',\n",
      "             '13':'08',\n",
      "             '14':'09',\n",
      "             '15':'10',\n",
      "             '16':'11',\n",
      "             '17':'12'}\n",
      "\n",
      "age = '7'"
     ],
     "language": "python",
     "metadata": {},
     "outputs": [],
     "prompt_number": 5
    },
    {
     "cell_type": "code",
     "collapsed": false,
     "input": [
      "sql_query = \"SELECT latitude,longitude FROM school_results WHERE GradesFinal LIKE %s\"\n",
      "cursor.execute(sql_query, ('%' + age_grade[age] + '%',))\n",
      "latlng = list(cursor.fetchall())\n",
      "len(latlng)"
     ],
     "language": "python",
     "metadata": {},
     "outputs": [
      {
       "metadata": {},
       "output_type": "pyout",
       "prompt_number": 6,
       "text": [
        "954"
       ]
      }
     ],
     "prompt_number": 6
    },
    {
     "cell_type": "code",
     "collapsed": false,
     "input": [
      "sql_query = \"SELECT * FROM school_results WHERE GradesFinal LIKE %s\"\n",
      "cursor.execute(sql_query, ('%' + age_grade[age] + '%',))\n",
      "latlng = list(cursor.fetchall())\n",
      "latlng[0]"
     ],
     "language": "python",
     "metadata": {},
     "outputs": [
      {
       "metadata": {},
       "output_type": "pyout",
       "prompt_number": 7,
       "text": [
        "(0L,\n",
        " '01M015',\n",
        " 'M015',\n",
        " 'P.S. 015 Roberto Clemente',\n",
        " 310100010015L,\n",
        " 'DOE',\n",
        " 'General Academic',\n",
        " 'Elementary',\n",
        " '0K,01,02,03,04,05,SE',\n",
        " 'PK,0K,01,02,03,04,05',\n",
        " 'Jul 1 1904',\n",
        " 'Open',\n",
        " 'M015',\n",
        " '333 EAST 4 STREET',\n",
        " 'MANHATTAN',\n",
        " 'NY',\n",
        " 10009L,\n",
        " 'IRENE SANCHEZ',\n",
        " 'PRINCIPAL',\n",
        " '212-228-8730',\n",
        " '212-477-0931',\n",
        " 1L,\n",
        " 1L,\n",
        " 'M801',\n",
        " 'COMMUNITY SCHOOL DISTRICT 01',\n",
        " 'PHILLIPS, DANIELLA',\n",
        " 'PHILLIPS, DANIELLA',\n",
        " 'Cluster 02',\n",
        " 'CL02',\n",
        " 'ZAHARAKIS, DESPINA',\n",
        " 'Cluster Leader',\n",
        " '718-281-3272',\n",
        " 'N203',\n",
        " 'CHILDREN FIRST NETWORK 203',\n",
        " 'Feigelson, Daniel',\n",
        " '212-356-3875',\n",
        " 'AF27',\n",
        " None,\n",
        " None,\n",
        " None,\n",
        " None,\n",
        " 'W203',\n",
        " 'Operational Network 203',\n",
        " 'Feigelson, Daniel',\n",
        " '212-356-3875',\n",
        " 'M',\n",
        " 'Manhattan',\n",
        " '333 East 4th Street',\n",
        " 10009L,\n",
        " 'P.S. 015 Roberto Clemente',\n",
        " 'p_s_015_roberto_clemente',\n",
        " 'Manhattan',\n",
        " '40.7217076',\n",
        " '-73.9788702',\n",
        " '[-73.9788702,40.72170759999999]',\n",
        " 'http://schema.org',\n",
        " 'School')"
       ]
      }
     ],
     "prompt_number": 7
    }
   ],
   "metadata": {}
  }
 ]
}