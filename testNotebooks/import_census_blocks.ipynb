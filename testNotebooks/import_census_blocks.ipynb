{
 "metadata": {
  "name": "",
  "signature": "sha256:03e27639f10bb7202c32f5b978849dfcdedcbbb3e8fce5079f028daa863789b0"
 },
 "nbformat": 3,
 "nbformat_minor": 0,
 "worksheets": [
  {
   "cells": [
    {
     "cell_type": "code",
     "collapsed": false,
     "input": [
      "#Import packages\n",
      "import pymongo\n",
      "from pymongo import MongoClient\n",
      "import json\n",
      "import pandas as pd"
     ],
     "language": "python",
     "metadata": {},
     "outputs": [],
     "prompt_number": 1
    },
    {
     "cell_type": "code",
     "collapsed": false,
     "input": [
      "#Set up mongoDB connection\n",
      "client = MongoClient()\n",
      "db = client.censusDB"
     ],
     "language": "python",
     "metadata": {},
     "outputs": [],
     "prompt_number": 2
    },
    {
     "cell_type": "code",
     "collapsed": false,
     "input": [
      "db.Williamsburg.count()"
     ],
     "language": "python",
     "metadata": {},
     "outputs": [
      {
       "metadata": {},
       "output_type": "pyout",
       "prompt_number": 8,
       "text": [
        "712"
       ]
      }
     ],
     "prompt_number": 8
    },
    {
     "cell_type": "code",
     "collapsed": false,
     "input": [
      "#Function to read in census block geojson data and insert it into a mongoDB database\n",
      "def import_cb_geojson_mongoDB(geo_file, coll):\n",
      "    \n",
      "    \"\"\"This function will read in data in the form of geosjon and then insert it into a specified mongoDB database.\"\"\"\n",
      "    \n",
      "    #Read in geojson data\n",
      "    with open(geo_file) as f:\n",
      "        json_file = json.load(f)\n",
      "        \n",
      "    #Import geojson data to specified collection\n",
      "    for i in json_file['features']:\n",
      "        if i['properties']['boroname'] == coll:\n",
      "            db[coll.replace(\" \", \"\")].insert(i)"
     ],
     "language": "python",
     "metadata": {},
     "outputs": [],
     "prompt_number": 3
    },
    {
     "cell_type": "code",
     "collapsed": false,
     "input": [
      "#Path to census block geojson data\n",
      "censusBlocks = './data/nycb2010.geojson'"
     ],
     "language": "python",
     "metadata": {},
     "outputs": [],
     "prompt_number": 4
    },
    {
     "cell_type": "code",
     "collapsed": false,
     "input": [
      "#Import data for each census block into a separate collection based on borough\n",
      "#ONLY NEEDS TO BE DONE ONCE\n",
      "#import_cb_geojson_mongoDB(censusBlocks, 'Brooklyn')\n",
      "#import_cb_geojson_mongoDB(censusBlocks, 'Bronx')\n",
      "#import_cb_geojson_mongoDB(censusBlocks, 'Manhattan')\n",
      "#import_cb_geojson_mongoDB(censusBlocks, 'Staten Island')\n",
      "#import_cb_geojson_mongoDB(censusBlocks, 'Queens')"
     ],
     "language": "python",
     "metadata": {},
     "outputs": [],
     "prompt_number": 55
    },
    {
     "cell_type": "code",
     "collapsed": false,
     "input": [
      "#Import data for each census block\n",
      "#ONLY NEEDS TO BE DONE ONCE\n",
      "#import_boro_geojson_mongoDB(censusBlocks, 'censusBlocks')"
     ],
     "language": "python",
     "metadata": {},
     "outputs": [],
     "prompt_number": 79
    },
    {
     "cell_type": "code",
     "collapsed": false,
     "input": [
      "#Path to borough geojson data\n",
      "boroughZones = './data/nybb.geojson'"
     ],
     "language": "python",
     "metadata": {},
     "outputs": [],
     "prompt_number": 72
    },
    {
     "cell_type": "code",
     "collapsed": false,
     "input": [
      "#Function to read in borough geojson data and insert it into a mongoDB database\n",
      "def import_boro_geojson_mongoDB(geo_file, coll):\n",
      "    \n",
      "    \"\"\"This function will read in data in the form of geosjon and then insert it into a specified mongoDB database.\"\"\"\n",
      "    \n",
      "    #Read in geojson data\n",
      "    with open(geo_file) as f:\n",
      "        json_file = json.load(f)\n",
      "        \n",
      "    #Import geojson data to specified collection\n",
      "    for i in json_file['features']:\n",
      "        db[coll].insert(i)"
     ],
     "language": "python",
     "metadata": {},
     "outputs": [],
     "prompt_number": 78
    },
    {
     "cell_type": "code",
     "collapsed": false,
     "input": [
      "import_boro_geojson_mongoDB(boroughZones, 'Boroughs')"
     ],
     "language": "python",
     "metadata": {},
     "outputs": [],
     "prompt_number": 74
    },
    {
     "cell_type": "code",
     "collapsed": false,
     "input": [
      "len(db.collection_names())"
     ],
     "language": "python",
     "metadata": {},
     "outputs": [
      {
       "metadata": {},
       "output_type": "pyout",
       "prompt_number": 6,
       "text": [
        "274"
       ]
      }
     ],
     "prompt_number": 6
    },
    {
     "cell_type": "code",
     "collapsed": false,
     "input": [
      " db.CypressHills.count()"
     ],
     "language": "python",
     "metadata": {},
     "outputs": [
      {
       "metadata": {},
       "output_type": "pyout",
       "prompt_number": 8,
       "text": [
        "283"
       ]
      }
     ],
     "prompt_number": 8
    },
    {
     "cell_type": "code",
     "collapsed": false,
     "input": [
      "with open('./data/nycb2010.geojson') as f:\n",
      "    json_file = json.load(f)"
     ],
     "language": "python",
     "metadata": {},
     "outputs": [],
     "prompt_number": 24
    },
    {
     "cell_type": "code",
     "collapsed": false,
     "input": [
      "#Check the full list of buroughs\n",
      "\n",
      "allbor = []\n",
      "for i in json_file['features']:\n",
      "    allbor.append(i['properties']['boroname'])\n",
      "    \n",
      "set(allbor)"
     ],
     "language": "python",
     "metadata": {},
     "outputs": [
      {
       "metadata": {},
       "output_type": "pyout",
       "prompt_number": 35,
       "text": [
        "{u'Bronx', u'Brooklyn', u'Manhattan', u'Queens', u'Staten Island'}"
       ]
      }
     ],
     "prompt_number": 35
    },
    {
     "cell_type": "code",
     "collapsed": false,
     "input": [
      "#Separate the census block entries by borough\n",
      "\n",
      "brooklynCB = []\n",
      "manhattanCB = []\n",
      "bronxCB = []\n",
      "queensCB = []\n",
      "siCB = []\n",
      "problems = []\n",
      "\n",
      "for i in json_file['features']:\n",
      "    if i['properties']['boroname'] == 'Queens':\n",
      "        queensCB.append(i)\n",
      "    elif i['properties']['boroname'] == 'Bronx':\n",
      "        bronxCB.append(i)\n",
      "    elif i['properties']['boroname'] == 'Brooklyn':\n",
      "        brooklynCB.append(i)\n",
      "    elif i['properties']['boroname'] == 'Manhattan':\n",
      "        manhattanCB.append(i)\n",
      "    elif i['properties']['boroname'] == 'Staten Island':\n",
      "        siCB.append(i)\n",
      "    else:\n",
      "        problems.append(i)"
     ],
     "language": "python",
     "metadata": {},
     "outputs": [],
     "prompt_number": 37
    },
    {
     "cell_type": "code",
     "collapsed": false,
     "input": [
      "print len(brooklynCB),  db.Brooklyn.count()\n",
      "print len(manhattanCB), db.Manhattan.count()\n",
      "print len(bronxCB), db.Bronx.count()\n",
      "print len(queensCB), db.Queens.count()\n",
      "print len(siCB), db.StatenIsland.count()\n",
      "print len(problems)"
     ],
     "language": "python",
     "metadata": {},
     "outputs": [
      {
       "output_type": "stream",
       "stream": "stdout",
       "text": [
        "9682 9682\n",
        "3856 3856\n",
        "5465 5465\n",
        "14754 14754\n",
        "5037 5037\n",
        "0\n"
       ]
      }
     ],
     "prompt_number": 68
    },
    {
     "cell_type": "code",
     "collapsed": false,
     "input": [
      "#Define a function to return the borough an address is in\n",
      "def find_burough(LatLng):\n",
      "    from pymongo import MongoClient\n",
      "    \n",
      "    #Open a connection to the borough database\n",
      "    client = MongoClient()\n",
      "    db = client.hoods\n",
      "    \n",
      "    #Initialize variables to return\n",
      "    borough = []\n",
      "    \n",
      "    #Define query\n",
      "    query = {'geometry' : { '$geoIntersects':{ '$geometry':{'type':'Point', 'coordinates':[LatLng['lng'],LatLng['lat']]}}}}\n",
      "    \n",
      "    #Find the borough\n",
      "    for item in db.burroughs.find(query):\n",
      "        borough.append(item['properties']['BoroName'])\n",
      "        \n",
      "    return borough"
     ],
     "language": "python",
     "metadata": {},
     "outputs": [],
     "prompt_number": 15
    },
    {
     "cell_type": "code",
     "collapsed": false,
     "input": [
      "#Return the borough for a specific address\n",
      "\n",
      "coords = {'lat':40.68231,'lng':-73.871108}\n",
      "\n",
      "print find_burough(coords)"
     ],
     "language": "python",
     "metadata": {},
     "outputs": [
      {
       "output_type": "stream",
       "stream": "stdout",
       "text": [
        "[u'Brooklyn']\n"
       ]
      }
     ],
     "prompt_number": 17
    },
    {
     "cell_type": "code",
     "collapsed": false,
     "input": [
      "Brooklyn_output = {}\n",
      "for item in db.censusBlocks.find({'properties.boroname': 'Brooklyn'}):\n",
      "    Brooklyn_output[item['_id']] = item\n",
      "\n",
      "Brooklyn_output[Brooklyn_output.keys()[0]]"
     ],
     "language": "python",
     "metadata": {},
     "outputs": [
      {
       "metadata": {},
       "output_type": "pyout",
       "prompt_number": 23,
       "text": [
        "{u'_id': ObjectId('53ebae47c6118d1e347c2a05'),\n",
        " u'geometry': {u'coordinates': [[[[-73.889774, 40.6818],\n",
        "     [-73.890655, 40.681373],\n",
        "     [-73.890819, 40.681295],\n",
        "     [-73.891498, 40.68097],\n",
        "     [-73.892019, 40.681667],\n",
        "     [-73.890283, 40.682485],\n",
        "     [-73.889774, 40.6818]]]],\n",
        "  u'type': u'MultiPolygon'},\n",
        " u'properties': {u'bctcb2010': u'31142022001',\n",
        "  u'borocode': u'3',\n",
        "  u'boroname': u'Brooklyn',\n",
        "  u'cartodb_id': 10851,\n",
        "  u'cb2010': u'2001',\n",
        "  u'created_at': u'2014-08-13T18:23:52Z',\n",
        "  u'ct2010': u'114202',\n",
        "  u'shape_area': 163923.436545,\n",
        "  u'shape_leng': 1710.89477231,\n",
        "  u'updated_at': u'2014-08-13T18:23:52Z'},\n",
        " u'type': u'Feature'}"
       ]
      }
     ],
     "prompt_number": 23
    },
    {
     "cell_type": "code",
     "collapsed": false,
     "input": [
      "#Add matching entries to a dict, output just the geometry.\n",
      "item_output = {}\n",
      "for item in db.censusBlocks.find({'properties.bctcb2010':'30409001001'}):\n",
      "    item_output.update(item)\n",
      "\n",
      "if item_output:\n",
      "    print item_output\n",
      "    print item_output['geometry']\n",
      "else:\n",
      "    print('No match.')"
     ],
     "language": "python",
     "metadata": {},
     "outputs": [
      {
       "output_type": "stream",
       "stream": "stdout",
       "text": [
        "{u'geometry': {u'type': u'MultiPolygon', u'coordinates': [[[[-73.902788, 40.692418], [-73.904342, 40.690836], [-73.905095, 40.691264], [-73.903541, 40.692849], [-73.902788, 40.692418]]]]}, u'_id': ObjectId('53ebae3ec6118d1e347bdfdd'), u'type': u'Feature', u'properties': {u'shape_area': 187812.96924, u'bctcb2010': u'30409001001', u'cb2010': u'1001', u'created_at': u'2014-08-13T18:23:52Z', u'cartodb_id': 33841, u'updated_at': u'2014-08-13T18:23:52Z', u'ct2010': u'040900', u'boroname': u'Brooklyn', u'shape_leng': 1961.85314081, u'borocode': u'3'}}\n",
        "{u'type': u'MultiPolygon', u'coordinates': [[[[-73.902788, 40.692418], [-73.904342, 40.690836], [-73.905095, 40.691264], [-73.903541, 40.692849], [-73.902788, 40.692418]]]]}\n"
       ]
      }
     ],
     "prompt_number": 5
    },
    {
     "cell_type": "code",
     "collapsed": false,
     "input": [
      "coords = {'lat':40.68231,'lng':-73.871108}\n",
      "coords['lat']"
     ],
     "language": "python",
     "metadata": {},
     "outputs": [
      {
       "metadata": {},
       "output_type": "pyout",
       "prompt_number": 13,
       "text": [
        "40.68231"
       ]
      }
     ],
     "prompt_number": 13
    },
    {
     "cell_type": "code",
     "collapsed": false,
     "input": [
      "query = {'geometry' : { '$geoIntersects':{ '$geometry':{'type':'Point', 'coordinates':[coords['lng'],coords['lat']]}}}}"
     ],
     "language": "python",
     "metadata": {},
     "outputs": [],
     "prompt_number": 14
    },
    {
     "cell_type": "code",
     "collapsed": false,
     "input": [
      "for item in db.censusBlocks.find(query):\n",
      "    print item"
     ],
     "language": "python",
     "metadata": {},
     "outputs": [
      {
       "output_type": "stream",
       "stream": "stdout",
       "text": [
        "{u'geometry': {u'type': u'MultiPolygon', u'coordinates': [[[[-73.870716, 40.68193], [-73.871562, 40.681684], [-73.871585, 40.681756], [-73.872186, 40.683651], [-73.871187, 40.683936], [-73.87073, 40.681987], [-73.870716, 40.68193]]]]}, u'_id': ObjectId('53ebae4cc6118d1e347c5268'), u'type': u'Feature', u'properties': {u'shape_area': 199802.301933, u'bctcb2010': u'31184003004', u'cb2010': u'3004', u'created_at': u'2014-08-13T18:23:52Z', u'cartodb_id': 32310, u'updated_at': u'2014-08-13T18:23:52Z', u'ct2010': u'118400', u'boroname': u'Brooklyn', u'shape_leng': 2026.20234448, u'borocode': u'3'}}\n"
       ]
      }
     ],
     "prompt_number": 15
    },
    {
     "cell_type": "code",
     "collapsed": false,
     "input": [
      "query_zone = []\n",
      "for item in db.censusBlocks.find(query):\n",
      "    #query_zone.append([item['properties']['borocode'], item['properties']['ct2010']])\n",
      "    query_zone.append(item['properties']['ct2010'])\n",
      "query_zone"
     ],
     "language": "python",
     "metadata": {},
     "outputs": [
      {
       "metadata": {},
       "output_type": "pyout",
       "prompt_number": 22,
       "text": [
        "[u'118400']"
       ]
      }
     ],
     "prompt_number": 22
    },
    {
     "cell_type": "code",
     "collapsed": false,
     "input": [
      "#Joins the borocode and ct2010 strings into one continuous string for every result.\n",
      "#Does not find the correct census block in SQL, just ust ct2010.\n",
      "#zone_search = ''.join(''.join(map(str, x)) for x in query_zone)\n",
      "#zone_search"
     ],
     "language": "python",
     "metadata": {},
     "outputs": [],
     "prompt_number": 23
    },
    {
     "cell_type": "code",
     "collapsed": false,
     "input": [
      "import MySQLdb as mdb\n",
      "\n",
      "#Open connection to mysql database\n",
      "censusCon = mdb.connect('localhost','','','censusdb')\n",
      "cursor = censusCon.cursor()"
     ],
     "language": "python",
     "metadata": {},
     "outputs": [],
     "prompt_number": 25
    },
    {
     "cell_type": "code",
     "collapsed": false,
     "input": [
      "selCol = ['Tot_Population', 'F_Under_5', 'F_5_to_9', 'F_10_to_14', 'F_15_to_17',\n",
      "          'M_Under_5', 'M_5_to_9', 'M_10_to_14', 'M_15_to_17']"
     ],
     "language": "python",
     "metadata": {},
     "outputs": [],
     "prompt_number": 40
    },
    {
     "cell_type": "code",
     "collapsed": false,
     "input": [
      "sql_query = \"SELECT Tot_Population,F_Under_5,F_5_to_9,F_10_to_14,F_15_to_17,M_Under_5,M_5_to_9,M_10_to_14,M_15_to_17 \\\n",
      "FROM census_data WHERE GEOid2 LIKE %s\"\n",
      "cursor.execute(sql_query, ('%' + query_zone[0] + '%',))\n",
      "zonePop = list(cursor.fetchall())\n",
      "zonePop"
     ],
     "language": "python",
     "metadata": {},
     "outputs": [
      {
       "metadata": {},
       "output_type": "pyout",
       "prompt_number": 38,
       "text": [
        "[(1674L, 71L, 58L, 73L, 36L, 55L, 65L, 59L, 43L),\n",
        " (1790L, 62L, 75L, 55L, 37L, 86L, 74L, 83L, 37L),\n",
        " (1956L, 71L, 59L, 72L, 57L, 78L, 57L, 70L, 41L)]"
       ]
      }
     ],
     "prompt_number": 38
    },
    {
     "cell_type": "code",
     "collapsed": false,
     "input": [
      "zonePopDf = pd.DataFrame(zonePop, columns=selCol)"
     ],
     "language": "python",
     "metadata": {},
     "outputs": [],
     "prompt_number": 43
    }
   ],
   "metadata": {}
  }
 ]
}