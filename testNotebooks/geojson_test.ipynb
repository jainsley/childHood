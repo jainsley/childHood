{
 "metadata": {
  "name": "",
  "signature": "sha256:033141353723d303184efd6d48867815dff64f5a2901d2309fc77dc0ef9c5376"
 },
 "nbformat": 3,
 "nbformat_minor": 0,
 "worksheets": [
  {
   "cells": [
    {
     "cell_type": "code",
     "collapsed": false,
     "input": [
      "#Import json package\n",
      "import json\n",
      "\n",
      "#Read in elementary school geojson file\n",
      "with open('./data/es_zones_2013_2014.geojson') as f:\n",
      "    data = json.load(f)"
     ],
     "language": "python",
     "metadata": {},
     "outputs": [],
     "prompt_number": 6
    },
    {
     "cell_type": "code",
     "collapsed": false,
     "input": [
      "data['features'][0]"
     ],
     "language": "python",
     "metadata": {},
     "outputs": [
      {
       "metadata": {},
       "output_type": "pyout",
       "prompt_number": 7,
       "text": [
        "{u'geometry': {u'coordinates': [[[[-74.006781, 40.602291],\n",
        "     [-74.004446, 40.604802],\n",
        "     [-74.002631, 40.603846],\n",
        "     [-74.003853, 40.602668],\n",
        "     [-74.00514, 40.601431],\n",
        "     [-74.005924, 40.60184],\n",
        "     [-74.006781, 40.602291]]]],\n",
        "  u'type': u'MultiPolygon'},\n",
        " u'properties': {u'boro': u'BK',\n",
        "  u'boro_num': 3,\n",
        "  u'cartodb_id': 706,\n",
        "  u'creat_date': u'02/23/2012',\n",
        "  u'created_at': u'2014-08-04T22:43:53Z',\n",
        "  u'dbn': u'20K748,20K200',\n",
        "  u'edit_date': u'12/09/2012',\n",
        "  u'esid_no': 826,\n",
        "  u'initials': u'JLO',\n",
        "  u'label': u'748 (K-4), 200 (5)',\n",
        "  u'remarks': u'In 2013-14, Grades K-4 are zoned to PS 748: Grade 5 is zoned to PS 200.',\n",
        "  u'schooldist': 20,\n",
        "  u'shape_area': 10722192.2931,\n",
        "  u'shape_leng': 16427.9474598,\n",
        "  u'updated_at': u'2014-08-04T22:43:53Z',\n",
        "  u'zoned_dist': 20},\n",
        " u'type': u'Feature'}"
       ]
      }
     ],
     "prompt_number": 7
    },
    {
     "cell_type": "code",
     "collapsed": false,
     "input": [
      "data['features'][0]['properties']['label']"
     ],
     "language": "python",
     "metadata": {},
     "outputs": [
      {
       "metadata": {},
       "output_type": "pyout",
       "prompt_number": 8,
       "text": [
        "u'748 (K-4), 200 (5)'"
       ]
      }
     ],
     "prompt_number": 8
    },
    {
     "cell_type": "code",
     "collapsed": false,
     "input": [
      "from shapely.geometry import mapping, shape, Polygon, Point\n",
      "\n",
      "s = shape(data['features'][0]['geometry'])"
     ],
     "language": "python",
     "metadata": {},
     "outputs": [],
     "prompt_number": 9
    },
    {
     "cell_type": "code",
     "collapsed": false,
     "input": [
      "import random\n",
      "\n",
      "INVALID_X = -9999\n",
      "INVALID_Y = -9999\n",
      "\n",
      "def get_random_point_in_polygon(poly):\n",
      "     (minx, miny, maxx, maxy) = poly.bounds\n",
      "     p = Point(INVALID_X, INVALID_Y)\n",
      "     while not poly.contains(p):\n",
      "         p_x = random.uniform(minx, maxx)\n",
      "         p_y = random.uniform(miny, maxy)\n",
      "         p = Point(p_x, p_y)\n",
      "     return p\n",
      "        \n",
      "random_points = []\n",
      "\n",
      "for i in range(0, 10):\n",
      "    point_in_poly = get_random_point_in_polygon(s)\n",
      "    random_points.append(point_in_poly)\n",
      "\n",
      "for i in random_points:\n",
      "    print i"
     ],
     "language": "python",
     "metadata": {},
     "outputs": [
      {
       "output_type": "stream",
       "stream": "stdout",
       "text": [
        "POINT (-74.00453768368689 40.60411533285428)\n",
        "POINT (-74.00314483708183 40.60398654587995)\n",
        "POINT (-74.0057830808848 40.60195697101673)\n",
        "POINT (-74.00618785790422 40.60239922543145)\n",
        "POINT (-74.00546209750883 40.60353816191072)\n",
        "POINT (-74.00557473020645 40.60297349239421)\n",
        "POINT (-74.00516527562401 40.60284272914806)\n",
        "POINT (-74.00310369948704 40.60363171206421)\n",
        "POINT (-74.00385274311 40.60422483356642)\n",
        "POINT (-74.00352906328439 40.60312067096898)\n"
       ]
      }
     ],
     "prompt_number": 12
    },
    {
     "cell_type": "code",
     "collapsed": false,
     "input": [
      "for i in random_points:\n",
      "    print s.contains(i)"
     ],
     "language": "python",
     "metadata": {},
     "outputs": [
      {
       "output_type": "stream",
       "stream": "stdout",
       "text": [
        "True\n",
        "True\n",
        "True\n",
        "True\n",
        "True\n",
        "True\n",
        "True\n",
        "True\n",
        "True\n",
        "True\n"
       ]
      }
     ],
     "prompt_number": 13
    },
    {
     "cell_type": "code",
     "collapsed": false,
     "input": [
      "circle = random_points[0].buffer(0.001)\n",
      "print random_points[0]\n",
      "print random_points[1]\n",
      "circle_coords = list(circle.exterior.coords)\n",
      "\n",
      "#for i in random_points:\n",
      "#    print s.contains(i)"
     ],
     "language": "python",
     "metadata": {},
     "outputs": [
      {
       "output_type": "stream",
       "stream": "stdout",
       "text": [
        "POINT (-74.00453768368689 40.60411533285428)\n",
        "POINT (-74.00314483708183 40.60398654587995)\n"
       ]
      }
     ],
     "prompt_number": 14
    },
    {
     "cell_type": "code",
     "collapsed": false,
     "input": [
      "pt1 = (random_points[0].x, random_points[0].y)"
     ],
     "language": "python",
     "metadata": {},
     "outputs": [],
     "prompt_number": 15
    },
    {
     "cell_type": "code",
     "collapsed": false,
     "input": [
      "def euc_dist(point1, point2):\n",
      "    dist = sqrt( (point2[0] - point1[0])**2 + (point2[1] - point1[1])**2 )\n",
      "    return dist"
     ],
     "language": "python",
     "metadata": {},
     "outputs": [],
     "prompt_number": 16
    },
    {
     "cell_type": "code",
     "collapsed": false,
     "input": [
      "from math import radians, cos, sin, asin, sqrt\n",
      "\n",
      "AVG_EARTH_RADIUS = 6367.5  # in km\n",
      "\n",
      "def haversine(point1, point2, miles=False):\n",
      "    \"\"\" Calculate the great-circle distance bewteen two points on the Earth surface.\n",
      "\n",
      "    :input: two 2-tuples, containing the latitude and longitude of each point\n",
      "    in decimal degrees.\n",
      "\n",
      "    Example: haversine((45.7597, 4.8422), (48.8567, 2.3508))\n",
      "\n",
      "    :output: Returns the distance bewteen the two points.\n",
      "    The default unit is kilometers. Miles can be returned\n",
      "    if the ``miles`` parameter is set to True.\n",
      "\n",
      "    \"\"\"\n",
      "    # unpack latitude/longitude\n",
      "    lat1, lng1 = point1\n",
      "    lat2, lng2 = point2\n",
      "\n",
      "    # convert all latitudes/longitudes from decimal degrees to radians\n",
      "    lat1, lng1, lat2, lng2 = list(map(radians, [lat1, lng1, lat2, lng2]))\n",
      "\n",
      "    # calculate haversine\n",
      "    lat = lat2 - lat1\n",
      "    lng = lng2 - lng1\n",
      "    d = sin(lat / 2) ** 2 + cos(lat1) * cos(lat2) * sin(lng / 2) ** 2\n",
      "    h = 2 * AVG_EARTH_RADIUS * asin(sqrt(d))\n",
      "    if miles:\n",
      "        return h * 0.6214  # in miles\n",
      "    else:\n",
      "        return h  # in kilometers"
     ],
     "language": "python",
     "metadata": {},
     "outputs": [],
     "prompt_number": 17
    },
    {
     "cell_type": "code",
     "collapsed": false,
     "input": [
      "#for i in circle_coords:\n",
      "#    print haversine(pt1, i)"
     ],
     "language": "python",
     "metadata": {},
     "outputs": [],
     "prompt_number": 63
    },
    {
     "cell_type": "code",
     "collapsed": false,
     "input": [
      "#for i in circle_coords:\n",
      "#    print euc_dist(pt1, i)"
     ],
     "language": "python",
     "metadata": {},
     "outputs": [],
     "prompt_number": 64
    },
    {
     "cell_type": "code",
     "collapsed": false,
     "input": [
      "#DOES NOT WORK\n",
      "from math import radians, cos, sin, asin, sqrt\n",
      "\n",
      "def lat_to_distance(lat):\n",
      "    distm = 111132.954 - 559.822 * cos(2 * lat) + 1.175 * cos(4 * lat)\n",
      "    return distm"
     ],
     "language": "python",
     "metadata": {},
     "outputs": [],
     "prompt_number": 18
    },
    {
     "cell_type": "code",
     "collapsed": false,
     "input": [
      "#NYC meters per degree of latitude = 111048\n",
      "lat_mpd = 111048\n",
      "#NYC meters per degree of longitude = 85394\n",
      "lng_mpd = 85394"
     ],
     "language": "python",
     "metadata": {},
     "outputs": [],
     "prompt_number": 19
    },
    {
     "cell_type": "code",
     "collapsed": false,
     "input": [
      "import utm\n",
      "u = utm.from_latlon(40.68231,-73.871108)\n",
      "u2 = [u[0] - 5000, u[1], u[2], u[3]]\n",
      "\n",
      "print u\n",
      "print u2[0], u2[1]\n",
      "hp1 = utm.to_latlon(*u)\n",
      "hp2 = utm.to_latlon(*u2)\n",
      "haversine(hp1, hp2)"
     ],
     "language": "python",
     "metadata": {},
     "outputs": [
      {
       "output_type": "stream",
       "stream": "stdout",
       "text": [
        "(595396.8820813183, 4504104.095708258, 18, 'T')\n",
        "590396.882081 4504104.09571\n"
       ]
      },
      {
       "metadata": {},
       "output_type": "pyout",
       "prompt_number": 20,
       "text": [
        "4.98602575180542"
       ]
      }
     ],
     "prompt_number": 20
    },
    {
     "cell_type": "code",
     "collapsed": false,
     "input": [
      "pt = Point(u2[0], u2[1])\n",
      "circle = pt.buffer(5000)\n",
      "utm_circle = list(circle.exterior.coords)\n",
      "utm_circle"
     ],
     "language": "python",
     "metadata": {},
     "outputs": [
      {
       "metadata": {},
       "output_type": "pyout",
       "prompt_number": 22,
       "text": [
        "[(595396.8820813183, 4504104.095708258),\n",
        " (595372.8057146793, 4503614.01000661),\n",
        " (595300.8084833345, 4503128.644098178),\n",
        " (595181.5837599793, 4502652.672321986),\n",
        " (595016.2797438747, 4502190.678546433),\n",
        " (594806.4884030601, 4501747.112024128),\n",
        " (594554.230142831, 4501326.24454316),\n",
        " (594261.934348132, 4500932.12928744),\n",
        " (593932.4159872511, 4500568.561802326),\n",
        " (593568.8485021365, 4500239.043441445),\n",
        " (593174.7332464163, 4499946.747646745),\n",
        " (592753.8657654483, 4499694.489386517),\n",
        " (592310.2992431438, 4499484.698045702),\n",
        " (591848.3054675906, 4499319.394029598),\n",
        " (591372.333691399, 4499200.169306242),\n",
        " (590886.9677829661, 4499128.172074897),\n",
        " (590396.8820813183, 4499104.095708258),\n",
        " (589906.7963796705, 4499128.172074897),\n",
        " (589421.4304712376, 4499200.169306242),\n",
        " (588945.458695046, 4499319.394029598),\n",
        " (588483.4649194928, 4499484.698045702),\n",
        " (588039.8983971883, 4499694.489386517),\n",
        " (587619.0309162203, 4499946.747646745),\n",
        " (587224.9156605001, 4500239.043441445),\n",
        " (586861.3481753856, 4500568.561802326),\n",
        " (586531.8298145046, 4500932.12928744),\n",
        " (586239.5340198056, 4501326.24454316),\n",
        " (585987.2757595765, 4501747.112024128),\n",
        " (585777.4844187619, 4502190.678546433),\n",
        " (585612.1804026572, 4502652.672321986),\n",
        " (585492.9556793021, 4503128.644098178),\n",
        " (585420.9584479573, 4503614.01000661),\n",
        " (585396.8820813183, 4504104.095708258),\n",
        " (585420.9584479573, 4504594.181409907),\n",
        " (585492.9556793021, 4505079.547318339),\n",
        " (585612.1804026572, 4505555.5190945305),\n",
        " (585777.4844187619, 4506017.512870084),\n",
        " (585987.2757595765, 4506461.079392388),\n",
        " (586239.5340198056, 4506881.946873357),\n",
        " (586531.8298145046, 4507276.062129077),\n",
        " (586861.3481753855, 4507639.629614191),\n",
        " (587224.9156605001, 4507969.147975072),\n",
        " (587619.0309162203, 4508261.443769772),\n",
        " (588039.8983971883, 4508513.70203),\n",
        " (588483.4649194928, 4508723.493370815),\n",
        " (588945.458695046, 4508888.797386919),\n",
        " (589421.4304712376, 4509008.022110275),\n",
        " (589906.7963796705, 4509080.01934162),\n",
        " (590396.8820813183, 4509104.095708258),\n",
        " (590886.9677829661, 4509080.01934162),\n",
        " (591372.333691399, 4509008.022110275),\n",
        " (591848.3054675906, 4508888.797386919),\n",
        " (592310.2992431438, 4508723.493370815),\n",
        " (592753.8657654483, 4508513.70203),\n",
        " (593174.7332464163, 4508261.443769772),\n",
        " (593568.8485021365, 4507969.147975072),\n",
        " (593932.415987251, 4507639.629614191),\n",
        " (594261.934348132, 4507276.062129077),\n",
        " (594554.230142831, 4506881.946873357),\n",
        " (594806.48840306, 4506461.079392388),\n",
        " (595016.2797438747, 4506017.512870084),\n",
        " (595181.5837599793, 4505555.5190945305),\n",
        " (595300.8084833345, 4505079.547318339),\n",
        " (595372.8057146793, 4504594.181409907),\n",
        " (595396.8820813183, 4504104.095708258)]"
       ]
      }
     ],
     "prompt_number": 22
    }
   ],
   "metadata": {}
  }
 ]
}