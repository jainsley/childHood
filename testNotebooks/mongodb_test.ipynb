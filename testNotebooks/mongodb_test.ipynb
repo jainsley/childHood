{
 "metadata": {
  "name": "",
  "signature": "sha256:56e632c19f9c59c403a73ecf8f79cc0ec7d2262f43079ed07e0342e4dbd9fcd3"
 },
 "nbformat": 3,
 "nbformat_minor": 0,
 "worksheets": [
  {
   "cells": [
    {
     "cell_type": "code",
     "collapsed": false,
     "input": [
      "import pymongo"
     ],
     "language": "python",
     "metadata": {},
     "outputs": [],
     "prompt_number": 79
    },
    {
     "cell_type": "code",
     "collapsed": false,
     "input": [
      "from pymongo import MongoClient\n",
      "client = MongoClient()"
     ],
     "language": "python",
     "metadata": {},
     "outputs": [],
     "prompt_number": 80
    },
    {
     "cell_type": "code",
     "collapsed": false,
     "input": [
      "db = client.test_database"
     ],
     "language": "python",
     "metadata": {},
     "outputs": [],
     "prompt_number": 81
    },
    {
     "cell_type": "code",
     "collapsed": false,
     "input": [
      "collection = db.test_collection"
     ],
     "language": "python",
     "metadata": {},
     "outputs": [],
     "prompt_number": 82
    },
    {
     "cell_type": "code",
     "collapsed": false,
     "input": [
      "import datetime\n",
      "post = {\"author\": \"Mike\",\n",
      "        \"text\": \"My first blog post!\",\n",
      "        \"tags\": [\"mongodb\", \"python\", \"pymongo\"],\n",
      "        \"date\": datetime.datetime.utcnow()}"
     ],
     "language": "python",
     "metadata": {},
     "outputs": [],
     "prompt_number": 22
    },
    {
     "cell_type": "code",
     "collapsed": false,
     "input": [
      "posts = db.posts\n",
      "post_id = posts.insert(post)\n",
      "post_id"
     ],
     "language": "python",
     "metadata": {},
     "outputs": [
      {
       "metadata": {},
       "output_type": "pyout",
       "prompt_number": 23,
       "text": [
        "ObjectId('53e22d89c6118d0de59761ab')"
       ]
      }
     ],
     "prompt_number": 23
    },
    {
     "cell_type": "code",
     "collapsed": false,
     "input": [
      "#Import json package\n",
      "import json\n",
      "\n",
      "#Read in elementary school geojson file\n",
      "with open('./data/es_zones_2013_2014.edit.geojson') as f:\n",
      "    es = json.load(f)"
     ],
     "language": "python",
     "metadata": {},
     "outputs": [],
     "prompt_number": 65
    },
    {
     "cell_type": "code",
     "collapsed": false,
     "input": [
      "esdb = db.esdb\n",
      "es_id = esdb.save(es)\n",
      "es_id"
     ],
     "language": "python",
     "metadata": {},
     "outputs": [
      {
       "metadata": {},
       "output_type": "pyout",
       "prompt_number": 66,
       "text": [
        "ObjectId('53e255eec6118d0de59761ad')"
       ]
      }
     ],
     "prompt_number": 66
    },
    {
     "cell_type": "code",
     "collapsed": false,
     "input": [
      "#Remove an item by object ID\n",
      "#db.esdb.remove( {\"_id\": 'ObjectId(\"53e22e21c6118d0de59761ac\")'});\n",
      "collection.remove({\"_id\": 'ObjectId(\"53e22e21c6118d0de59761ac\")'})\n"
     ],
     "language": "python",
     "metadata": {},
     "outputs": [
      {
       "metadata": {},
       "output_type": "pyout",
       "prompt_number": 75,
       "text": [
        "{u'n': 0, u'ok': 1}"
       ]
      }
     ],
     "prompt_number": 75
    },
    {
     "cell_type": "code",
     "collapsed": false,
     "input": [
      "db.collection_names()"
     ],
     "language": "python",
     "metadata": {},
     "outputs": [
      {
       "metadata": {},
       "output_type": "pyout",
       "prompt_number": 76,
       "text": [
        "[u'posts', u'system.indexes', u'esdb']"
       ]
      }
     ],
     "prompt_number": 76
    },
    {
     "cell_type": "code",
     "collapsed": false,
     "input": [
      "posts.find_one({'author': 'Mike'})"
     ],
     "language": "python",
     "metadata": {},
     "outputs": [
      {
       "metadata": {},
       "output_type": "pyout",
       "prompt_number": 68,
       "text": [
        "{u'_id': ObjectId('53e22d89c6118d0de59761ab'),\n",
        " u'author': u'Mike',\n",
        " u'date': datetime.datetime(2014, 8, 6, 13, 28, 23, 39000),\n",
        " u'tags': [u'mongodb', u'python', u'pymongo'],\n",
        " u'text': u'My first blog post!'}"
       ]
      }
     ],
     "prompt_number": 68
    },
    {
     "cell_type": "code",
     "collapsed": false,
     "input": [
      "esdb.find_one()"
     ],
     "language": "python",
     "metadata": {},
     "outputs": [
      {
       "metadata": {},
       "output_type": "pyout",
       "prompt_number": 77,
       "text": [
        "{u'_id': ObjectId('53e255eec6118d0de59761ad'),\n",
        " u'features': [{u'geometry': {u'coordinates': [[[[-74.006781, 40.602291],\n",
        "       [-74.004446, 40.604802],\n",
        "       [-74.002631, 40.603846],\n",
        "       [-74.003853, 40.602668],\n",
        "       [-74.00514, 40.601431],\n",
        "       [-74.005924, 40.60184],\n",
        "       [-74.006781, 40.602291]]]],\n",
        "    u'type': u'MultiPolygon'},\n",
        "   u'properties': {u'boro': u'BK',\n",
        "    u'boro_num': 3,\n",
        "    u'cartodb_id': 706,\n",
        "    u'creat_date': u'02/23/2012',\n",
        "    u'created_at': u'2014-08-04T22:43:53Z',\n",
        "    u'dbn': u'20K748,20K200',\n",
        "    u'edit_date': u'12/09/2012',\n",
        "    u'esid_no': 826,\n",
        "    u'initials': u'JLO',\n",
        "    u'label': u'748 (K-4), 200 (5)',\n",
        "    u'remarks': u'In 2013-14, Grades K-4 are zoned to PS 748: Grade 5 is zoned to PS 200.',\n",
        "    u'schooldist': 20,\n",
        "    u'shape_area': 10722192.2931,\n",
        "    u'shape_leng': 16427.9474598,\n",
        "    u'updated_at': u'2014-08-04T22:43:53Z',\n",
        "    u'zoned_dist': 20},\n",
        "   u'type': u'Feature'},\n",
        "  {u'geometry': {u'coordinates': [[[[-73.861831, 40.764573],\n",
        "       [-73.862574, 40.764187],\n",
        "       [-73.863367, 40.763742],\n",
        "       [-73.864094, 40.763334],\n",
        "       [-73.864823, 40.762929],\n",
        "       [-73.866323, 40.76448],\n",
        "       [-73.865594, 40.764887],\n",
        "       [-73.866752, 40.766091],\n",
        "       [-73.866026, 40.766496],\n",
        "       [-73.865276, 40.766938],\n",
        "       [-73.864331, 40.767485],\n",
        "       [-73.863437, 40.766621],\n",
        "       [-73.863402, 40.766456],\n",
        "       [-73.863218, 40.766251],\n",
        "       [-73.862861, 40.765846],\n",
        "       [-73.861831, 40.764573]]]],\n",
        "    u'type': u'MultiPolygon'},\n",
        "   u'properties': {u'boro': u'QN',\n",
        "    u'boro_num': 4,\n",
        "    u'cartodb_id': 512,\n",
        "    u'creat_date': u'08/12/2011',\n",
        "    u'created_at': u'2014-08-04T22:43:53Z',\n",
        "    u'dbn': u'30Q127',\n",
        "    u'edit_date': u'6/06/12',\n",
        "    u'esid_no': 386,\n",
        "    u'initials': u'AP',\n",
        "    u'label': u'127',\n",
        "    u'remarks': None,\n",
        "    u'schooldist': 30,\n",
        "    u'shape_area': 1198755.91696,\n",
        "    u'shape_leng': 4618.52345293,\n",
        "    u'updated_at': u'2014-08-04T22:43:53Z',\n",
        "    u'zoned_dist': 30},\n",
        "   u'type': u'Feature'}],\n",
        " u'type': u'FeatureCollection'}"
       ]
      }
     ],
     "prompt_number": 77
    },
    {
     "cell_type": "code",
     "collapsed": false,
     "input": [
      "#esdb.find({'label': '748 (K-4), 200 (5)'})\n",
      "#for item in esdb.find({'features.properties.label': '748 (K-4), 200 (5)'}):\n",
      "#    print item\n",
      "#for item in esdb.find({u'features.properties.esid_no': 826}):\n",
      "#    print item"
     ],
     "language": "python",
     "metadata": {},
     "outputs": [],
     "prompt_number": 1
    }
   ],
   "metadata": {}
  }
 ]
}