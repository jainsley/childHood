{
 "metadata": {
  "name": "",
  "signature": "sha256:7a487b3ab3fcc92c98adbbb6a384e9ac5544da123370fea95430aded93b069ab"
 },
 "nbformat": 3,
 "nbformat_minor": 0,
 "worksheets": [
  {
   "cells": [
    {
     "cell_type": "code",
     "collapsed": false,
     "input": [
      "#Read in data\n",
      "import pandas as pd\n",
      "crime = pd.read_csv('./data/nyc-crime-points-2013.csv')\n",
      "crime.shape"
     ],
     "language": "python",
     "metadata": {},
     "outputs": [
      {
       "metadata": {},
       "output_type": "pyout",
       "prompt_number": 1,
       "text": [
        "(97680, 12)"
       ]
      }
     ],
     "prompt_number": 1
    },
    {
     "cell_type": "code",
     "collapsed": false,
     "input": [
      "len(set(crime['neighborhood']))"
     ],
     "language": "python",
     "metadata": {},
     "outputs": [
      {
       "metadata": {},
       "output_type": "pyout",
       "prompt_number": 2,
       "text": [
        "255"
       ]
      }
     ],
     "prompt_number": 2
    },
    {
     "cell_type": "code",
     "collapsed": false,
     "input": [
      "#Show the column names\n",
      "crimeCol = list(crime)\n",
      "crimeCol"
     ],
     "language": "python",
     "metadata": {},
     "outputs": [
      {
       "metadata": {},
       "output_type": "pyout",
       "prompt_number": 4,
       "text": [
        "['CR',\n",
        " 'MO',\n",
        " 'TOT',\n",
        " 'YR',\n",
        " 'latitude',\n",
        " 'longitude',\n",
        " 'borough',\n",
        " 'cityCouncilDistrict',\n",
        " 'communityDistrict',\n",
        " 'neighborhood',\n",
        " 'policePrecinct',\n",
        " 'postalCode']"
       ]
      }
     ],
     "prompt_number": 4
    },
    {
     "cell_type": "code",
     "collapsed": false,
     "input": [
      "crime_fixed = crime.where(pd.notnull(crime), None)"
     ],
     "language": "python",
     "metadata": {},
     "outputs": [],
     "prompt_number": 7
    },
    {
     "cell_type": "code",
     "collapsed": false,
     "input": [
      "from pandas.io import sql\n",
      "import MySQLdb as db\n",
      "\n",
      "#Open connection to mysql database\n",
      "censusCon = db.connect('localhost','','','censusdb')\n",
      "cursor = censusCon.cursor()"
     ],
     "language": "python",
     "metadata": {},
     "outputs": [],
     "prompt_number": 1
    },
    {
     "cell_type": "code",
     "collapsed": false,
     "input": [
      "#Write dataframe to mysql database - ONLY NEEDS TO BE DONE ONCE\n",
      "#crime_fixed.to_sql(con=censusCon, name='crime', if_exists='replace', flavor='mysql')"
     ],
     "language": "python",
     "metadata": {},
     "outputs": [],
     "prompt_number": 19
    },
    {
     "cell_type": "code",
     "collapsed": false,
     "input": [
      "sql_query = \"SELECT * FROM crime WHERE postalCode = %s\"\n",
      "cursor.execute(sql_query, ['11208'])\n",
      "crimesNearMe = list(cursor.fetchall())\n",
      "crimesNearMe[0][5:7]"
     ],
     "language": "python",
     "metadata": {},
     "outputs": [
      {
       "metadata": {},
       "output_type": "pyout",
       "prompt_number": 7,
       "text": [
        "('40.681253632784', '-73.873056082062')"
       ]
      }
     ],
     "prompt_number": 7
    }
   ],
   "metadata": {}
  }
 ]
}