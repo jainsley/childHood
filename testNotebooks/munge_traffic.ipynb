{
 "metadata": {
  "name": "",
  "signature": "sha256:56752d977a275ce6b6b5e9361436b5df1f377fa71d321f83028742ea755946bf"
 },
 "nbformat": 3,
 "nbformat_minor": 0,
 "worksheets": [
  {
   "cells": [
    {
     "cell_type": "code",
     "collapsed": false,
     "input": [
      "from time import sleep\n",
      "import pandas as pd"
     ],
     "language": "python",
     "metadata": {},
     "outputs": [],
     "prompt_number": 1
    },
    {
     "cell_type": "code",
     "collapsed": false,
     "input": [
      "#Read in data\n",
      "traffic = pd.read_csv('./data/Traffic_Volume_Counts__2012-2013_.csv')\n",
      "traffic.shape"
     ],
     "language": "python",
     "metadata": {},
     "outputs": [
      {
       "metadata": {},
       "output_type": "pyout",
       "prompt_number": 2,
       "text": [
        "(5945, 31)"
       ]
      }
     ],
     "prompt_number": 2
    },
    {
     "cell_type": "code",
     "collapsed": false,
     "input": [
      "#Extract just the column names\n",
      "trafficCol = list(traffic)\n",
      "print len(trafficCol)\n",
      "trafficCol"
     ],
     "language": "python",
     "metadata": {},
     "outputs": [
      {
       "output_type": "stream",
       "stream": "stdout",
       "text": [
        "31\n"
       ]
      },
      {
       "metadata": {},
       "output_type": "pyout",
       "prompt_number": 3,
       "text": [
        "['ID',\n",
        " 'Segment ID',\n",
        " 'Roadway Name',\n",
        " 'From',\n",
        " 'To',\n",
        " 'Direction',\n",
        " 'Date',\n",
        " '12:00-1:00 AM',\n",
        " '1:00-2:00AM',\n",
        " '2:00-3:00AM',\n",
        " '3:00-4:00AM',\n",
        " '4:00-5:00AM',\n",
        " '5:00-6:00AM',\n",
        " '6:00-7:00AM',\n",
        " '7:00-8:00AM',\n",
        " '8:00-9:00AM',\n",
        " '9:00-10:00AM',\n",
        " '10:00-11:00AM',\n",
        " '11:00-12:00PM',\n",
        " '12:00-1:00PM',\n",
        " '1:00-2:00PM',\n",
        " '2:00-3:00PM',\n",
        " '3:00-4:00PM',\n",
        " '4:00-5:00PM',\n",
        " '5:00-6:00PM',\n",
        " '6:00-7:00PM',\n",
        " '7:00-8:00PM',\n",
        " '8:00-9:00PM',\n",
        " '9:00-10:00PM',\n",
        " '10:00-11:00PM',\n",
        " '11:00-12:00AM']"
       ]
      }
     ],
     "prompt_number": 3
    },
    {
     "cell_type": "code",
     "collapsed": false,
     "input": [
      "#Test query to get column names that end in AM or PM\n",
      "#cursor.execute(\"SELECT column_name + ',' FROM information_schema.columns WHERE table_name = 'traffic' AND \\\n",
      "#(column_name LIKE '%AM' OR column_name LIKE '%PM')\")"
     ],
     "language": "python",
     "metadata": {},
     "outputs": [],
     "prompt_number": 54
    },
    {
     "cell_type": "code",
     "collapsed": false,
     "input": [
      "#Split apply combine FUN!\n",
      "import numpy as np\n",
      "\n",
      "grouped = traffic.groupby(['Segment ID', 'Roadway Name', 'From', 'To'])\n",
      "groupedSums = grouped.aggregate(np.sum)"
     ],
     "language": "python",
     "metadata": {},
     "outputs": [],
     "prompt_number": 4
    },
    {
     "cell_type": "code",
     "collapsed": false,
     "input": [
      "print groupedSums.shape"
     ],
     "language": "python",
     "metadata": {},
     "outputs": [
      {
       "output_type": "stream",
       "stream": "stdout",
       "text": [
        "(409, 25)\n"
       ]
      }
     ],
     "prompt_number": 5
    },
    {
     "cell_type": "code",
     "collapsed": false,
     "input": [
      "#Add a new column that sums the traffic counts\n",
      "trafficSum = groupedSums.ix[:,1:25].sum(1)\n",
      "groupedSums['sum'] = trafficSum"
     ],
     "language": "python",
     "metadata": {},
     "outputs": [],
     "prompt_number": 6
    },
    {
     "cell_type": "code",
     "collapsed": false,
     "input": [
      "#Calculate the z-score for each traffic count\n",
      "from scipy import stats\n",
      "groupedSums['z_score'] = stats.zscore(groupedSums['sum'])"
     ],
     "language": "python",
     "metadata": {},
     "outputs": [],
     "prompt_number": 117
    },
    {
     "cell_type": "code",
     "collapsed": false,
     "input": [
      "#Reset index before loading into mysql database\n",
      "trafficZ = groupedSums.reset_index()"
     ],
     "language": "python",
     "metadata": {},
     "outputs": [],
     "prompt_number": 118
    },
    {
     "cell_type": "code",
     "collapsed": false,
     "input": [
      "list(trafficZ)"
     ],
     "language": "python",
     "metadata": {},
     "outputs": [
      {
       "metadata": {},
       "output_type": "pyout",
       "prompt_number": 119,
       "text": [
        "['Segment ID',\n",
        " 'Roadway Name',\n",
        " 'From',\n",
        " 'To',\n",
        " 'ID',\n",
        " '12:00-1:00 AM',\n",
        " '1:00-2:00AM',\n",
        " '2:00-3:00AM',\n",
        " '3:00-4:00AM',\n",
        " '4:00-5:00AM',\n",
        " '5:00-6:00AM',\n",
        " '6:00-7:00AM',\n",
        " '7:00-8:00AM',\n",
        " '8:00-9:00AM',\n",
        " '9:00-10:00AM',\n",
        " '10:00-11:00AM',\n",
        " '11:00-12:00PM',\n",
        " '12:00-1:00PM',\n",
        " '1:00-2:00PM',\n",
        " '2:00-3:00PM',\n",
        " '3:00-4:00PM',\n",
        " '4:00-5:00PM',\n",
        " '5:00-6:00PM',\n",
        " '6:00-7:00PM',\n",
        " '7:00-8:00PM',\n",
        " '8:00-9:00PM',\n",
        " '9:00-10:00PM',\n",
        " '10:00-11:00PM',\n",
        " '11:00-12:00AM',\n",
        " 'sum',\n",
        " 'z_score']"
       ]
      }
     ],
     "prompt_number": 119
    },
    {
     "cell_type": "code",
     "collapsed": false,
     "input": [
      "print trafficZ.ix[0,'Roadway Name'].strip() + ' AND ' + trafficZ.ix[0,'From'].strip()\n",
      "print trafficZ.ix[0,'Roadway Name'].strip() + ' AND ' + trafficZ.ix[0,'To'].strip()"
     ],
     "language": "python",
     "metadata": {},
     "outputs": [
      {
       "output_type": "stream",
       "stream": "stdout",
       "text": [
        "HUGUENOT AVE AND WOODROW RD\n",
        "HUGUENOT AVE AND STAFFORD AVE\n"
       ]
      }
     ],
     "prompt_number": 120
    },
    {
     "cell_type": "code",
     "collapsed": false,
     "input": [
      "#Import functions for Google API\n",
      "import googleAPIFunctions as gf"
     ],
     "language": "python",
     "metadata": {},
     "outputs": [],
     "prompt_number": 121
    },
    {
     "cell_type": "code",
     "collapsed": false,
     "input": [
      "#Get lat, lng coordinates for intersections\n",
      "\n",
      "trafficLatLng = []\n",
      "\n",
      "for idx, val in enumerate(trafficImp[0:5]):\n",
      "    address = trafficImp[idx][2].strip() + ' AND ' + trafficImp[idx][3].strip()\n",
      "    addressLatLng1 = gf.getGeocodeLatLong(gf.googleGeocoding(address))\n",
      "    sleep(0.15)\n",
      "    address = trafficImp[idx][2].strip() + ' AND ' + trafficImp[idx][4].strip()\n",
      "    addressLatLng2 = gf.getGeocodeLatLong(gf.googleGeocoding(address))\n",
      "    sleep(0.15)\n",
      "    #trafficLatLng.append([[val[2], val[3], addressLatLng1], [val[2], val[4], addressLatLng2]])\n",
      "    if 'lat' in addressLatLng1.keys():\n",
      "        intersect1 = [val[2].strip(), val[3].strip(), addressLatLng1]\n",
      "    if 'lat' in addressLatLng2.keys():\n",
      "        intersect2 = [val[2].strip(), val[4].strip(), addressLatLng2]\n",
      "        trafficLine = [intersect1, intersect2]\n",
      "        trafficLatLng.append(trafficLine)"
     ],
     "language": "python",
     "metadata": {},
     "outputs": [],
     "prompt_number": 73
    },
    {
     "cell_type": "code",
     "collapsed": false,
     "input": [
      "def intersectionLatLng(ser):\n",
      "    address = ser[\"Roadway Name\"].strip() + ' AND ' + ser[\"From\"].strip()\n",
      "    addressLatLng1 = gf.getGeocodeLatLong(gf.googleGeocoding(address))\n",
      "    sleep(0.15)\n",
      "    address = ser[\"Roadway Name\"].strip() + ' AND ' + ser[\"To\"].strip()\n",
      "    addressLatLng2 = gf.getGeocodeLatLong(gf.googleGeocoding(address))\n",
      "    sleep(0.15)\n",
      "    #trafficLatLng.append([[val[2], val[3], addressLatLng1], [val[2], val[4], addressLatLng2]])\n",
      "    if 'lat' in addressLatLng1.keys() and 'lat' in addressLatLng2.keys():\n",
      "        ser['line'] = [addressLatLng1, addressLatLng2]\n",
      "    return ser"
     ],
     "language": "python",
     "metadata": {},
     "outputs": [],
     "prompt_number": 122
    },
    {
     "cell_type": "code",
     "collapsed": false,
     "input": [
      "trafficZ[\"line\"] = np.nan"
     ],
     "language": "python",
     "metadata": {},
     "outputs": [],
     "prompt_number": 126
    },
    {
     "cell_type": "code",
     "collapsed": false,
     "input": [
      "#trafficZL = trafficZ.apply(intersectionLatLng, 1)"
     ],
     "language": "python",
     "metadata": {},
     "outputs": [],
     "prompt_number": 142
    },
    {
     "cell_type": "code",
     "collapsed": false,
     "input": [
      "trafficZL.shape"
     ],
     "language": "python",
     "metadata": {},
     "outputs": [
      {
       "metadata": {},
       "output_type": "pyout",
       "prompt_number": 144,
       "text": [
        "(409, 32)"
       ]
      }
     ],
     "prompt_number": 144
    },
    {
     "cell_type": "code",
     "collapsed": false,
     "input": [
      "#Extract just the column names, remove spaces\n",
      "trafficZLCol = list(trafficZL)\n",
      "trafficZLColEdit = [w.replace(' ', '') for w in trafficZLCol]\n",
      "trafficZL.columns = trafficZLColEdit"
     ],
     "language": "python",
     "metadata": {},
     "outputs": [],
     "prompt_number": 156
    },
    {
     "cell_type": "code",
     "collapsed": false,
     "input": [],
     "language": "python",
     "metadata": {},
     "outputs": []
    },
    {
     "cell_type": "code",
     "collapsed": false,
     "input": [
      "str(trafficZL.ix[0,\"line\"])"
     ],
     "language": "python",
     "metadata": {},
     "outputs": [
      {
       "metadata": {},
       "output_type": "pyout",
       "prompt_number": 161,
       "text": [
        "\"[{u'lat': 40.5432265, u'lng': -74.19728429999999}, {u'lat': 40.5425378, u'lng': -74.19700920000001}]\""
       ]
      }
     ],
     "prompt_number": 161
    },
    {
     "cell_type": "code",
     "collapsed": false,
     "input": [
      "#Save the trafficZL data frame into a pickle file.\n",
      "import pickle\n",
      "pickle.dump(trafficZL, open(\"traffic_zScores_coords.p\", \"wb\"))"
     ],
     "language": "python",
     "metadata": {},
     "outputs": [],
     "prompt_number": 146
    },
    {
     "cell_type": "code",
     "collapsed": false,
     "input": [
      "#Load the trafficZL dictionary back from the pickle file.\n",
      "import pickle\n",
      "trafficZL = pickle.load(open(\"traffic_zScores_coords.p\", \"rb\"))"
     ],
     "language": "python",
     "metadata": {},
     "outputs": [],
     "prompt_number": 2
    },
    {
     "cell_type": "code",
     "collapsed": false,
     "input": [
      "trafficZL_fixed = trafficZL.where(pd.notnull(trafficZL), None)"
     ],
     "language": "python",
     "metadata": {},
     "outputs": [],
     "prompt_number": 3
    },
    {
     "cell_type": "code",
     "collapsed": false,
     "input": [
      "def fix_line(ser):\n",
      "    tempser = []\n",
      "    if ser['line'] != None:\n",
      "        #tempser = [[ser['line'][0]['lat'], ser['line'][0]['lng']], [ser['line'][1]['lat'], ser['line'][1]['lng']]]\n",
      "        tempser = [[round(ser['line'][0]['lat'], 6), \n",
      "                    round(ser['line'][0]['lng'], 6)],\n",
      "                   [round(ser['line'][1]['lat'], 6),\n",
      "                    round(ser['line'][1]['lng'], 6)]]\n",
      "        ser['line'] = str(tempser)\n",
      "    return ser"
     ],
     "language": "python",
     "metadata": {},
     "outputs": [],
     "prompt_number": 33
    },
    {
     "cell_type": "code",
     "collapsed": false,
     "input": [
      "round(trafficZL_fixed.ix[0,'line'][0]['lat'], 6)"
     ],
     "language": "python",
     "metadata": {},
     "outputs": [
      {
       "metadata": {},
       "output_type": "pyout",
       "prompt_number": 32,
       "text": [
        "40.543227"
       ]
      }
     ],
     "prompt_number": 32
    },
    {
     "cell_type": "code",
     "collapsed": false,
     "input": [
      "trafficZL_fixed2 = trafficZL_fixed.apply(fix_line, 1)"
     ],
     "language": "python",
     "metadata": {},
     "outputs": [],
     "prompt_number": 34
    },
    {
     "cell_type": "code",
     "collapsed": false,
     "input": [
      "type(trafficZL_fixed2.ix[0,'line'])"
     ],
     "language": "python",
     "metadata": {},
     "outputs": [
      {
       "metadata": {},
       "output_type": "pyout",
       "prompt_number": 35,
       "text": [
        "str"
       ]
      }
     ],
     "prompt_number": 35
    },
    {
     "cell_type": "code",
     "collapsed": false,
     "input": [
      "import MySQLdb as db\n",
      "\n",
      "#Open connection to mysql database\n",
      "censusCon = db.connect('localhost','','','censusdb')\n",
      "cursor = censusCon.cursor()"
     ],
     "language": "python",
     "metadata": {},
     "outputs": [],
     "prompt_number": 36
    },
    {
     "cell_type": "code",
     "collapsed": false,
     "input": [
      "#Change a pandas.io function to allow longer strings\n",
      "\n",
      "from pandas.io import sql\n",
      "\n",
      "def get_sqltype(pytype, flavor):\n",
      "    sqltype = {'mysql': 'VARCHAR (255)', # change the VARCHAR value to something larger\n",
      "               'sqlite': 'TEXT'}\n",
      "\n",
      "    if issubclass(pytype, np.floating):\n",
      "        sqltype['mysql'] = 'FLOAT'\n",
      "        sqltype['sqlite'] = 'REAL'\n",
      "    if issubclass(pytype, np.integer):\n",
      "        sqltype['mysql'] = 'BIGINT'\n",
      "        sqltype['sqlite'] = 'INTEGER'\n",
      "    if issubclass(pytype, np.datetime64) or pytype is datetime:\n",
      "        sqltype['mysql'] = 'DATETIME'\n",
      "        sqltype['sqlite'] = 'TIMESTAMP'\n",
      "    if pytype is datetime.date:\n",
      "        sqltype['mysql'] = 'DATE'\n",
      "        sqltype['sqlite'] = 'TIMESTAMP'\n",
      "    if issubclass(pytype, np.bool_):\n",
      "        sqltype['sqlite'] = 'INTEGER'\n",
      "\n",
      "    return sqltype[flavor]\n",
      "\n",
      "sql.get_sqltype = get_sqltype"
     ],
     "language": "python",
     "metadata": {},
     "outputs": [],
     "prompt_number": 37
    },
    {
     "cell_type": "code",
     "collapsed": false,
     "input": [
      "#Write dataframe to mysql database - ONLY NEEDS TO BE DONE ONCE\n",
      "#trafficZL_fixed2.to_sql(con=censusCon, name='traffic', if_exists='replace', flavor='mysql')"
     ],
     "language": "python",
     "metadata": {},
     "outputs": [],
     "prompt_number": 38
    },
    {
     "cell_type": "code",
     "collapsed": false,
     "input": [
      "cursor.execute(\"SELECT line FROM traffic WHERE z_score > 5\")\n",
      "cursor.fetchall()"
     ],
     "language": "python",
     "metadata": {},
     "outputs": [
      {
       "metadata": {},
       "output_type": "pyout",
       "prompt_number": 39,
       "text": [
        "(('[[40.707671, -73.727977], [40.697187, -73.727506]]',),\n",
        " (None,),\n",
        " ('[[40.760609, -73.964328], [40.761234, -73.963886]]',))"
       ]
      }
     ],
     "prompt_number": 39
    },
    {
     "cell_type": "code",
     "collapsed": false,
     "input": [
      "cursor.execute(\"SELECT line FROM traffic\")\n",
      "testrecall = list(cursor.fetchall())"
     ],
     "language": "python",
     "metadata": {},
     "outputs": [],
     "prompt_number": 40
    },
    {
     "cell_type": "code",
     "collapsed": false,
     "input": [
      "len(testrecall)"
     ],
     "language": "python",
     "metadata": {},
     "outputs": [
      {
       "metadata": {},
       "output_type": "pyout",
       "prompt_number": 42,
       "text": [
        "409"
       ]
      }
     ],
     "prompt_number": 42
    }
   ],
   "metadata": {}
  }
 ]
}