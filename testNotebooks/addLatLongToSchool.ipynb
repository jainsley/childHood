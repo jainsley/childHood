{
 "metadata": {
  "name": "",
  "signature": "sha256:013594ad1dff9090c1ff6ea8a6bef43dff9d746c011a56ac5a03418ddc8d4500"
 },
 "nbformat": 3,
 "nbformat_minor": 0,
 "worksheets": [
  {
   "cells": [
    {
     "cell_type": "code",
     "collapsed": false,
     "input": [
      "#Import packages\n",
      "import MySQLdb as mdb\n",
      "from time import sleep\n",
      "\n",
      "#Import functions for Google API\n",
      "import googleAPIFunctions as gf"
     ],
     "language": "python",
     "metadata": {},
     "outputs": [],
     "prompt_number": 126
    },
    {
     "cell_type": "code",
     "collapsed": false,
     "input": [
      "#Open connection to mysql database\n",
      "censusCon = mdb.connect('localhost','','','censusdb')\n",
      "cursor = censusCon.cursor()"
     ],
     "language": "python",
     "metadata": {},
     "outputs": [],
     "prompt_number": 127
    },
    {
     "cell_type": "code",
     "collapsed": false,
     "input": [
      "cursor.execute(\"SELECT address,city FROM school_name WHERE boronum != 0\")\n",
      "schAdd = list(cursor.fetchall())"
     ],
     "language": "python",
     "metadata": {},
     "outputs": [
      {
       "metadata": {},
       "output_type": "pyout",
       "prompt_number": 3,
       "text": [
        "1707L"
       ]
      }
     ],
     "prompt_number": 3
    },
    {
     "cell_type": "code",
     "collapsed": false,
     "input": [
      "print len(schAdd)\n",
      "schAdd[0:5]"
     ],
     "language": "python",
     "metadata": {},
     "outputs": [
      {
       "output_type": "stream",
       "stream": "stdout",
       "text": [
        "1707\n"
       ]
      },
      {
       "metadata": {},
       "output_type": "pyout",
       "prompt_number": 5,
       "text": [
        "[('201 WARREN STREET', 'MANHATTAN'),\n",
        " ('1619 BOSTON ROAD', 'BRONX'),\n",
        " ('30-15 29 STREET', 'QUEENS'),\n",
        " ('32-24 CORP KENNEDY STREET', 'QUEENS'),\n",
        " ('1935 BUSSING AVENUE', 'BRONX')]"
       ]
      }
     ],
     "prompt_number": 5
    },
    {
     "cell_type": "code",
     "collapsed": false,
     "input": [
      "#Write school addresses to a file\n",
      "#import csv\n",
      "\n",
      "#outfile = open('./data/temp.txt', 'w')\n",
      "#print >> outfile, \"\\n\".join(str(i) for i in schAdd)\n",
      "#outfile.close()"
     ],
     "language": "python",
     "metadata": {},
     "outputs": [],
     "prompt_number": 20
    },
    {
     "cell_type": "code",
     "collapsed": false,
     "input": [
      "#Add columns to SQL database for lat and lng\n",
      "#cursor.execute(\"ALTER TABLE school_name ADD lat DOUBLE PRECISION\")\n",
      "#cursor.execute(\"ALTER TABLE school_name ADD lng DOUBLE PRECISION\")"
     ],
     "language": "python",
     "metadata": {},
     "outputs": [
      {
       "metadata": {},
       "output_type": "pyout",
       "prompt_number": 26,
       "text": [
        "1709L"
       ]
      }
     ],
     "prompt_number": 26
    },
    {
     "cell_type": "code",
     "collapsed": false,
     "input": [
      "#Get lat, lng coordinates for each high school in NYC\n",
      "#schLatLng = []\n",
      "#for idx, val in enumerate(schAdd):\n",
      "#    address = val[0] + ' ' + val[1]\n",
      "#    addressLatLng = gf.getGeocodeLatLong(gf.googleGeocoding(address))\n",
      "#    schLatLng.append([val[0], val[1], addressLatLng])\n",
      "#    sleep(0.15)\n",
      "\n",
      "#Write school coordinates to a file\n",
      "#import csv\n",
      "\n",
      "#outfile = open('./data/school_coordinates.txt', 'w')\n",
      "#print >> outfile, \"\\n\".join(str(i) for i in schLatLng)\n",
      "#outfile.close()"
     ],
     "language": "python",
     "metadata": {},
     "outputs": [],
     "prompt_number": 83
    },
    {
     "cell_type": "code",
     "collapsed": false,
     "input": [
      "#Read school coordinates from file\n",
      "data = [line.strip() for line in open('./data/school_coordinates.txt', 'r')]"
     ],
     "language": "python",
     "metadata": {},
     "outputs": [],
     "prompt_number": 67
    },
    {
     "cell_type": "code",
     "collapsed": false,
     "input": [
      "#Run eval function on data with loop\n",
      "#eval_data = []\n",
      "#for i in range(0,len(data)):\n",
      "#    eval_data.append(eval(data[i]))"
     ],
     "language": "python",
     "metadata": {},
     "outputs": [],
     "prompt_number": 81
    },
    {
     "cell_type": "code",
     "collapsed": false,
     "input": [
      "#Run eval function on data with list comprehension\n",
      "eval_data = [eval(i) for i in data]"
     ],
     "language": "python",
     "metadata": {},
     "outputs": [],
     "prompt_number": 120
    },
    {
     "cell_type": "code",
     "collapsed": false,
     "input": [
      "#Separate data into entries with and without lat and lng entries\n",
      "schLatLngGood = []\n",
      "schLatLngError = []\n",
      "for idx, val in enumerate(eval_data):\n",
      "    if eval_data[idx][2].has_key('lat'):\n",
      "        schLatLngGood.append(val)\n",
      "    else:\n",
      "        schLatLngError.append(val)\n",
      "\n",
      "print len(schLatLngError), len(schLatLngGood)"
     ],
     "language": "python",
     "metadata": {},
     "outputs": [
      {
       "output_type": "stream",
       "stream": "stdout",
       "text": [
        "26 1681\n"
       ]
      }
     ],
     "prompt_number": 121
    },
    {
     "cell_type": "code",
     "collapsed": false,
     "input": [
      "#Get lat, lng coordinates for high schools that failed the first time\n",
      "schLatLngRepeat = []\n",
      "for idx, val in enumerate(schLatLngError):\n",
      "    address = val[0] + ' ' + val[1]\n",
      "    addressLatLng = gf.getGeocodeLatLong(gf.googleGeocoding(address))\n",
      "    schLatLngRepeat.append([val[0], val[1], addressLatLng])\n",
      "    sleep(0.15)"
     ],
     "language": "python",
     "metadata": {},
     "outputs": [],
     "prompt_number": 108
    },
    {
     "cell_type": "code",
     "collapsed": false,
     "input": [
      "#Combine lists\n",
      "schLatLngComplete = schLatLngGood + schLatLngRepeat\n",
      "print len(schLatLngGood), len(schLatLngError), len(schLatLngRepeat), len(schLatLngComplete)"
     ],
     "language": "python",
     "metadata": {},
     "outputs": [
      {
       "output_type": "stream",
       "stream": "stdout",
       "text": [
        "1707 26 26 1733\n"
       ]
      }
     ],
     "prompt_number": 123
    },
    {
     "cell_type": "code",
     "collapsed": false,
     "input": [
      "#Check that all entries have the 'lat' key\n",
      "totsum = 0\n",
      "for idx, val in enumerate(schLatLngComplete):\n",
      "    if schLatLngComplete[idx][2].has_key('lat'):\n",
      "        totsum = totsum + 1\n",
      "print totsum"
     ],
     "language": "python",
     "metadata": {},
     "outputs": [
      {
       "output_type": "stream",
       "stream": "stdout",
       "text": [
        "1733\n"
       ]
      }
     ],
     "prompt_number": 124
    },
    {
     "cell_type": "code",
     "collapsed": false,
     "input": [
      "#Insert lat, lng into SQL database\n",
      "for idx in range(0,len(schLatLngComplete)):\n",
      "    cursor.execute(\"UPDATE school_name SET lat = %s WHERE address = %s\", \n",
      "                   [schLatLngComplete[idx][2]['lat'], schLatLngComplete[idx][0]])\n",
      "    cursor.execute(\"UPDATE school_name SET lng = %s WHERE address = %s\", \n",
      "                   [schLatLngComplete[idx][2]['lng'], schLatLngComplete[idx][0]])"
     ],
     "language": "python",
     "metadata": {},
     "outputs": [],
     "prompt_number": 128
    },
    {
     "cell_type": "code",
     "collapsed": false,
     "input": [
      "#Check length\n",
      "cursor.execute(\"SELECT address,lat,lng FROM school_name\")"
     ],
     "language": "python",
     "metadata": {},
     "outputs": [
      {
       "metadata": {},
       "output_type": "pyout",
       "prompt_number": 144,
       "text": [
        "1709L"
       ]
      }
     ],
     "prompt_number": 144
    },
    {
     "cell_type": "code",
     "collapsed": false,
     "input": [
      "#Find entries that have missing values for lat and lng\n",
      "cursor.execute(\"SELECT address,city,lat,lng FROM school_name WHERE lat IS NULL OR lng IS NULL\")\n",
      "noEntries = list(cursor.fetchall())\n",
      "noEntries\n",
      "#These are the two schools NOT in NYC, so Lat, Lng are not needed."
     ],
     "language": "python",
     "metadata": {},
     "outputs": [
      {
       "metadata": {},
       "output_type": "pyout",
       "prompt_number": 148,
       "text": [
        "[('94 Fulton Avenue', 'Hempstead', None, None),\n",
        " ('260 WARBURTON AVE', 'YONKERS', None, None)]"
       ]
      }
     ],
     "prompt_number": 148
    },
    {
     "cell_type": "code",
     "collapsed": false,
     "input": [
      "#Close connection\n",
      "censusCon.close()"
     ],
     "language": "python",
     "metadata": {},
     "outputs": [],
     "prompt_number": 150
    }
   ],
   "metadata": {}
  }
 ]
}