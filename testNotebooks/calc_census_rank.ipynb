{
 "metadata": {
  "name": "",
  "signature": "sha256:ddf08b4585f2eae243c7d40e18594f2d126f467b2f73d708021269d4e44916da"
 },
 "nbformat": 3,
 "nbformat_minor": 0,
 "worksheets": [
  {
   "cells": [
    {
     "cell_type": "code",
     "collapsed": false,
     "input": [
      "import pandas as pd\n",
      "from scipy import stats"
     ],
     "language": "python",
     "metadata": {},
     "outputs": [],
     "prompt_number": 1
    },
    {
     "cell_type": "code",
     "collapsed": false,
     "input": [
      "#Load the randomHood dictionary back from the pickle file.\n",
      "import pickle\n",
      "kidsCH = pickle.load(open(\"Cypress_Hills_kids.p\", \"rb\"))"
     ],
     "language": "python",
     "metadata": {},
     "outputs": [],
     "prompt_number": 2
    },
    {
     "cell_type": "code",
     "collapsed": false,
     "input": [
      "kidsCHdf = pd.DataFrame(kidsCH)\n",
      "kidsCHdf.columns = ['ProportionOfPopulation','AgeCategory','Neighborhood','Borough']"
     ],
     "language": "python",
     "metadata": {},
     "outputs": [],
     "prompt_number": 3
    },
    {
     "cell_type": "code",
     "collapsed": false,
     "input": [
      "def replace_per(text):\n",
      "    text1 = text.replace('Ages 9 and younger.', 'LessThanNine')\n",
      "    text2 = text1.replace('Ages 10-14.', 'TenToFourteen')\n",
      "    text3 = text2.replace('Ages 10-17.', 'TenToSeventeen')\n",
      "    return text3"
     ],
     "language": "python",
     "metadata": {},
     "outputs": [],
     "prompt_number": 4
    },
    {
     "cell_type": "code",
     "collapsed": false,
     "input": [
      "kidsCHdf['AgeCategory'] = kidsCHdf['AgeCategory'].apply(replace_per)\n",
      "kidsCHdf.shape"
     ],
     "language": "python",
     "metadata": {},
     "outputs": [
      {
       "metadata": {},
       "output_type": "pyout",
       "prompt_number": 5,
       "text": [
        "(300, 4)"
       ]
      }
     ],
     "prompt_number": 5
    },
    {
     "cell_type": "code",
     "collapsed": false,
     "input": [
      "kidsLT9 = kidsCHdf.query('AgeCategory == \"LessThanNine\"')\n",
      "kidsLT9['z_score'] = stats.zscore(kidsLT9['ProportionOfPopulation'])\n",
      "kidsLT9MeanStd = {'LT9mean' : kidsLT9['ProportionOfPopulation'].mean(), 'LT9std' : kidsLT9['ProportionOfPopulation'].std()}\n",
      "\n",
      "kids10to14 = kidsCHdf.query('AgeCategory == \"TenToFourteen\"')\n",
      "kids10to14['z_score'] = stats.zscore(kids10to14['ProportionOfPopulation'])\n",
      "kids10to14MeanStd = {'TentoFourteenMean' : kids10to14['ProportionOfPopulation'].mean(), \n",
      "                     'TentoFourteenStd' : kids10to14['ProportionOfPopulation'].std()}\n",
      "\n",
      "kids10to17 = kidsCHdf.query('AgeCategory == \"TenToSeventeen\"')\n",
      "kids10to17['z_score'] = stats.zscore(kids10to17['ProportionOfPopulation'])\n",
      "kids10to17MeanStd = {'TentoSeventeenMean' : kids10to17['ProportionOfPopulation'].mean(), \n",
      "                     'TentoSeventeenStd' : kids10to17['ProportionOfPopulation'].std()}"
     ],
     "language": "python",
     "metadata": {},
     "outputs": [],
     "prompt_number": 40
    },
    {
     "cell_type": "code",
     "collapsed": false,
     "input": [
      "kidsZ = kidsLT9.append(kids10to14.append(kids10to17))\n",
      "kidsZ.shape"
     ],
     "language": "python",
     "metadata": {},
     "outputs": [
      {
       "metadata": {},
       "output_type": "pyout",
       "prompt_number": 41,
       "text": [
        "(300, 5)"
       ]
      }
     ],
     "prompt_number": 41
    },
    {
     "cell_type": "code",
     "collapsed": false,
     "input": [
      "#Write output using pickle\n",
      "#import pickle\n",
      "#pickle.dump(kidsZ, open(\"Cypress_Hills_kids_zscores.p\", \"wb\"))"
     ],
     "language": "python",
     "metadata": {},
     "outputs": [],
     "prompt_number": 9
    },
    {
     "cell_type": "code",
     "collapsed": false,
     "input": [
      "kidsLT9MeanStd\n",
      "kids10to14MeanStd\n",
      "kids10to17MeanStd"
     ],
     "language": "python",
     "metadata": {},
     "outputs": [
      {
       "metadata": {},
       "output_type": "pyout",
       "prompt_number": 36,
       "text": [
        "[0.13167128392274577, 0.011088262456535047]"
       ]
      }
     ],
     "prompt_number": 36
    },
    {
     "cell_type": "code",
     "collapsed": false,
     "input": [
      "CHkidsMeanStd = dict(kidsLT9MeanStd.items() + kids10to14MeanStd.items() + kids10to17MeanStd.items())\n",
      "CHkidsMeanStd"
     ],
     "language": "python",
     "metadata": {},
     "outputs": [
      {
       "metadata": {},
       "output_type": "pyout",
       "prompt_number": 43,
       "text": [
        "{'LT9mean': 0.14964408944957522,\n",
        " 'LT9std': 0.010690980801363487,\n",
        " 'TentoFourteenMean': 0.077906412168238237,\n",
        " 'TentoFourteenStd': 0.0075234707322430691,\n",
        " 'TentoSeventeenMean': 0.13167128392274577,\n",
        " 'TentoSeventeenStd': 0.011088262456535047}"
       ]
      }
     ],
     "prompt_number": 43
    },
    {
     "cell_type": "code",
     "collapsed": false,
     "input": [
      "#Write output using pickle\n",
      "#import pickle\n",
      "#pickle.dump(CHkidsMeanStd, open(\"Cypress_Hills_kids_mean_stddev.p\", \"wb\"))"
     ],
     "language": "python",
     "metadata": {},
     "outputs": [],
     "prompt_number": 47
    },
    {
     "cell_type": "code",
     "collapsed": false,
     "input": [
      "#Load the CHkidsMeanStd dictionary back from the pickle file.\n",
      "import pickle\n",
      "CHkidsMeanStd = pickle.load(open(\"Cypress_Hills_kids_mean_stddev.p\", \"rb\"))"
     ],
     "language": "python",
     "metadata": {},
     "outputs": [],
     "prompt_number": 50
    },
    {
     "cell_type": "code",
     "collapsed": false,
     "input": [
      "(0.15004929334 - CHkidsMeanStd['LT9mean']) / CHkidsMeanStd['LT9std']"
     ],
     "language": "python",
     "metadata": {},
     "outputs": [
      {
       "metadata": {},
       "output_type": "pyout",
       "prompt_number": 51,
       "text": [
        "0.037901470216194215"
       ]
      }
     ],
     "prompt_number": 51
    },
    {
     "cell_type": "code",
     "collapsed": false,
     "input": [
      "#Load the CHkidsMeanStd dictionary back from the pickle file.\n",
      "import pickle\n",
      "CHkidsZ = pickle.load(open(\"Cypress_Hills_kids_zscores.p\", \"rb\"))"
     ],
     "language": "python",
     "metadata": {},
     "outputs": [],
     "prompt_number": 1
    },
    {
     "cell_type": "code",
     "collapsed": false,
     "input": [
      "CHkidsZ = kidsCHdf.query('AgeCategory == \"LessThanNine\"')"
     ],
     "language": "python",
     "metadata": {},
     "outputs": [
      {
       "metadata": {},
       "output_type": "pyout",
       "prompt_number": 8,
       "text": [
        "300"
       ]
      }
     ],
     "prompt_number": 8
    }
   ],
   "metadata": {}
  }
 ]
}