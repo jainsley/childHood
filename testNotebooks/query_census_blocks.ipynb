{
 "metadata": {
  "name": "",
  "signature": "sha256:6de4936f3adbed9ea331f0ac96f909fc0cac082a2f441abb8367a56655d5a6ff"
 },
 "nbformat": 3,
 "nbformat_minor": 0,
 "worksheets": [
  {
   "cells": [
    {
     "cell_type": "code",
     "collapsed": false,
     "input": [
      "#Import packages\n",
      "import pymongo\n",
      "from pymongo import MongoClient\n",
      "import pandas as pd\n",
      "import MySQLdb as mdb\n",
      "import googleAPIFunctions as gf\n",
      "\n",
      "age_grade = {'4':'PK',\n",
      "             '5':'0K',\n",
      "             '6':'01',\n",
      "             '7':'02',\n",
      "             '8':'03',\n",
      "             '9':'04',\n",
      "             '10':'05',\n",
      "             '11':'06',\n",
      "             '12':'07',\n",
      "             '13':'08',\n",
      "             '14':'09',\n",
      "             '15':'10',\n",
      "             '16':'11',\n",
      "             '17':'12'}"
     ],
     "language": "python",
     "metadata": {},
     "outputs": [],
     "prompt_number": 1
    },
    {
     "cell_type": "code",
     "collapsed": false,
     "input": [
      "#Set up mongoDB connection\n",
      "client = MongoClient()\n",
      "db = client.censusDB"
     ],
     "language": "python",
     "metadata": {},
     "outputs": [],
     "prompt_number": 2
    },
    {
     "cell_type": "code",
     "collapsed": false,
     "input": [
      "db.collection_names()"
     ],
     "language": "python",
     "metadata": {},
     "outputs": [
      {
       "metadata": {},
       "output_type": "pyout",
       "prompt_number": 3,
       "text": [
        "[u'censusBlocks', u'system.indexes']"
       ]
      }
     ],
     "prompt_number": 3
    },
    {
     "cell_type": "code",
     "collapsed": false,
     "input": [
      "address = '308 hemlock st brooklyn, ny'\n",
      "#address = '121 saratoga ave brooklyn NY'\n",
      "#address = '1030 86th St Brooklyn, NY'\n",
      "#address = '353 Broadway Brooklyn, NY'\n",
      "\n",
      "#Get latitude and longitude for input address\n",
      "addressLatLng = gf.getGeocodeLatLong(gf.googleGeocoding(address))\n",
      "\n",
      "inputAge = '17'\n",
      "schoolType = ''\n",
      "\n",
      "try:\n",
      "    age_grade[inputAge]\n",
      "except KeyError:\n",
      "    sys.exit(\"Not an appropriate age.\")\n",
      "\n",
      "if age_grade[inputAge] in ['09','10','11','12']:\n",
      "    schoolType = 'hs'\n",
      "elif age_grade[inputAge] in ['06','07','08']:\n",
      "    schoolType = 'ms'\n",
      "elif age_grade[inputAge] in ['PK','0K','01','02','03','04','05',]:\n",
      "    schoolType = 'es'"
     ],
     "language": "python",
     "metadata": {},
     "outputs": [],
     "prompt_number": 4
    },
    {
     "cell_type": "code",
     "collapsed": false,
     "input": [
      "query = {'geometry' : { '$geoIntersects':{ '$geometry':{'type':'Point', 'coordinates':\n",
      "                                                        [addressLatLng['lng'],addressLatLng['lat']]}}}}"
     ],
     "language": "python",
     "metadata": {},
     "outputs": [],
     "prompt_number": 5
    },
    {
     "cell_type": "code",
     "collapsed": false,
     "input": [
      "query_zone = []\n",
      "for item in db.censusBlocks.find(query):\n",
      "    query_zone.append(item['properties']['ct2010'])\n",
      "query_zone"
     ],
     "language": "python",
     "metadata": {},
     "outputs": [
      {
       "metadata": {},
       "output_type": "pyout",
       "prompt_number": 6,
       "text": [
        "[u'118400']"
       ]
      }
     ],
     "prompt_number": 6
    },
    {
     "cell_type": "code",
     "collapsed": false,
     "input": [
      "#Open connection to mysql database\n",
      "censusCon = mdb.connect('localhost','','','censusdb')\n",
      "cursor = censusCon.cursor()"
     ],
     "language": "python",
     "metadata": {},
     "outputs": [],
     "prompt_number": 7
    },
    {
     "cell_type": "code",
     "collapsed": false,
     "input": [
      "#Trying to get only select columns with SQL based on a list, but it's not working.\n",
      "\n",
      "selCol = ['Tot_Population', 'F_Under_5', 'F_5_to_9', 'F_10_to_14', 'F_15_to_17',\n",
      "          'M_Under_5', 'M_5_to_9', 'M_10_to_14', 'M_15_to_17']\n",
      "\n",
      "#queryCol = []\n",
      "\n",
      "#queryCol.append(','.join(i for i in selCol))\n",
      "#query = \"SELECT %s FROM census_data WHERE GEOid2 = '360050001000'\"\n",
      "#query = \"SELECT %s FROM census_data\"\n",
      "#cursor.execute(query, [queryCol[0]])\n",
      "#cursor.fetchall()"
     ],
     "language": "python",
     "metadata": {},
     "outputs": [],
     "prompt_number": 8
    },
    {
     "cell_type": "code",
     "collapsed": false,
     "input": [
      "sql_query = \"SELECT Tot_Population,F_Under_5,F_5_to_9,F_10_to_14,F_15_to_17,M_Under_5,M_5_to_9,M_10_to_14,M_15_to_17 \\\n",
      "FROM census_data WHERE GEOid2 LIKE %s\"\n",
      "cursor.execute(sql_query, ('%' + query_zone[0] + '%',))\n",
      "zonePop = list(cursor.fetchall())\n",
      "zonePopDf = pd.DataFrame(zonePop, columns=selCol)"
     ],
     "language": "python",
     "metadata": {},
     "outputs": [],
     "prompt_number": 9
    },
    {
     "cell_type": "code",
     "collapsed": false,
     "input": [
      "zonePopDf"
     ],
     "language": "python",
     "metadata": {},
     "outputs": [
      {
       "html": [
        "<div style=\"max-height:1000px;max-width:1500px;overflow:auto;\">\n",
        "<table border=\"1\" class=\"dataframe\">\n",
        "  <thead>\n",
        "    <tr style=\"text-align: right;\">\n",
        "      <th></th>\n",
        "      <th>Tot_Population</th>\n",
        "      <th>F_Under_5</th>\n",
        "      <th>F_5_to_9</th>\n",
        "      <th>F_10_to_14</th>\n",
        "      <th>F_15_to_17</th>\n",
        "      <th>M_Under_5</th>\n",
        "      <th>M_5_to_9</th>\n",
        "      <th>M_10_to_14</th>\n",
        "      <th>M_15_to_17</th>\n",
        "    </tr>\n",
        "  </thead>\n",
        "  <tbody>\n",
        "    <tr>\n",
        "      <th>0</th>\n",
        "      <td> 1674</td>\n",
        "      <td> 71</td>\n",
        "      <td> 58</td>\n",
        "      <td> 73</td>\n",
        "      <td> 36</td>\n",
        "      <td> 55</td>\n",
        "      <td> 65</td>\n",
        "      <td> 59</td>\n",
        "      <td> 43</td>\n",
        "    </tr>\n",
        "    <tr>\n",
        "      <th>1</th>\n",
        "      <td> 1790</td>\n",
        "      <td> 62</td>\n",
        "      <td> 75</td>\n",
        "      <td> 55</td>\n",
        "      <td> 37</td>\n",
        "      <td> 86</td>\n",
        "      <td> 74</td>\n",
        "      <td> 83</td>\n",
        "      <td> 37</td>\n",
        "    </tr>\n",
        "    <tr>\n",
        "      <th>2</th>\n",
        "      <td> 1956</td>\n",
        "      <td> 71</td>\n",
        "      <td> 59</td>\n",
        "      <td> 72</td>\n",
        "      <td> 57</td>\n",
        "      <td> 78</td>\n",
        "      <td> 57</td>\n",
        "      <td> 70</td>\n",
        "      <td> 41</td>\n",
        "    </tr>\n",
        "  </tbody>\n",
        "</table>\n",
        "</div>"
       ],
       "metadata": {},
       "output_type": "pyout",
       "prompt_number": 10,
       "text": [
        "   Tot_Population  F_Under_5  F_5_to_9  F_10_to_14  F_15_to_17  M_Under_5  \\\n",
        "0            1674         71        58          73          36         55   \n",
        "1            1790         62        75          55          37         86   \n",
        "2            1956         71        59          72          57         78   \n",
        "\n",
        "   M_5_to_9  M_10_to_14  M_15_to_17  \n",
        "0        65          59          43  \n",
        "1        74          83          37  \n",
        "2        57          70          41  "
       ]
      }
     ],
     "prompt_number": 10
    },
    {
     "cell_type": "code",
     "collapsed": false,
     "input": [
      "if schoolType == 'hs':\n",
      "    dfIndex = ['Tot_Population', 'F_10_to_14', 'F_15_to_17', 'M_10_to_14', 'M_15_to_17']\n",
      "elif schoolType == 'ms':\n",
      "    dfIndex = ['Tot_Population', 'F_10_to_14', 'M_10_to_14']\n",
      "elif schoolType == 'es':\n",
      "    dfIndex = ['Tot_Population', 'F_Under_5', 'F_5_to_9', 'M_Under_5', 'M_5_to_9']\n",
      "\n",
      "selDf = zonePopDf.loc[:,dfIndex]\n",
      "\n",
      "selDf"
     ],
     "language": "python",
     "metadata": {},
     "outputs": [
      {
       "html": [
        "<div style=\"max-height:1000px;max-width:1500px;overflow:auto;\">\n",
        "<table border=\"1\" class=\"dataframe\">\n",
        "  <thead>\n",
        "    <tr style=\"text-align: right;\">\n",
        "      <th></th>\n",
        "      <th>Tot_Population</th>\n",
        "      <th>F_10_to_14</th>\n",
        "      <th>F_15_to_17</th>\n",
        "      <th>M_10_to_14</th>\n",
        "      <th>M_15_to_17</th>\n",
        "    </tr>\n",
        "  </thead>\n",
        "  <tbody>\n",
        "    <tr>\n",
        "      <th>0</th>\n",
        "      <td> 1674</td>\n",
        "      <td> 73</td>\n",
        "      <td> 36</td>\n",
        "      <td> 59</td>\n",
        "      <td> 43</td>\n",
        "    </tr>\n",
        "    <tr>\n",
        "      <th>1</th>\n",
        "      <td> 1790</td>\n",
        "      <td> 55</td>\n",
        "      <td> 37</td>\n",
        "      <td> 83</td>\n",
        "      <td> 37</td>\n",
        "    </tr>\n",
        "    <tr>\n",
        "      <th>2</th>\n",
        "      <td> 1956</td>\n",
        "      <td> 72</td>\n",
        "      <td> 57</td>\n",
        "      <td> 70</td>\n",
        "      <td> 41</td>\n",
        "    </tr>\n",
        "  </tbody>\n",
        "</table>\n",
        "</div>"
       ],
       "metadata": {},
       "output_type": "pyout",
       "prompt_number": 12,
       "text": [
        "   Tot_Population  F_10_to_14  F_15_to_17  M_10_to_14  M_15_to_17\n",
        "0            1674          73          36          59          43\n",
        "1            1790          55          37          83          37\n",
        "2            1956          72          57          70          41"
       ]
      }
     ],
     "prompt_number": 12
    },
    {
     "cell_type": "code",
     "collapsed": false,
     "input": [
      "def propKids(ser):\n",
      "    if ser.loc['Tot_Population'] > 0:\n",
      "        ratio = float(ser[1:].sum()) / float(ser.loc['Tot_Population'])\n",
      "        return ratio"
     ],
     "language": "python",
     "metadata": {},
     "outputs": [],
     "prompt_number": 13
    },
    {
     "cell_type": "code",
     "collapsed": false,
     "input": [
      "selDf.apply(propKids, 1).mean()"
     ],
     "language": "python",
     "metadata": {},
     "outputs": [
      {
       "metadata": {},
       "output_type": "pyout",
       "prompt_number": 14,
       "text": [
        "0.12239351364398675"
       ]
      }
     ],
     "prompt_number": 14
    }
   ],
   "metadata": {}
  }
 ]
}