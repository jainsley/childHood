{
 "metadata": {
  "name": "",
  "signature": "sha256:89e821763c5cc8ba15a0341c681f516bb5c4738289d59c021a9daee81a7dd2d7"
 },
 "nbformat": 3,
 "nbformat_minor": 0,
 "worksheets": [
  {
   "cells": [
    {
     "cell_type": "code",
     "collapsed": false,
     "input": [
      "#Read in data\n",
      "import pandas as pd\n",
      "school_results = pd.read_csv('./data/doe-public-school-results.csv')\n",
      "school_results.shape"
     ],
     "language": "python",
     "metadata": {},
     "outputs": [
      {
       "metadata": {},
       "output_type": "pyout",
       "prompt_number": 1,
       "text": [
        "(1818, 57)"
       ]
      }
     ],
     "prompt_number": 1
    },
    {
     "cell_type": "code",
     "collapsed": false,
     "input": [
      "#Extract just the column names, remove spaces\n",
      "school_resultsCol = list(school_results)\n",
      "school_resultsColEdit = [w.replace(' ', '') for w in school_resultsCol]\n",
      "school_results.columns = school_resultsColEdit"
     ],
     "language": "python",
     "metadata": {},
     "outputs": [],
     "prompt_number": 2
    },
    {
     "cell_type": "code",
     "collapsed": false,
     "input": [
      "#Delete @id column as it is not necessary and is not imported correctly to mySQL\n",
      "del school_results['@id']"
     ],
     "language": "python",
     "metadata": {},
     "outputs": [],
     "prompt_number": 4
    },
    {
     "cell_type": "code",
     "collapsed": false,
     "input": [
      "school_results_fixed = school_results.where(pd.notnull(school_results), None)"
     ],
     "language": "python",
     "metadata": {},
     "outputs": [],
     "prompt_number": 5
    },
    {
     "cell_type": "code",
     "collapsed": false,
     "input": [
      "from pandas.io import sql\n",
      "import MySQLdb as db\n",
      "\n",
      "#Open connection to mysql database\n",
      "censusCon = db.connect('localhost','','','censusdb')\n",
      "cursor = censusCon.cursor()"
     ],
     "language": "python",
     "metadata": {},
     "outputs": [],
     "prompt_number": 3
    },
    {
     "cell_type": "code",
     "collapsed": false,
     "input": [
      "#Change a pandas.io function to allow longer strings\n",
      "\n",
      "from pandas.io import sql\n",
      "\n",
      "def get_sqltype(pytype, flavor):\n",
      "    sqltype = {'mysql': 'VARCHAR (120)', # change the VARCHAR value to something larger\n",
      "               'sqlite': 'TEXT'}\n",
      "\n",
      "    if issubclass(pytype, np.floating):\n",
      "        sqltype['mysql'] = 'FLOAT'\n",
      "        sqltype['sqlite'] = 'REAL'\n",
      "    if issubclass(pytype, np.integer):\n",
      "        sqltype['mysql'] = 'BIGINT'\n",
      "        sqltype['sqlite'] = 'INTEGER'\n",
      "    if issubclass(pytype, np.datetime64) or pytype is datetime:\n",
      "        sqltype['mysql'] = 'DATETIME'\n",
      "        sqltype['sqlite'] = 'TIMESTAMP'\n",
      "    if pytype is datetime.date:\n",
      "        sqltype['mysql'] = 'DATE'\n",
      "        sqltype['sqlite'] = 'TIMESTAMP'\n",
      "    if issubclass(pytype, np.bool_):\n",
      "        sqltype['sqlite'] = 'INTEGER'\n",
      "\n",
      "    return sqltype[flavor]\n",
      "\n",
      "sql.get_sqltype = get_sqltype"
     ],
     "language": "python",
     "metadata": {},
     "outputs": [],
     "prompt_number": 9
    },
    {
     "cell_type": "code",
     "collapsed": false,
     "input": [
      "#Write dataframe to mysql database - ONLY NEEDS TO BE DONE ONCE\n",
      "#school_results_fixed.to_sql(con=censusCon, name='school_results', if_exists='replace', flavor='mysql')"
     ],
     "language": "python",
     "metadata": {},
     "outputs": [],
     "prompt_number": 10
    },
    {
     "cell_type": "code",
     "collapsed": false,
     "input": [
      "age_grade = {'4':'PK',\n",
      "             '5':'0K',\n",
      "             '6':'01',\n",
      "             '7':'02',\n",
      "             '8':'03',\n",
      "             '9':'04',\n",
      "             '10':'05',\n",
      "             '11':'06',\n",
      "             '12':'07',\n",
      "             '13':'08',\n",
      "             '14':'09',\n",
      "             '15':'10',\n",
      "             '16':'11',\n",
      "             '17':'12'}\n",
      "\n",
      "age = '7'"
     ],
     "language": "python",
     "metadata": {},
     "outputs": [],
     "prompt_number": 5
    },
    {
     "cell_type": "code",
     "collapsed": false,
     "input": [
      "sql_query = \"SELECT latitude,longitude FROM school_results WHERE GradesFinal LIKE %s\"\n",
      "cursor.execute(sql_query, ('%' + age_grade[age] + '%',))\n",
      "latlng = list(cursor.fetchall())\n",
      "len(latlng)"
     ],
     "language": "python",
     "metadata": {},
     "outputs": [
      {
       "metadata": {},
       "output_type": "pyout",
       "prompt_number": 6,
       "text": [
        "954"
       ]
      }
     ],
     "prompt_number": 6
    },
    {
     "cell_type": "code",
     "collapsed": false,
     "input": [
      "sql_query = \"SELECT * FROM school_results WHERE GradesFinal LIKE %s\"\n",
      "cursor.execute(sql_query, ('%' + age_grade[age] + '%',))\n",
      "latlng = list(cursor.fetchall())\n",
      "latlng[0]"
     ],
     "language": "python",
     "metadata": {},
     "outputs": [
      {
       "metadata": {},
       "output_type": "pyout",
       "prompt_number": 7,
       "text": [
        "(0L,\n",
        " '01M015',\n",
        " 'M015',\n",
        " 'P.S. 015 Roberto Clemente',\n",
        " 310100010015L,\n",
        " 'DOE',\n",
        " 'General Academic',\n",
        " 'Elementary',\n",
        " '0K,01,02,03,04,05,SE',\n",
        " 'PK,0K,01,02,03,04,05',\n",
        " 'Jul 1 1904',\n",
        " 'Open',\n",
        " 'M015',\n",
        " '333 EAST 4 STREET',\n",
        " 'MANHATTAN',\n",
        " 'NY',\n",
        " 10009L,\n",
        " 'IRENE SANCHEZ',\n",
        " 'PRINCIPAL',\n",
        " '212-228-8730',\n",
        " '212-477-0931',\n",
        " 1L,\n",
        " 1L,\n",
        " 'M801',\n",
        " 'COMMUNITY SCHOOL DISTRICT 01',\n",
        " 'PHILLIPS, DANIELLA',\n",
        " 'PHILLIPS, DANIELLA',\n",
        " 'Cluster 02',\n",
        " 'CL02',\n",
        " 'ZAHARAKIS, DESPINA',\n",
        " 'Cluster Leader',\n",
        " '718-281-3272',\n",
        " 'N203',\n",
        " 'CHILDREN FIRST NETWORK 203',\n",
        " 'Feigelson, Daniel',\n",
        " '212-356-3875',\n",
        " 'AF27',\n",
        " None,\n",
        " None,\n",
        " None,\n",
        " None,\n",
        " 'W203',\n",
        " 'Operational Network 203',\n",
        " 'Feigelson, Daniel',\n",
        " '212-356-3875',\n",
        " 'M',\n",
        " 'Manhattan',\n",
        " '333 East 4th Street',\n",
        " 10009L,\n",
        " 'P.S. 015 Roberto Clemente',\n",
        " 'p_s_015_roberto_clemente',\n",
        " 'Manhattan',\n",
        " '40.7217076',\n",
        " '-73.9788702',\n",
        " '[-73.9788702,40.72170759999999]',\n",
        " 'http://schema.org',\n",
        " 'School')"
       ]
      }
     ],
     "prompt_number": 7
    }
   ],
   "metadata": {}
  }
 ]
}