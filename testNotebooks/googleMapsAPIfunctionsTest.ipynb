{
 "metadata": {
  "name": "",
  "signature": "sha256:c216ed16651155884a6d03b9a8c4018bd15a905948e08e42c6e499749991af57"
 },
 "nbformat": 3,
 "nbformat_minor": 0,
 "worksheets": [
  {
   "cells": [
    {
     "cell_type": "code",
     "collapsed": false,
     "input": [
      "#Import packages\n",
      "import urllib\n",
      "import json\n",
      "import re"
     ],
     "language": "python",
     "metadata": {},
     "outputs": [],
     "prompt_number": 1
    },
    {
     "cell_type": "code",
     "collapsed": false,
     "input": [
      "#Read the Google API key stored in a file\n",
      "with open (\"googleAPIkey\", \"r\") as myfile:\n",
      "    googleAPIKey=myfile.readlines()"
     ],
     "language": "python",
     "metadata": {},
     "outputs": [],
     "prompt_number": 2
    },
    {
     "cell_type": "code",
     "collapsed": false,
     "input": [
      "def googleDirections(origin,destination,mode):\n",
      "    \"\"\"This function takes an origin, a destination, and a mode of transportation\n",
      "    and returns a result of a Google directions query as a json dict.\"\"\"\n",
      "    baseURL = 'https://maps.googleapis.com/maps/api/directions/json?'\n",
      "    walkingURL = baseURL + 'origin=' + origin + '&destination=' + destination + '&mode=' + mode\n",
      "    directions = json.loads(urllib.urlopen(walkingURL).read())\n",
      "    return directions"
     ],
     "language": "python",
     "metadata": {},
     "outputs": [],
     "prompt_number": 3
    },
    {
     "cell_type": "code",
     "collapsed": false,
     "input": [
      "#d = googleDirections('35 E 21st St, New York, NY', \n",
      "#                     '308 Hemlock St, Brooklyn, NY', 'walking')"
     ],
     "language": "python",
     "metadata": {},
     "outputs": [],
     "prompt_number": 4
    },
    {
     "cell_type": "code",
     "collapsed": false,
     "input": [
      "def getDirectionsDistance(dirJSON):\n",
      "    \"\"\"This function takes the json output of a googleDirections function call and\n",
      "    parses it to output the reported walking distance as a float.\"\"\"\n",
      "    dist_string = dirJSON['routes'][0]['legs'][0]['distance']['text']\n",
      "    non_decimal = re.compile(r'[^\\d.]+')\n",
      "    dist_float = float(non_decimal.sub('', dist_string))\n",
      "    return dist_float"
     ],
     "language": "python",
     "metadata": {},
     "outputs": [],
     "prompt_number": 5
    },
    {
     "cell_type": "code",
     "collapsed": false,
     "input": [
      "#d_distance = getDirectionsDistance(d)\n",
      "#d_distance"
     ],
     "language": "python",
     "metadata": {},
     "outputs": [],
     "prompt_number": 6
    },
    {
     "cell_type": "code",
     "collapsed": false,
     "input": [
      "def googleNearbyPlacesByKeyword(apiKey, location, radius, keyword):\n",
      "    \"\"\"This function takes an API key, a location, a radius, and a keyword\n",
      "    and returns a result of a Google nearby places query as a json dict.\"\"\"\n",
      "    baseURL = 'https://maps.googleapis.com/maps/api/place/nearbysearch/json?'\n",
      "    nearbyURL = baseURL + 'key=' + apiKey + '&location=' + location + '&radius=' + radius + '&keyword=' + keyword\n",
      "    nearby = json.loads(urllib.urlopen(nearbyURL).read())\n",
      "    return nearby"
     ],
     "language": "python",
     "metadata": {},
     "outputs": [],
     "prompt_number": 7
    },
    {
     "cell_type": "code",
     "collapsed": false,
     "input": [
      "#e = googleNearbyPlacesByKeyword(googleAPIKey[0],'40.6823507,-73.8708103', '2000', 'playground')"
     ],
     "language": "python",
     "metadata": {},
     "outputs": [],
     "prompt_number": 8
    },
    {
     "cell_type": "code",
     "collapsed": false,
     "input": [
      "def getNearbyLatLong(nearbyJSON):\n",
      "    \"\"\"This function takes the json output of a googleNearbyPlacesByKeyword function call and\n",
      "    parses it to output the latitude and longitude of the nearest location.\"\"\"\n",
      "    latlong = e['results'][0]['geometry']['location']\n",
      "    return latlong"
     ],
     "language": "python",
     "metadata": {},
     "outputs": [],
     "prompt_number": 9
    },
    {
     "cell_type": "code",
     "collapsed": false,
     "input": [
      "#print getNearbyLatLong(e)\n",
      "#print getNearbyLatLong(googleNearbyPlacesByKeyword(googleAPIKey[0],'40.6823507,-73.8708103', '2000', 'playground'))"
     ],
     "language": "python",
     "metadata": {},
     "outputs": [],
     "prompt_number": 10
    },
    {
     "cell_type": "code",
     "collapsed": false,
     "input": [
      "def googleGeocoding(address,NYonly=True):\n",
      "    \"\"\"This function takes an address and returns the latitude and longitude from the Google geocoding API.\"\"\"\n",
      "    baseURL = 'http://maps.googleapis.com/maps/api/geocode/json?'\n",
      "    if NYonly == True:\n",
      "        geocodeURL = baseURL + 'address=' + address + '&components=administrative_area:NY|country:US'\n",
      "    elif NYonly == False:\n",
      "        geocodeURL = baseURL + 'address=' + address\n",
      "    else:\n",
      "        print(\"You must specify True or False to limit the search to NY or not.\")\n",
      "        return\n",
      "    geocode = json.loads(urllib.urlopen(geocodeURL).read())\n",
      "    return geocode"
     ],
     "language": "python",
     "metadata": {},
     "outputs": [],
     "prompt_number": 11
    },
    {
     "cell_type": "code",
     "collapsed": false,
     "input": [
      "#f = googleGeocoding('308 Hemlock St, Brooklyn, NY')"
     ],
     "language": "python",
     "metadata": {},
     "outputs": [],
     "prompt_number": 12
    },
    {
     "cell_type": "code",
     "collapsed": false,
     "input": [
      "def getGeocodeLatLong(geocodeJSON):\n",
      "    \"\"\"This function takes the json output of a googleGeocoding function call and\n",
      "    parses it to output the latitude and longitude\"\"\"\n",
      "    latlong = geocodeJSON['results'][0]['geometry']['location']\n",
      "    return latlong"
     ],
     "language": "python",
     "metadata": {},
     "outputs": [],
     "prompt_number": 13
    },
    {
     "cell_type": "code",
     "collapsed": false,
     "input": [
      "#print getGeocodeLatLong(f)\n",
      "#print getGeocodeLatLong(googleGeocoding('308 Hemlock St, Brooklyn, NY'))"
     ],
     "language": "python",
     "metadata": {},
     "outputs": [],
     "prompt_number": 14
    },
    {
     "cell_type": "code",
     "collapsed": false,
     "input": [
      "g = googleGeocoding('stafford ave & Huguenot Ave')"
     ],
     "language": "python",
     "metadata": {},
     "outputs": [],
     "prompt_number": 15
    },
    {
     "cell_type": "code",
     "collapsed": false,
     "input": [
      "g2 = g['results'][0]['geometry']['location']\n",
      "g2"
     ],
     "language": "python",
     "metadata": {},
     "outputs": [
      {
       "metadata": {},
       "output_type": "pyout",
       "prompt_number": 16,
       "text": [
        "{u'lat': 40.5425378, u'lng': -74.19700920000001}"
       ]
      }
     ],
     "prompt_number": 16
    },
    {
     "cell_type": "code",
     "collapsed": false,
     "input": [
      "address = '308 Hemlock St Brooklyn, NY'\n",
      "addressLatLng = getGeocodeLatLong(googleGeocoding(address))\n",
      "addressLatLng['lat']"
     ],
     "language": "python",
     "metadata": {},
     "outputs": [
      {
       "metadata": {},
       "output_type": "pyout",
       "prompt_number": 17,
       "text": [
        "40.68231"
       ]
      }
     ],
     "prompt_number": 17
    },
    {
     "cell_type": "code",
     "collapsed": false,
     "input": [
      "address = '121 saratoga ave Brooklyn, NY'\n",
      "addressLatLng = getGeocodeLatLong(googleGeocoding(address))\n",
      "addressLatLng"
     ],
     "language": "python",
     "metadata": {},
     "outputs": [
      {
       "metadata": {},
       "output_type": "pyout",
       "prompt_number": 18,
       "text": [
        "{u'lat': 40.682234, u'lng': -73.916631}"
       ]
      }
     ],
     "prompt_number": 18
    },
    {
     "cell_type": "code",
     "collapsed": false,
     "input": [
      "address = '1030 86th St Brooklyn, NY'\n",
      "addressLatLng = getGeocodeLatLong(googleGeocoding(address))\n",
      "addressLatLng"
     ],
     "language": "python",
     "metadata": {},
     "outputs": [
      {
       "metadata": {},
       "output_type": "pyout",
       "prompt_number": 19,
       "text": [
        "{u'lat': 40.616748, u'lng': -74.0183885}"
       ]
      }
     ],
     "prompt_number": 19
    }
   ],
   "metadata": {}
  }
 ]
}