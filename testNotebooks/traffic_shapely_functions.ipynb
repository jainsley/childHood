{
 "metadata": {
  "name": "",
  "signature": "sha256:c71e33bf0c07c3cbcc6df4f09de3710847be0072f02daea5654e42d3421038a6"
 },
 "nbformat": 3,
 "nbformat_minor": 0,
 "worksheets": [
  {
   "cells": [
    {
     "cell_type": "code",
     "collapsed": false,
     "input": [
      "#Import json package\n",
      "import json\n",
      "\n",
      "#Read in elementary school geojson file\n",
      "with open('./data/es_zones_2013_2014.geojson') as f:\n",
      "    data = json.load(f)"
     ],
     "language": "python",
     "metadata": {},
     "outputs": [],
     "prompt_number": 1
    },
    {
     "cell_type": "code",
     "collapsed": false,
     "input": [
      "from shapely.geometry import mapping, shape, Polygon, Point\n",
      "\n",
      "s = shape(data['features'][0]['geometry'])"
     ],
     "language": "python",
     "metadata": {},
     "outputs": [],
     "prompt_number": 2
    },
    {
     "cell_type": "code",
     "collapsed": false,
     "input": [
      "#Define a function that generates a random point in a provided polygon.\n",
      "\n",
      "def gen_random_point_in_polygon(poly):\n",
      "    import random\n",
      "    initialX = -9999\n",
      "    initialY = -9999\n",
      "    (minX, minY, maxX, maxY) = poly.bounds\n",
      "    p = Point(initialX, initialY)\n",
      "    while not poly.contains(p):\n",
      "        pX = random.uniform(minX, maxX)\n",
      "        pY = random.uniform(minY, maxY)\n",
      "        p = Point(pX, pY)\n",
      "    return p"
     ],
     "language": "python",
     "metadata": {},
     "outputs": [],
     "prompt_number": 3
    },
    {
     "cell_type": "code",
     "collapsed": false,
     "input": [
      "#Create random points in a polygon, verify they are in the polygon\n",
      "random_points = []\n",
      "\n",
      "for i in range(0, 10):\n",
      "    point_in_poly = gen_random_point_in_polygon(s)\n",
      "    random_points.append(point_in_poly)\n",
      "\n",
      "#for i in random_points:\n",
      "#    print i, s.contains(i)"
     ],
     "language": "python",
     "metadata": {},
     "outputs": [],
     "prompt_number": 4
    },
    {
     "cell_type": "code",
     "collapsed": false,
     "input": [
      "circle = random_points[0].buffer(0.001)\n",
      "print random_points[0]\n",
      "print random_points[1]\n",
      "circle_coords = list(circle.exterior.coords)\n",
      "\n",
      "#for i in random_points:\n",
      "#    print s.contains(i)"
     ],
     "language": "python",
     "metadata": {},
     "outputs": [
      {
       "output_type": "stream",
       "stream": "stdout",
       "text": [
        "POINT (-74.00379379473644 40.60423791964539)\n",
        "POINT (-74.00520416477323 40.602256098737)\n"
       ]
      }
     ],
     "prompt_number": 5
    },
    {
     "cell_type": "code",
     "collapsed": false,
     "input": [
      "def euc_dist(point1, point2):\n",
      "    dist = sqrt( (point2[0] - point1[0])**2 + (point2[1] - point1[1])**2 )\n",
      "    return dist"
     ],
     "language": "python",
     "metadata": {},
     "outputs": [],
     "prompt_number": 6
    },
    {
     "cell_type": "code",
     "collapsed": false,
     "input": [
      "import utm\n",
      "\n",
      "random_UTM = []\n",
      "\n",
      "for idx, var in enumerate(random_points):\n",
      "    pt = [random_points[idx].y,random_points[idx].x]\n",
      "    random_UTM.append(utm.from_latlon(*pt))"
     ],
     "language": "python",
     "metadata": {},
     "outputs": [],
     "prompt_number": 8
    },
    {
     "cell_type": "code",
     "collapsed": false,
     "input": [
      "import utm\n",
      "\n",
      "random_points2 = []\n",
      "\n",
      "for idx, var in enumerate(random_UTM):\n",
      "    pt = utm.to_latlon(*var)\n",
      "    spt = Point(pt[1], pt[0])\n",
      "    random_points2.append(spt)\n",
      "\n",
      "#random_points2\n",
      "\n",
      "#for i in random_points2:\n",
      "#    print i, s.contains(i)"
     ],
     "language": "python",
     "metadata": {},
     "outputs": [],
     "prompt_number": 9
    },
    {
     "cell_type": "code",
     "collapsed": false,
     "input": [
      "import sys, getopt, pymongo\n",
      "import MySQLdb as mdb\n",
      "from pymongo import MongoClient\n",
      "\n",
      "#Create a connection to a mongoDB\n",
      "client = MongoClient()\n",
      "db = client.schoolDB\n",
      "\n",
      "query = {'geometry' : { '$geoIntersects':{ '$geometry':{'type':'LineString', \n",
      "                                                        'coordinates':[[-74.19728429999999, 40.5432265], \n",
      "                                                                       [-74.19700920000001, 40.5425378]]\n",
      "                                                        }}}}\n",
      "\n",
      "for item in db.es_zones.find(query):\n",
      "    print item['properties']['dbn']"
     ],
     "language": "python",
     "metadata": {},
     "outputs": [
      {
       "output_type": "stream",
       "stream": "stdout",
       "text": [
        "31R036\n"
       ]
      }
     ],
     "prompt_number": 25
    },
    {
     "cell_type": "code",
     "collapsed": false,
     "input": [
      "def traffic_query(intersections):\n",
      "    full_entry = []\n",
      "    query_dbn = []\n",
      "    for item in db.es_zones.find(query):\n",
      "        query_dbn.append(item['properties']['dbn'])\n",
      "        full_entry.append(item)\n",
      "    for item in db.ms_zones.find(query):\n",
      "        query_dbn.append(item['properties']['dbn'])\n",
      "        full_entry.append(item)\n",
      "    #For high schools, use a separate google maps API query to find the nearest option\n",
      "    #for item in db.hs_zones.find(query):\n",
      "    #    query_dbn.append(item['properties']['dbn'])\n",
      "    #    full_entry.append(item)\n",
      "    return full_entry, query_dbn"
     ],
     "language": "python",
     "metadata": {},
     "outputs": [],
     "prompt_number": 26
    },
    {
     "cell_type": "code",
     "collapsed": false,
     "input": [
      "import numpy as np\n",
      "import matplotlib.pyplot as plt\n",
      "import shapely.geometry\n",
      "import descartes\n",
      "\n",
      "circle = shapely.geometry.Point(5.0, 0.0).buffer(10.0)\n",
      "clip_poly = shapely.geometry.Polygon([[-9.5, -2], [2, 2], [3, 4], [-1, 3]])\n",
      "clipped_shape = circle.difference(clip_poly)\n",
      "\n",
      "line = shapely.geometry.LineString([[-10, -5], [15, 5]])\n",
      "line2 = shapely.geometry.LineString([[-10, -5], [-5, 0], [2, 3]])\n",
      "\n",
      "print 'Blue line intersects clipped shape:', line.intersects(clipped_shape)\n",
      "print 'Green line intersects clipped shape:', line2.intersects(clipped_shape)\n",
      "\n",
      "fig = plt.figure()\n",
      "ax = fig.add_subplot(111)\n",
      "\n",
      "ax.plot(*np.array(line).T, color='blue', linewidth=3, solid_capstyle='round')\n",
      "ax.plot(*np.array(line2).T, color='green', linewidth=3, solid_capstyle='round')\n",
      "ax.add_patch(descartes.PolygonPatch(clipped_shape, fc='blue', alpha=0.5))\n",
      "ax.axis('equal')\n",
      "\n",
      "plt.show()"
     ],
     "language": "python",
     "metadata": {},
     "outputs": [
      {
       "output_type": "stream",
       "stream": "stdout",
       "text": [
        "Blue line intersects clipped shape: True\n",
        "Green line intersects clipped shape: False\n"
       ]
      }
     ],
     "prompt_number": 12
    },
    {
     "cell_type": "code",
     "collapsed": false,
     "input": [
      "#Import functions for Google API\n",
      "import googleAPIFunctions as gf\n",
      "\n",
      "import MySQLdb as db\n",
      "from shapely.geometry import mapping, shape, Polygon, Point\n",
      "import utm\n",
      "import shapely\n",
      "\n",
      "#Open connection to mysql database\n",
      "censusCon = db.connect('localhost','','','censusdb')\n",
      "cursor = censusCon.cursor()"
     ],
     "language": "python",
     "metadata": {},
     "outputs": [],
     "prompt_number": 2
    },
    {
     "cell_type": "code",
     "collapsed": false,
     "input": [
      "#Define a function to convert lat long coordinates to UTM coordinates\n",
      "\n",
      "def UTMconvert(points):\n",
      "    import utm\n",
      "\n",
      "    UTMpoints = []\n",
      "\n",
      "    pt = [points.x, points.y]\n",
      "    UTMpoints.append(utm.from_latlon(*pt))\n",
      "\n",
      "    return UTMpoints"
     ],
     "language": "python",
     "metadata": {},
     "outputs": [],
     "prompt_number": 3
    },
    {
     "cell_type": "code",
     "collapsed": false,
     "input": [
      "#Define a function to convert UTM coordinates to lat long coordinates\n",
      "\n",
      "def LatLngConvert(UTMpoints):\n",
      "    import utm\n",
      "\n",
      "    points = []\n",
      "\n",
      "    pt = utm.to_latlon([UTMpoints[1], UTMpoints[0]])\n",
      "    spt = Point(pt[1], pt[0])\n",
      "    points.append(spt)\n",
      "    \n",
      "    return points"
     ],
     "language": "python",
     "metadata": {},
     "outputs": [],
     "prompt_number": 4
    },
    {
     "cell_type": "code",
     "collapsed": false,
     "input": [
      "cursor.execute(\"SELECT z_score,line FROM traffic\")\n",
      "trafficZscores = list(cursor.fetchall())"
     ],
     "language": "python",
     "metadata": {},
     "outputs": [],
     "prompt_number": 5
    },
    {
     "cell_type": "code",
     "collapsed": false,
     "input": [
      "trafficZscores[0:5]"
     ],
     "language": "python",
     "metadata": {},
     "outputs": [
      {
       "metadata": {},
       "output_type": "pyout",
       "prompt_number": 10,
       "text": [
        "[(-0.0618146, '[[40.543227, -74.197284], [40.542538, -74.197009]]'),\n",
        " (0.227002, '[[40.575626, -74.147869], [40.580611, -74.15248]]'),\n",
        " (-0.177239, '[[40.575446, -74.126889], [40.575716, -74.126034]]'),\n",
        " (-0.525325, '[[40.603726, -74.105751], [40.603375, -74.104728]]'),\n",
        " (-0.559378, '[[40.610864, -74.100428], [40.611179, -74.105599]]')]"
       ]
      }
     ],
     "prompt_number": 10
    },
    {
     "cell_type": "code",
     "collapsed": false,
     "input": [
      "#address = '308 hemlock st brooklyn, ny'\n",
      "#address = '121 saratoga ave brooklyn NY'\n",
      "#address = '1030 86th St Brooklyn, NY'\n",
      "#address = '353 Broadway Brooklyn, NY'\n",
      "address = '35 E 21st St New York, NY'\n",
      "address = 'Van Wyck and JFK Expressway Jamaica, NY 11430'\n",
      "\n",
      "addressLatLng = gf.getGeocodeLatLong(gf.googleGeocoding(address))\n",
      "pointLatLng = Point(addressLatLng['lat'], addressLatLng['lng'])\n",
      "\n",
      "addressUTM = UTMconvert(pointLatLng)\n",
      "addressCircleUTM = Point(addressUTM).buffer(2000)\n",
      "\n",
      "addressCircle = []\n",
      "\n",
      "for i in list(addressCircleUTM.exterior.coords):\n",
      "    cPt = utm.to_latlon(i[0], i[1], list(addressUTM)[0][2], list(addressUTM)[0][3])\n",
      "    addressCircle.append(cPt)\n",
      "    \n",
      "addressPoly = Polygon(addressCircle)\n",
      "\n",
      "nearbyTraffic = []\n",
      "\n",
      "for idx, var in enumerate(trafficZscores):\n",
      "    if var[1] != None:\n",
      "        line = shapely.geometry.LineString(eval(trafficZscores[idx][1]))\n",
      "        if line.intersects(addressPoly):\n",
      "            nearbyTraffic.append(var)\n",
      "            \n",
      "zSum = 0\n",
      "\n",
      "for i in nearbyTraffic:\n",
      "    zSum = zSum + i[0]\n",
      "\n",
      "zMean = zSum / len(nearbyTraffic)\n",
      "\n",
      "#Convert z score to percentile rank\n",
      "import scipy.stats as st\n",
      "#st.norm.ppf(.95) p-value to z-score\n",
      "int(round(st.norm.cdf(zMean) * 100, 0))"
     ],
     "language": "python",
     "metadata": {},
     "outputs": [
      {
       "ename": "ZeroDivisionError",
       "evalue": "integer division or modulo by zero",
       "output_type": "pyerr",
       "traceback": [
        "\u001b[1;31m---------------------------------------------------------------------------\u001b[0m\n\u001b[1;31mZeroDivisionError\u001b[0m                         Traceback (most recent call last)",
        "\u001b[1;32m<ipython-input-5-651efeb15106>\u001b[0m in \u001b[0;36m<module>\u001b[1;34m()\u001b[0m\n\u001b[0;32m     33\u001b[0m     \u001b[0mzSum\u001b[0m \u001b[1;33m=\u001b[0m \u001b[0mzSum\u001b[0m \u001b[1;33m+\u001b[0m \u001b[0mi\u001b[0m\u001b[1;33m[\u001b[0m\u001b[1;36m0\u001b[0m\u001b[1;33m]\u001b[0m\u001b[1;33m\u001b[0m\u001b[0m\n\u001b[0;32m     34\u001b[0m \u001b[1;33m\u001b[0m\u001b[0m\n\u001b[1;32m---> 35\u001b[1;33m \u001b[0mzMean\u001b[0m \u001b[1;33m=\u001b[0m \u001b[0mzSum\u001b[0m \u001b[1;33m/\u001b[0m \u001b[0mlen\u001b[0m\u001b[1;33m(\u001b[0m\u001b[0mnearbyTraffic\u001b[0m\u001b[1;33m)\u001b[0m\u001b[1;33m\u001b[0m\u001b[0m\n\u001b[0m\u001b[0;32m     36\u001b[0m \u001b[1;33m\u001b[0m\u001b[0m\n\u001b[0;32m     37\u001b[0m \u001b[1;31m#Convert z score to percentile rank\u001b[0m\u001b[1;33m\u001b[0m\u001b[1;33m\u001b[0m\u001b[0m\n",
        "\u001b[1;31mZeroDivisionError\u001b[0m: integer division or modulo by zero"
       ]
      }
     ],
     "prompt_number": 5
    },
    {
     "cell_type": "code",
     "collapsed": false,
     "input": [],
     "language": "python",
     "metadata": {},
     "outputs": []
    },
    {
     "cell_type": "code",
     "collapsed": false,
     "input": [
      "nearbyTraffic"
     ],
     "language": "python",
     "metadata": {},
     "outputs": [
      {
       "metadata": {},
       "output_type": "pyout",
       "prompt_number": 6,
       "text": [
        "[]"
       ]
      }
     ],
     "prompt_number": 6
    }
   ],
   "metadata": {}
  }
 ]
}